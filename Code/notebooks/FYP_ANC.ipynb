{
 "cells": [
  {
   "cell_type": "markdown",
   "metadata": {
    "id": "ZrnsaBneePT3"
   },
   "source": [
    "# Message Concealment Scheme - Text"
   ]
  },
  {
   "cell_type": "markdown",
   "metadata": {
    "id": "rEMLAxHwj3Ms"
   },
   "source": [
    "## Libraries and initial setup"
   ]
  },
  {
   "cell_type": "code",
   "execution_count": 1,
   "metadata": {
    "colab": {
     "base_uri": "https://localhost:8080/"
    },
    "id": "cjUPiz1wfsRN",
    "outputId": "b996be0d-f4c7-484f-8128-b9a1218a26ba"
   },
   "outputs": [
    {
     "name": "stdout",
     "output_type": "stream",
     "text": [
      "Requirement already satisfied: gmpy2 in /opt/anaconda3/envs/tensor_env/lib/python3.6/site-packages (2.0.8)\n",
      "Requirement already satisfied: tensorflow in /opt/anaconda3/envs/tensor_env/lib/python3.6/site-packages (2.0.0)\n",
      "Requirement already satisfied: wheel>=0.26 in /opt/anaconda3/envs/tensor_env/lib/python3.6/site-packages (from tensorflow) (0.37.0)\n",
      "Requirement already satisfied: tensorflow-estimator<2.1.0,>=2.0.0 in /opt/anaconda3/envs/tensor_env/lib/python3.6/site-packages (from tensorflow) (2.0.0)\n",
      "Requirement already satisfied: google-pasta>=0.1.6 in /opt/anaconda3/envs/tensor_env/lib/python3.6/site-packages (from tensorflow) (0.2.0)\n",
      "Requirement already satisfied: grpcio>=1.8.6 in /opt/anaconda3/envs/tensor_env/lib/python3.6/site-packages (from tensorflow) (1.36.1)\n",
      "Requirement already satisfied: absl-py>=0.7.0 in /opt/anaconda3/envs/tensor_env/lib/python3.6/site-packages (from tensorflow) (0.15.0)\n",
      "Requirement already satisfied: keras-applications>=1.0.8 in /opt/anaconda3/envs/tensor_env/lib/python3.6/site-packages (from tensorflow) (1.0.8)\n",
      "Requirement already satisfied: keras-preprocessing>=1.0.5 in /opt/anaconda3/envs/tensor_env/lib/python3.6/site-packages (from tensorflow) (1.1.2)\n",
      "Requirement already satisfied: opt-einsum>=2.3.2 in /opt/anaconda3/envs/tensor_env/lib/python3.6/site-packages (from tensorflow) (3.3.0)\n",
      "Requirement already satisfied: six>=1.10.0 in /opt/anaconda3/envs/tensor_env/lib/python3.6/site-packages (from tensorflow) (1.16.0)\n",
      "Requirement already satisfied: tensorboard<2.1.0,>=2.0.0 in /opt/anaconda3/envs/tensor_env/lib/python3.6/site-packages (from tensorflow) (2.0.0)\n",
      "Requirement already satisfied: wrapt>=1.11.1 in /opt/anaconda3/envs/tensor_env/lib/python3.6/site-packages (from tensorflow) (1.13.3)\n",
      "Requirement already satisfied: protobuf>=3.6.1 in /opt/anaconda3/envs/tensor_env/lib/python3.6/site-packages (from tensorflow) (3.17.2)\n",
      "Requirement already satisfied: numpy<2.0,>=1.16.0 in /opt/anaconda3/envs/tensor_env/lib/python3.6/site-packages (from tensorflow) (1.19.2)\n",
      "Requirement already satisfied: astor>=0.6.0 in /opt/anaconda3/envs/tensor_env/lib/python3.6/site-packages (from tensorflow) (0.8.1)\n",
      "Requirement already satisfied: termcolor>=1.1.0 in /opt/anaconda3/envs/tensor_env/lib/python3.6/site-packages (from tensorflow) (1.1.0)\n",
      "Requirement already satisfied: gast==0.2.2 in /opt/anaconda3/envs/tensor_env/lib/python3.6/site-packages (from tensorflow) (0.2.2)\n",
      "Requirement already satisfied: h5py in /opt/anaconda3/envs/tensor_env/lib/python3.6/site-packages (from keras-applications>=1.0.8->tensorflow) (2.10.0)\n",
      "Requirement already satisfied: markdown>=2.6.8 in /opt/anaconda3/envs/tensor_env/lib/python3.6/site-packages (from tensorboard<2.1.0,>=2.0.0->tensorflow) (3.3.4)\n",
      "Requirement already satisfied: werkzeug>=0.11.15 in /opt/anaconda3/envs/tensor_env/lib/python3.6/site-packages (from tensorboard<2.1.0,>=2.0.0->tensorflow) (2.0.2)\n",
      "Requirement already satisfied: setuptools>=41.0.0 in /opt/anaconda3/envs/tensor_env/lib/python3.6/site-packages (from tensorboard<2.1.0,>=2.0.0->tensorflow) (58.0.4)\n",
      "Requirement already satisfied: importlib-metadata in /opt/anaconda3/envs/tensor_env/lib/python3.6/site-packages (from markdown>=2.6.8->tensorboard<2.1.0,>=2.0.0->tensorflow) (4.8.1)\n",
      "Requirement already satisfied: dataclasses in /opt/anaconda3/envs/tensor_env/lib/python3.6/site-packages (from werkzeug>=0.11.15->tensorboard<2.1.0,>=2.0.0->tensorflow) (0.8)\n",
      "Requirement already satisfied: typing-extensions>=3.6.4 in /opt/anaconda3/envs/tensor_env/lib/python3.6/site-packages (from importlib-metadata->markdown>=2.6.8->tensorboard<2.1.0,>=2.0.0->tensorflow) (3.10.0.2)\n",
      "Requirement already satisfied: zipp>=0.5 in /opt/anaconda3/envs/tensor_env/lib/python3.6/site-packages (from importlib-metadata->markdown>=2.6.8->tensorboard<2.1.0,>=2.0.0->tensorflow) (3.6.0)\n"
     ]
    }
   ],
   "source": [
    "!pip3 install gmpy2\n",
    "!pip3 install tensorflow\n",
    "\n",
    "%matplotlib inline\n",
    "\n",
    "import ctypes\n",
    "import gmpy2\n",
    "from gmpy2 import mpz\n",
    "import matplotlib\n",
    "import matplotlib.pyplot as plt\n",
    "import numpy as np\n",
    "import pandas as pd\n",
    "import sys"
   ]
  },
  {
   "cell_type": "code",
   "execution_count": 20,
   "metadata": {},
   "outputs": [],
   "source": [
    "# !pip install --upgrade tensorflow\n",
    "# !pip install --upgrade tensorflow-gpu\n",
    "# !pip install keras==2.3.1\n",
    "\n"
   ]
  },
  {
   "cell_type": "code",
   "execution_count": 3,
   "metadata": {
    "id": "yUw_sMIefTfz"
   },
   "outputs": [
    {
     "name": "stderr",
     "output_type": "stream",
     "text": [
      "Using TensorFlow backend.\n"
     ]
    }
   ],
   "source": [
    "from keras import backend as K\n",
    "from keras.models import Model\n",
    "from keras.engine.input_layer import Input\n",
    "from keras.layers.core import Activation, Dense\n",
    "from keras.layers import Flatten, Reshape\n",
    "from keras.layers.convolutional import Conv1D\n",
    "from keras.layers.merge import concatenate\n",
    "from keras.optimizers import Adam, RMSprop\n",
    "# from tensorflow.keras.optimizers import RMSprop\n",
    "from keras.models import load_model"
   ]
  },
  {
   "cell_type": "code",
   "execution_count": 22,
   "metadata": {
    "id": "3OQk-9HFeqr9"
   },
   "outputs": [],
   "source": [
    "# Set up the crypto parameters: message, key, and ciphertext bit lengths\n",
    "m_bits = 16\n",
    "k_bits = 16\n",
    "c_bits = 16\n",
    "pad = 'same'"
   ]
  },
  {
   "cell_type": "code",
   "execution_count": 23,
   "metadata": {
    "id": "kNzkiosaiBBa"
   },
   "outputs": [],
   "source": [
    "def random_batch(X_train, y_train, batch_size):\n",
    "    index_set = np.random.randint(0, X_train.shape[0], batch_size)\n",
    "    X_batch = X_train[index_set]\n",
    "    y_batch = y_train[index_set]\n",
    "    return X_batch, y_batch"
   ]
  },
  {
   "cell_type": "markdown",
   "metadata": {
    "id": "I1vGpgpVbt2d"
   },
   "source": [
    "## Model Building"
   ]
  },
  {
   "cell_type": "markdown",
   "metadata": {
    "id": "5I5rh1dLet_v"
   },
   "source": [
    "### Alice"
   ]
  },
  {
   "cell_type": "code",
   "execution_count": 29,
   "metadata": {
    "id": "lzyQtOnge1iq"
   },
   "outputs": [],
   "source": [
    "ainput0 = Input(shape=(m_bits,)) #message\n",
    "ainput1 = Input(shape=(k_bits,)) #key\n",
    "ainput = concatenate([ainput0, ainput1], axis=1)\n",
    "\n",
    "adense1 = Dense(units=(m_bits + k_bits))(ainput)\n",
    "adense1a = Activation('relu')(adense1)\n",
    "areshape = Reshape((m_bits + k_bits, 1,))(adense1a)\n",
    "\n",
    "aconv1 = Conv1D(filters=2, kernel_size=4, strides=1, padding=pad)(areshape)\n",
    "aconv1a = Activation('sigmoid')(aconv1)\n",
    "aconv2 = Conv1D(filters=4, kernel_size=2, strides=2, padding=pad)(aconv1a)\n",
    "aconv2a = Activation('sigmoid')(aconv2)\n",
    "aconv3 = Conv1D(filters=4, kernel_size=1, strides=1, padding=pad)(aconv2a)\n",
    "aconv3a = Activation('sigmoid')(aconv3)\n",
    "aconv4 = Conv1D(filters=1, kernel_size=1, strides=1, padding=pad)(aconv3a)\n",
    "aconv4a = Activation('tanh')(aconv4)\n",
    "\n",
    "aoutput = Flatten()(aconv4a)\n",
    "\n",
    "alice = Model([ainput0, ainput1], aoutput, name='alice')\n",
    "# alice.summary()\n"
   ]
  },
  {
   "cell_type": "markdown",
   "metadata": {
    "id": "PVUqG45EhHtH"
   },
   "source": [
    "### Bob"
   ]
  },
  {
   "cell_type": "code",
   "execution_count": 30,
   "metadata": {
    "id": "tB__Ro0EhLn7"
   },
   "outputs": [],
   "source": [
    "binput0 = Input(shape=(c_bits,)) #ciphertext\n",
    "binput1 = Input(shape=(k_bits,)) #key\n",
    "binput = concatenate([binput0, binput1], axis=1)\n",
    "\n",
    "bdense1 = Dense(units=(c_bits + k_bits))(binput)\n",
    "bdense1a = Activation('relu')(bdense1)\n",
    "\n",
    "breshape = Reshape((c_bits + k_bits, 1,))(bdense1a)\n",
    "\n",
    "bconv1 = Conv1D(filters=2, kernel_size=4, strides=1, padding=pad)(breshape)\n",
    "bconv1a = Activation('sigmoid')(bconv1)\n",
    "bconv2 = Conv1D(filters=4, kernel_size=2, strides=2, padding=pad)(bconv1a)\n",
    "bconv2a = Activation('sigmoid')(bconv2)\n",
    "bconv3 = Conv1D(filters=4, kernel_size=1, strides=1, padding=pad)(bconv2a)\n",
    "bconv3a = Activation('sigmoid')(bconv3)\n",
    "bconv4 = Conv1D(filters=1, kernel_size=1, strides=1, padding=pad)(bconv3a)\n",
    "bconv4a = Activation('tanh')(bconv4)\n",
    "\n",
    "boutput = Flatten()(bconv4a)\n",
    "\n",
    "bob = Model([binput0, binput1], boutput, name='bob')\n",
    "\n",
    "# bob.summary()"
   ]
  },
  {
   "cell_type": "markdown",
   "metadata": {
    "id": "kbVm4LjciLfD"
   },
   "source": [
    "### Eve"
   ]
  },
  {
   "cell_type": "code",
   "execution_count": 31,
   "metadata": {
    "id": "HWvceM3WiNRY"
   },
   "outputs": [],
   "source": [
    "einput = Input(shape=(c_bits,)) #ciphertext only\n",
    "\n",
    "edense1 = Dense(units=(c_bits + k_bits))(einput)\n",
    "edense1a = Activation('relu')(edense1)\n",
    "\n",
    "edense2 = Dense(units=(c_bits + k_bits))(edense1a)\n",
    "edense2a = Activation('relu')(edense2)\n",
    "\n",
    "ereshape = Reshape((c_bits + k_bits, 1,))(edense2a)\n",
    "\n",
    "econv1 = Conv1D(filters=2, kernel_size=4, strides=1, padding=pad)(ereshape)\n",
    "econv1a = Activation('sigmoid')(econv1)\n",
    "econv2 = Conv1D(filters=4, kernel_size=2, strides=2, padding=pad)(econv1a)\n",
    "econv2a = Activation('sigmoid')(econv2)\n",
    "econv3 = Conv1D(filters=4, kernel_size=1, strides=1, padding=pad)(econv2a)\n",
    "econv3a = Activation('sigmoid')(econv3)\n",
    "econv4 = Conv1D(filters=1, kernel_size=1, strides=1, padding=pad)(econv3a)\n",
    "econv4a = Activation('tanh')(econv4)\n",
    "\n",
    "eoutput = Flatten()(econv4a)# Eve's attempt at code guessing\n",
    "\n",
    "eve = Model(einput, eoutput, name='eve')\n",
    "\n",
    "# eve.summary()"
   ]
  },
  {
   "cell_type": "code",
   "execution_count": 32,
   "metadata": {
    "id": "m-ewoDhiigTK"
   },
   "outputs": [],
   "source": [
    "alice.compile(loss='mse', optimizer='sgd')\n",
    "bob.compile(loss='mse', optimizer='sgd')\n",
    "eve.compile(loss='mse', optimizer='sgd')"
   ]
  },
  {
   "cell_type": "code",
   "execution_count": 28,
   "metadata": {},
   "outputs": [],
   "source": [
    "# !pip install pydot\n",
    "\n",
    "# from keras.utils import plot_model\n",
    "\n",
    "# plot_model(model=alice)"
   ]
  },
  {
   "cell_type": "markdown",
   "metadata": {
    "id": "VOBVEuhsiovA"
   },
   "source": [
    "## Loss Functions and Optimizers"
   ]
  },
  {
   "cell_type": "code",
   "execution_count": 33,
   "metadata": {
    "id": "dxk9br_Yi52A"
   },
   "outputs": [],
   "source": [
    "m_train = 2**(m_bits) #+ k_bits)\n",
    "# alice = load_model('../models/alice.h5')\n",
    "# bob = load_model('../models/bob.h5')\n",
    "# eve = load_model('../models/eve.h5')"
   ]
  },
  {
   "cell_type": "code",
   "execution_count": 34,
   "metadata": {
    "colab": {
     "base_uri": "https://localhost:8080/"
    },
    "id": "NuNX_s0jijDN",
    "outputId": "13d2e9f8-c627-4d04-a9f4-02a33280b764"
   },
   "outputs": [
    {
     "name": "stderr",
     "output_type": "stream",
     "text": [
      "/opt/anaconda3/envs/tensor_env/lib/python3.6/site-packages/keras/engine/training_utils.py:819: UserWarning: Output bob missing from loss dictionary. We assume this was done on purpose. The fit and evaluate APIs will not be expecting any data to be passed to bob.\n",
      "  'be expecting any data to be passed to {0}.'.format(name))\n",
      "/opt/anaconda3/envs/tensor_env/lib/python3.6/site-packages/keras/engine/training_utils.py:819: UserWarning: Output eve missing from loss dictionary. We assume this was done on purpose. The fit and evaluate APIs will not be expecting any data to be passed to eve.\n",
      "  'be expecting any data to be passed to {0}.'.format(name))\n"
     ]
    }
   ],
   "source": [
    "# Establish the communication channels by linking inputs to outputs\n",
    "#\n",
    "aliceout = alice([ainput0, ainput1])\n",
    "bobout = bob( [aliceout, binput1] )# bob sees ciphertext AND key\n",
    "eveout = eve( aliceout )# eve doesn't see the key, only the cipher\n",
    "\n",
    "# Loss for Eve is just L1 distance between ainput0 and eoutput. The sum\n",
    "# is taken over all the bits in the message. The quantity inside the K.mean()\n",
    "# is per-example loss. We take the average across the entire mini-batch\n",
    "#\n",
    "eveloss = K.mean(  K.sum(K.abs(ainput0 - eveout), axis=-1)  )\n",
    "\n",
    "# Loss for Alice-Bob communication depends on Bob's reconstruction, but\n",
    "# also on Eve's ability to decrypt the message. Eve should do no better\n",
    "# than random guessing, so on average she will guess half the bits right.\n",
    "#\n",
    "bobloss = K.mean(  K.sum(K.abs(ainput0 - bobout), axis=-1)  )\n",
    "abeloss = bobloss + K.square(m_bits/2 - eveloss)/( (m_bits//2)**2 )\n",
    "\n",
    "# Optimizer and compilation\n",
    "#\n",
    "abeoptim = RMSprop(lr=0.001)\n",
    "eveoptim = RMSprop(lr=0.001) #default 0.001\n",
    "\n",
    "\n",
    "# Build and compile the ABE model, used for training Alice-Bob networks\n",
    "#\n",
    "abemodel = Model([ainput0, ainput1, binput1], bobout, name='abemodel')\n",
    "abemodel.add_loss(abeloss)\n",
    "abemodel.compile(optimizer=abeoptim)\n",
    "\n",
    "\n",
    "# Build and compile the EVE model, used for training Eve net (with Alice frozen)\n",
    "#\n",
    "alice.trainable = False\n",
    "evemodel = Model([ainput0, ainput1], eveout, name='evemodel')\n",
    "evemodel.add_loss(eveloss)\n",
    "evemodel.compile(optimizer=eveoptim)"
   ]
  },
  {
   "cell_type": "markdown",
   "metadata": {
    "id": "YRPX6XcP8Th4"
   },
   "source": []
  },
  {
   "cell_type": "markdown",
   "metadata": {
    "id": "pNs8-Q1sykzK"
   },
   "source": [
    "## Training and Dump"
   ]
  },
  {
   "cell_type": "code",
   "execution_count": 38,
   "metadata": {
    "id": "vIkWl1iTyxOi"
   },
   "outputs": [],
   "source": [
    "abelosses = []\n",
    "boblosses = []\n",
    "evelosses = []\n",
    "\n",
    "alice = load_model('../models/alice.h5')\n",
    "bob = load_model('../models/bob.h5')\n",
    "eve = load_model('../models/eve.h5')"
   ]
  },
  {
   "cell_type": "code",
   "execution_count": 37,
   "metadata": {
    "colab": {
     "base_uri": "https://localhost:8080/"
    },
    "id": "GTs9V14kyy9r",
    "outputId": "a5379ee8-acb5-475f-ad6a-74885ed150ff"
   },
   "outputs": [
    {
     "name": "stdout",
     "output_type": "stream",
     "text": [
      "Training for 120 epochs with 128 batches of size 512\n",
      "Epoch   0:  99% | abe: 1.020 | eve: 0.165 | bob: 0.043\n",
      "Epoch   1:  99% | abe: 1.014 | eve: 0.152 | bob: 0.043\n",
      "Epoch   2:  99% | abe: 1.011 | eve: 0.149 | bob: 0.043\n",
      "Epoch   3:  99% | abe: 1.009 | eve: 0.148 | bob: 0.043\n",
      "Epoch   4:  99% | abe: 1.007 | eve: 0.141 | bob: 0.043\n",
      "Epoch   5:  99% | abe: 1.006 | eve: 0.150 | bob: 0.043\n",
      "Epoch   6:  99% | abe: 1.001 | eve: 0.171 | bob: 0.043\n",
      "Epoch   7:  99% | abe: 0.997 | eve: 0.200 | bob: 0.042\n",
      "Epoch   8:  99% | abe: 0.989 | eve: 0.228 | bob: 0.043\n",
      "Epoch   9:  99% | abe: 0.983 | eve: 0.270 | bob: 0.043\n",
      "Epoch  10:  99% | abe: 0.975 | eve: 0.298 | bob: 0.042\n",
      "Epoch  11:  99% | abe: 0.964 | eve: 0.296 | bob: 0.042\n",
      "Epoch  12:  99% | abe: 0.962 | eve: 0.324 | bob: 0.042\n",
      "Epoch  13:  99% | abe: 0.960 | eve: 0.352 | bob: 0.043\n",
      "Epoch  14:  99% | abe: 0.960 | eve: 0.374 | bob: 0.043\n",
      "Epoch  15:  99% | abe: 0.958 | eve: 0.387 | bob: 0.043\n",
      "Epoch  16:  99% | abe: 0.950 | eve: 0.375 | bob: 0.043\n",
      "Epoch  17:  99% | abe: 0.946 | eve: 0.381 | bob: 0.043\n",
      "Epoch  18:  99% | abe: 0.945 | eve: 0.390 | bob: 0.043\n",
      "Epoch  19:  99% | abe: 0.938 | eve: 0.416 | bob: 0.042\n",
      "Epoch  20:  56% | abe: 0.936 | eve: 0.482 | bob: 0.043"
     ]
    },
    {
     "ename": "KeyboardInterrupt",
     "evalue": "",
     "output_type": "error",
     "traceback": [
      "\u001b[0;31m---------------------------------------------------------------------------\u001b[0m",
      "\u001b[0;31mKeyboardInterrupt\u001b[0m                         Traceback (most recent call last)",
      "\u001b[0;32m<ipython-input-37-5e57866459e2>\u001b[0m in \u001b[0;36m<module>\u001b[0;34m\u001b[0m\n\u001b[1;32m     31\u001b[0m         \u001b[0;31m# Evaluate Bob's ability to decrypt a message\u001b[0m\u001b[0;34m\u001b[0m\u001b[0;34m\u001b[0m\u001b[0;34m\u001b[0m\u001b[0m\n\u001b[1;32m     32\u001b[0m         \u001b[0mm_enc\u001b[0m \u001b[0;34m=\u001b[0m \u001b[0malice\u001b[0m\u001b[0;34m.\u001b[0m\u001b[0mpredict\u001b[0m\u001b[0;34m(\u001b[0m\u001b[0;34m[\u001b[0m\u001b[0mm_batch\u001b[0m\u001b[0;34m,\u001b[0m \u001b[0mk_batch\u001b[0m\u001b[0;34m]\u001b[0m\u001b[0;34m)\u001b[0m\u001b[0;34m\u001b[0m\u001b[0;34m\u001b[0m\u001b[0m\n\u001b[0;32m---> 33\u001b[0;31m         \u001b[0mm_dec\u001b[0m \u001b[0;34m=\u001b[0m \u001b[0mbob\u001b[0m\u001b[0;34m.\u001b[0m\u001b[0mpredict\u001b[0m\u001b[0;34m(\u001b[0m\u001b[0;34m[\u001b[0m\u001b[0mm_enc\u001b[0m\u001b[0;34m,\u001b[0m \u001b[0mk_batch\u001b[0m\u001b[0;34m]\u001b[0m\u001b[0;34m)\u001b[0m\u001b[0;34m\u001b[0m\u001b[0;34m\u001b[0m\u001b[0m\n\u001b[0m\u001b[1;32m     34\u001b[0m         \u001b[0mloss\u001b[0m \u001b[0;34m=\u001b[0m \u001b[0mnp\u001b[0m\u001b[0;34m.\u001b[0m\u001b[0mmean\u001b[0m\u001b[0;34m(\u001b[0m  \u001b[0mnp\u001b[0m\u001b[0;34m.\u001b[0m\u001b[0msum\u001b[0m\u001b[0;34m(\u001b[0m \u001b[0mnp\u001b[0m\u001b[0;34m.\u001b[0m\u001b[0mabs\u001b[0m\u001b[0;34m(\u001b[0m\u001b[0mm_batch\u001b[0m \u001b[0;34m-\u001b[0m \u001b[0mm_dec\u001b[0m\u001b[0;34m)\u001b[0m\u001b[0;34m,\u001b[0m \u001b[0maxis\u001b[0m\u001b[0;34m=\u001b[0m\u001b[0;34m-\u001b[0m\u001b[0;36m1\u001b[0m\u001b[0;34m)\u001b[0m  \u001b[0;34m)\u001b[0m\u001b[0;34m\u001b[0m\u001b[0;34m\u001b[0m\u001b[0m\n\u001b[1;32m     35\u001b[0m         \u001b[0mboblosses0\u001b[0m\u001b[0;34m.\u001b[0m\u001b[0mappend\u001b[0m\u001b[0;34m(\u001b[0m\u001b[0mloss\u001b[0m\u001b[0;34m)\u001b[0m\u001b[0;34m\u001b[0m\u001b[0;34m\u001b[0m\u001b[0m\n",
      "\u001b[0;32m/opt/anaconda3/envs/tensor_env/lib/python3.6/site-packages/keras/engine/training.py\u001b[0m in \u001b[0;36mpredict\u001b[0;34m(self, x, batch_size, verbose, steps, callbacks, max_queue_size, workers, use_multiprocessing)\u001b[0m\n\u001b[1;32m   1460\u001b[0m                                             \u001b[0mverbose\u001b[0m\u001b[0;34m=\u001b[0m\u001b[0mverbose\u001b[0m\u001b[0;34m,\u001b[0m\u001b[0;34m\u001b[0m\u001b[0;34m\u001b[0m\u001b[0m\n\u001b[1;32m   1461\u001b[0m                                             \u001b[0msteps\u001b[0m\u001b[0;34m=\u001b[0m\u001b[0msteps\u001b[0m\u001b[0;34m,\u001b[0m\u001b[0;34m\u001b[0m\u001b[0;34m\u001b[0m\u001b[0m\n\u001b[0;32m-> 1462\u001b[0;31m                                             callbacks=callbacks)\n\u001b[0m\u001b[1;32m   1463\u001b[0m \u001b[0;34m\u001b[0m\u001b[0m\n\u001b[1;32m   1464\u001b[0m     def train_on_batch(self, x, y,\n",
      "\u001b[0;32m/opt/anaconda3/envs/tensor_env/lib/python3.6/site-packages/keras/engine/training_arrays.py\u001b[0m in \u001b[0;36mpredict_loop\u001b[0;34m(model, f, ins, batch_size, verbose, steps, callbacks)\u001b[0m\n\u001b[1;32m    322\u001b[0m             \u001b[0mbatch_logs\u001b[0m \u001b[0;34m=\u001b[0m \u001b[0;34m{\u001b[0m\u001b[0;34m'batch'\u001b[0m\u001b[0;34m:\u001b[0m \u001b[0mbatch_index\u001b[0m\u001b[0;34m,\u001b[0m \u001b[0;34m'size'\u001b[0m\u001b[0;34m:\u001b[0m \u001b[0mlen\u001b[0m\u001b[0;34m(\u001b[0m\u001b[0mbatch_ids\u001b[0m\u001b[0;34m)\u001b[0m\u001b[0;34m}\u001b[0m\u001b[0;34m\u001b[0m\u001b[0;34m\u001b[0m\u001b[0m\n\u001b[1;32m    323\u001b[0m             \u001b[0mcallbacks\u001b[0m\u001b[0;34m.\u001b[0m\u001b[0m_call_batch_hook\u001b[0m\u001b[0;34m(\u001b[0m\u001b[0;34m'predict'\u001b[0m\u001b[0;34m,\u001b[0m \u001b[0;34m'begin'\u001b[0m\u001b[0;34m,\u001b[0m \u001b[0mbatch_index\u001b[0m\u001b[0;34m,\u001b[0m \u001b[0mbatch_logs\u001b[0m\u001b[0;34m)\u001b[0m\u001b[0;34m\u001b[0m\u001b[0;34m\u001b[0m\u001b[0m\n\u001b[0;32m--> 324\u001b[0;31m             \u001b[0mbatch_outs\u001b[0m \u001b[0;34m=\u001b[0m \u001b[0mf\u001b[0m\u001b[0;34m(\u001b[0m\u001b[0mins_batch\u001b[0m\u001b[0;34m)\u001b[0m\u001b[0;34m\u001b[0m\u001b[0;34m\u001b[0m\u001b[0m\n\u001b[0m\u001b[1;32m    325\u001b[0m             \u001b[0mbatch_outs\u001b[0m \u001b[0;34m=\u001b[0m \u001b[0mto_list\u001b[0m\u001b[0;34m(\u001b[0m\u001b[0mbatch_outs\u001b[0m\u001b[0;34m)\u001b[0m\u001b[0;34m\u001b[0m\u001b[0;34m\u001b[0m\u001b[0m\n\u001b[1;32m    326\u001b[0m             \u001b[0;32mif\u001b[0m \u001b[0mbatch_index\u001b[0m \u001b[0;34m==\u001b[0m \u001b[0;36m0\u001b[0m\u001b[0;34m:\u001b[0m\u001b[0;34m\u001b[0m\u001b[0;34m\u001b[0m\u001b[0m\n",
      "\u001b[0;32m/opt/anaconda3/envs/tensor_env/lib/python3.6/site-packages/tensorflow_core/python/keras/backend.py\u001b[0m in \u001b[0;36m__call__\u001b[0;34m(self, inputs)\u001b[0m\n\u001b[1;32m   3738\u001b[0m         \u001b[0mvalue\u001b[0m \u001b[0;34m=\u001b[0m \u001b[0mmath_ops\u001b[0m\u001b[0;34m.\u001b[0m\u001b[0mcast\u001b[0m\u001b[0;34m(\u001b[0m\u001b[0mvalue\u001b[0m\u001b[0;34m,\u001b[0m \u001b[0mtensor\u001b[0m\u001b[0;34m.\u001b[0m\u001b[0mdtype\u001b[0m\u001b[0;34m)\u001b[0m\u001b[0;34m\u001b[0m\u001b[0;34m\u001b[0m\u001b[0m\n\u001b[1;32m   3739\u001b[0m       \u001b[0mconverted_inputs\u001b[0m\u001b[0;34m.\u001b[0m\u001b[0mappend\u001b[0m\u001b[0;34m(\u001b[0m\u001b[0mvalue\u001b[0m\u001b[0;34m)\u001b[0m\u001b[0;34m\u001b[0m\u001b[0;34m\u001b[0m\u001b[0m\n\u001b[0;32m-> 3740\u001b[0;31m     \u001b[0moutputs\u001b[0m \u001b[0;34m=\u001b[0m \u001b[0mself\u001b[0m\u001b[0;34m.\u001b[0m\u001b[0m_graph_fn\u001b[0m\u001b[0;34m(\u001b[0m\u001b[0;34m*\u001b[0m\u001b[0mconverted_inputs\u001b[0m\u001b[0;34m)\u001b[0m\u001b[0;34m\u001b[0m\u001b[0;34m\u001b[0m\u001b[0m\n\u001b[0m\u001b[1;32m   3741\u001b[0m \u001b[0;34m\u001b[0m\u001b[0m\n\u001b[1;32m   3742\u001b[0m     \u001b[0;31m# EagerTensor.numpy() will often make a copy to ensure memory safety.\u001b[0m\u001b[0;34m\u001b[0m\u001b[0;34m\u001b[0m\u001b[0;34m\u001b[0m\u001b[0m\n",
      "\u001b[0;32m/opt/anaconda3/envs/tensor_env/lib/python3.6/site-packages/tensorflow_core/python/eager/function.py\u001b[0m in \u001b[0;36m__call__\u001b[0;34m(self, *args, **kwargs)\u001b[0m\n\u001b[1;32m   1079\u001b[0m       \u001b[0mTypeError\u001b[0m\u001b[0;34m:\u001b[0m \u001b[0mFor\u001b[0m \u001b[0minvalid\u001b[0m \u001b[0mpositional\u001b[0m\u001b[0;34m/\u001b[0m\u001b[0mkeyword\u001b[0m \u001b[0margument\u001b[0m \u001b[0mcombinations\u001b[0m\u001b[0;34m.\u001b[0m\u001b[0;34m\u001b[0m\u001b[0;34m\u001b[0m\u001b[0m\n\u001b[1;32m   1080\u001b[0m     \"\"\"\n\u001b[0;32m-> 1081\u001b[0;31m     \u001b[0;32mreturn\u001b[0m \u001b[0mself\u001b[0m\u001b[0;34m.\u001b[0m\u001b[0m_call_impl\u001b[0m\u001b[0;34m(\u001b[0m\u001b[0margs\u001b[0m\u001b[0;34m,\u001b[0m \u001b[0mkwargs\u001b[0m\u001b[0;34m)\u001b[0m\u001b[0;34m\u001b[0m\u001b[0;34m\u001b[0m\u001b[0m\n\u001b[0m\u001b[1;32m   1082\u001b[0m \u001b[0;34m\u001b[0m\u001b[0m\n\u001b[1;32m   1083\u001b[0m   \u001b[0;32mdef\u001b[0m \u001b[0m_call_impl\u001b[0m\u001b[0;34m(\u001b[0m\u001b[0mself\u001b[0m\u001b[0;34m,\u001b[0m \u001b[0margs\u001b[0m\u001b[0;34m,\u001b[0m \u001b[0mkwargs\u001b[0m\u001b[0;34m,\u001b[0m \u001b[0mcancellation_manager\u001b[0m\u001b[0;34m=\u001b[0m\u001b[0;32mNone\u001b[0m\u001b[0;34m)\u001b[0m\u001b[0;34m:\u001b[0m\u001b[0;34m\u001b[0m\u001b[0;34m\u001b[0m\u001b[0m\n",
      "\u001b[0;32m/opt/anaconda3/envs/tensor_env/lib/python3.6/site-packages/tensorflow_core/python/eager/function.py\u001b[0m in \u001b[0;36m_call_impl\u001b[0;34m(self, args, kwargs, cancellation_manager)\u001b[0m\n\u001b[1;32m   1119\u001b[0m       raise TypeError(\"Keyword arguments {} unknown. Expected {}.\".format(\n\u001b[1;32m   1120\u001b[0m           list(kwargs.keys()), list(self._arg_keywords)))\n\u001b[0;32m-> 1121\u001b[0;31m     \u001b[0;32mreturn\u001b[0m \u001b[0mself\u001b[0m\u001b[0;34m.\u001b[0m\u001b[0m_call_flat\u001b[0m\u001b[0;34m(\u001b[0m\u001b[0margs\u001b[0m\u001b[0;34m,\u001b[0m \u001b[0mself\u001b[0m\u001b[0;34m.\u001b[0m\u001b[0mcaptured_inputs\u001b[0m\u001b[0;34m,\u001b[0m \u001b[0mcancellation_manager\u001b[0m\u001b[0;34m)\u001b[0m\u001b[0;34m\u001b[0m\u001b[0;34m\u001b[0m\u001b[0m\n\u001b[0m\u001b[1;32m   1122\u001b[0m \u001b[0;34m\u001b[0m\u001b[0m\n\u001b[1;32m   1123\u001b[0m   \u001b[0;32mdef\u001b[0m \u001b[0m_filtered_call\u001b[0m\u001b[0;34m(\u001b[0m\u001b[0mself\u001b[0m\u001b[0;34m,\u001b[0m \u001b[0margs\u001b[0m\u001b[0;34m,\u001b[0m \u001b[0mkwargs\u001b[0m\u001b[0;34m)\u001b[0m\u001b[0;34m:\u001b[0m\u001b[0;34m\u001b[0m\u001b[0;34m\u001b[0m\u001b[0m\n",
      "\u001b[0;32m/opt/anaconda3/envs/tensor_env/lib/python3.6/site-packages/tensorflow_core/python/eager/function.py\u001b[0m in \u001b[0;36m_call_flat\u001b[0;34m(self, args, captured_inputs, cancellation_manager)\u001b[0m\n\u001b[1;32m   1222\u001b[0m     \u001b[0;32mif\u001b[0m \u001b[0mexecuting_eagerly\u001b[0m\u001b[0;34m:\u001b[0m\u001b[0;34m\u001b[0m\u001b[0;34m\u001b[0m\u001b[0m\n\u001b[1;32m   1223\u001b[0m       flat_outputs = forward_function.call(\n\u001b[0;32m-> 1224\u001b[0;31m           ctx, args, cancellation_manager=cancellation_manager)\n\u001b[0m\u001b[1;32m   1225\u001b[0m     \u001b[0;32melse\u001b[0m\u001b[0;34m:\u001b[0m\u001b[0;34m\u001b[0m\u001b[0;34m\u001b[0m\u001b[0m\n\u001b[1;32m   1226\u001b[0m       \u001b[0mgradient_name\u001b[0m \u001b[0;34m=\u001b[0m \u001b[0mself\u001b[0m\u001b[0;34m.\u001b[0m\u001b[0m_delayed_rewrite_functions\u001b[0m\u001b[0;34m.\u001b[0m\u001b[0mregister\u001b[0m\u001b[0;34m(\u001b[0m\u001b[0;34m)\u001b[0m\u001b[0;34m\u001b[0m\u001b[0;34m\u001b[0m\u001b[0m\n",
      "\u001b[0;32m/opt/anaconda3/envs/tensor_env/lib/python3.6/site-packages/tensorflow_core/python/eager/function.py\u001b[0m in \u001b[0;36mcall\u001b[0;34m(self, ctx, args, cancellation_manager)\u001b[0m\n\u001b[1;32m    509\u001b[0m               \u001b[0minputs\u001b[0m\u001b[0;34m=\u001b[0m\u001b[0margs\u001b[0m\u001b[0;34m,\u001b[0m\u001b[0;34m\u001b[0m\u001b[0;34m\u001b[0m\u001b[0m\n\u001b[1;32m    510\u001b[0m               \u001b[0mattrs\u001b[0m\u001b[0;34m=\u001b[0m\u001b[0;34m(\u001b[0m\u001b[0;34m\"executor_type\"\u001b[0m\u001b[0;34m,\u001b[0m \u001b[0mexecutor_type\u001b[0m\u001b[0;34m,\u001b[0m \u001b[0;34m\"config_proto\"\u001b[0m\u001b[0;34m,\u001b[0m \u001b[0mconfig\u001b[0m\u001b[0;34m)\u001b[0m\u001b[0;34m,\u001b[0m\u001b[0;34m\u001b[0m\u001b[0;34m\u001b[0m\u001b[0m\n\u001b[0;32m--> 511\u001b[0;31m               ctx=ctx)\n\u001b[0m\u001b[1;32m    512\u001b[0m         \u001b[0;32melse\u001b[0m\u001b[0;34m:\u001b[0m\u001b[0;34m\u001b[0m\u001b[0;34m\u001b[0m\u001b[0m\n\u001b[1;32m    513\u001b[0m           outputs = execute.execute_with_cancellation(\n",
      "\u001b[0;32m/opt/anaconda3/envs/tensor_env/lib/python3.6/site-packages/tensorflow_core/python/eager/execute.py\u001b[0m in \u001b[0;36mquick_execute\u001b[0;34m(op_name, num_outputs, inputs, attrs, ctx, name)\u001b[0m\n\u001b[1;32m     59\u001b[0m     tensors = pywrap_tensorflow.TFE_Py_Execute(ctx._handle, device_name,\n\u001b[1;32m     60\u001b[0m                                                \u001b[0mop_name\u001b[0m\u001b[0;34m,\u001b[0m \u001b[0minputs\u001b[0m\u001b[0;34m,\u001b[0m \u001b[0mattrs\u001b[0m\u001b[0;34m,\u001b[0m\u001b[0;34m\u001b[0m\u001b[0;34m\u001b[0m\u001b[0m\n\u001b[0;32m---> 61\u001b[0;31m                                                num_outputs)\n\u001b[0m\u001b[1;32m     62\u001b[0m   \u001b[0;32mexcept\u001b[0m \u001b[0mcore\u001b[0m\u001b[0;34m.\u001b[0m\u001b[0m_NotOkStatusException\u001b[0m \u001b[0;32mas\u001b[0m \u001b[0me\u001b[0m\u001b[0;34m:\u001b[0m\u001b[0;34m\u001b[0m\u001b[0;34m\u001b[0m\u001b[0m\n\u001b[1;32m     63\u001b[0m     \u001b[0;32mif\u001b[0m \u001b[0mname\u001b[0m \u001b[0;32mis\u001b[0m \u001b[0;32mnot\u001b[0m \u001b[0;32mNone\u001b[0m\u001b[0;34m:\u001b[0m\u001b[0;34m\u001b[0m\u001b[0;34m\u001b[0m\u001b[0m\n",
      "\u001b[0;31mKeyboardInterrupt\u001b[0m: "
     ]
    }
   ],
   "source": [
    "n_epochs = 120\n",
    "batch_size = 512\n",
    "n_batches = m_train // batch_size\n",
    "\n",
    "abecycles = 1\n",
    "evecycles = 2\n",
    "\n",
    "epoch = 0\n",
    "print(\"Training for\", n_epochs, \"epochs with\", n_batches, \"batches of size\", batch_size)\n",
    "\n",
    "while epoch < n_epochs:\n",
    "    abelosses0 = []\n",
    "    boblosses0 = [] \n",
    "    evelosses0 = []\n",
    "    for iteration in range(n_batches):\n",
    "        \n",
    "        # Train the A-B+E network\n",
    "        #\n",
    "        alice.trainable = True\n",
    "        for cycle in range(abecycles):\n",
    "            # Select a random batch of messages, and a random batch of keys\n",
    "            #\n",
    "            m_batch = np.random.randint(0, 2, m_bits * batch_size).reshape(batch_size, m_bits)\n",
    "            k_batch = np.random.randint(0, 2, k_bits * batch_size).reshape(batch_size, k_bits)\n",
    "            loss = abemodel.train_on_batch([m_batch, k_batch, k_batch], None)\n",
    "        \n",
    "        abelosses0.append(loss)\n",
    "        abelosses.append(loss)\n",
    "        abeavg = np.mean(abelosses0)\n",
    "            \n",
    "        # Evaluate Bob's ability to decrypt a message\n",
    "        m_enc = alice.predict([m_batch, k_batch])\n",
    "        m_dec = bob.predict([m_enc, k_batch])\n",
    "        loss = np.mean(  np.sum( np.abs(m_batch - m_dec), axis=-1)  )\n",
    "        boblosses0.append(loss)\n",
    "        boblosses.append(loss)\n",
    "        bobavg = np.mean(boblosses0)\n",
    "        \n",
    "        # Train the EVE network\n",
    "        #\n",
    "        alice.trainable = False\n",
    "        for cycle in range(evecycles):\n",
    "            m_batch = np.random.randint(0, 2, m_bits * batch_size).reshape(batch_size, m_bits)\n",
    "            k_batch = np.random.randint(0, 2, k_bits * batch_size).reshape(batch_size, k_bits)\n",
    "            loss = evemodel.train_on_batch([m_batch, k_batch], None)\n",
    "        \n",
    "        evelosses0.append(loss)\n",
    "        evelosses.append(loss)\n",
    "        eveavg = np.mean(evelosses0)\n",
    "        \n",
    "        if iteration % max(1, (n_batches // 100)) == 0:\n",
    "            print(\"\\rEpoch {:3}: {:3}% | abe: {:2.3f} | eve: {:2.3f} | bob: {:2.3f}\".format(\n",
    "                epoch, 100 * iteration // n_batches, abeavg, eveavg, bobavg), end=\"\")\n",
    "            sys.stdout.flush()\n",
    "    \n",
    "    print()\n",
    "    epoch += 1\n",
    "    \n",
    "print('Training finished.')"
   ]
  },
  {
   "cell_type": "code",
   "execution_count": 44,
   "metadata": {
    "colab": {
     "base_uri": "https://localhost:8080/",
     "height": 282
    },
    "id": "WHnoYi1nzEGT",
    "outputId": "d88ce70d-d17d-4a35-a7f0-da8c99b67e7f"
   },
   "outputs": [
    {
     "data": {
      "image/png": "[encoded data removed]",
      "text/plain": [
       "<Figure size 504x288 with 1 Axes>"
      ]
     },
     "metadata": {
      "needs_background": "light"
     },
     "output_type": "display_data"
    }
   ],
   "source": [
    "steps = -1\n",
    "\n",
    "plt.figure(figsize=(7, 4))\n",
    "plt.plot(abelosses[:steps], label='A-B')\n",
    "plt.plot(evelosses[:steps], label='Eve')\n",
    "plt.plot(boblosses[:steps], label='Bob')\n",
    "plt.xlabel(\"Iterations\", fontsize=13)\n",
    "plt.ylabel(\"Loss\", fontsize=13)\n",
    "plt.legend(fontsize=13)\n",
    "\n",
    "#plt.savefig(\"images/\" + model_name + \".png\", transparent=True) #dpi=100\n",
    "plt.show()"
   ]
  },
  {
   "cell_type": "markdown",
   "metadata": {
    "id": "s_BlIakCzLD9"
   },
   "source": [
    "### Saving"
   ]
  },
  {
   "cell_type": "code",
   "execution_count": 34,
   "metadata": {
    "id": "umquDMs9zG_U"
   },
   "outputs": [],
   "source": [
    "# import joblib\n",
    "\n",
    "# joblib.dump(alice, '/content/drive/MyDrive/FYP-Neural Cryptography/alice.sav')\n",
    "# joblib.dump(bob, '/content/drive/MyDrive/FYP-Neural Cryptography/bob.sav')\n",
    "# joblib.dump(eve, '/content/drive/MyDrive/FYP-Neural Cryptography/eve.sav')"
   ]
  },
  {
   "cell_type": "code",
   "execution_count": 45,
   "metadata": {
    "id": "1jYeEdSy2Po6"
   },
   "outputs": [],
   "source": [
    "# alice.save('alice.h5',overwrite=True)\n",
    "# bob.save('bob.h5',overwrite=True)\n",
    "# eve.save('eve.h5',overwrite=True)"
   ]
  },
  {
   "cell_type": "markdown",
   "metadata": {
    "id": "0LhACMwUzTyb"
   },
   "source": [
    "## Evaluate"
   ]
  },
  {
   "cell_type": "code",
   "execution_count": 2,
   "metadata": {
    "colab": {
     "base_uri": "https://localhost:8080/"
    },
    "id": "6azCU2kBzXtF",
    "outputId": "b3ceeea2-ff8b-4e56-8303-e604ade81918"
   },
   "outputs": [
    {
     "ename": "NameError",
     "evalue": "name 'load_model' is not defined",
     "output_type": "error",
     "traceback": [
      "\u001b[0;31m---------------------------------------------------------------------------\u001b[0m",
      "\u001b[0;31mNameError\u001b[0m                                 Traceback (most recent call last)",
      "\u001b[0;32m<ipython-input-2-acc4f0a33e2e>\u001b[0m in \u001b[0;36m<module>\u001b[0;34m\u001b[0m\n\u001b[0;32m----> 1\u001b[0;31m \u001b[0malice1\u001b[0m \u001b[0;34m=\u001b[0m \u001b[0mload_model\u001b[0m\u001b[0;34m(\u001b[0m\u001b[0;34m'../models/alice.h5'\u001b[0m\u001b[0;34m)\u001b[0m\u001b[0;34m\u001b[0m\u001b[0;34m\u001b[0m\u001b[0m\n\u001b[0m\u001b[1;32m      2\u001b[0m \u001b[0mbob1\u001b[0m \u001b[0;34m=\u001b[0m \u001b[0mload_model\u001b[0m\u001b[0;34m(\u001b[0m\u001b[0;34m'../models/bob.h5'\u001b[0m\u001b[0;34m)\u001b[0m\u001b[0;34m\u001b[0m\u001b[0;34m\u001b[0m\u001b[0m\n\u001b[1;32m      3\u001b[0m \u001b[0meve1\u001b[0m \u001b[0;34m=\u001b[0m \u001b[0mload_model\u001b[0m\u001b[0;34m(\u001b[0m\u001b[0;34m'../models/eve.h5'\u001b[0m\u001b[0;34m)\u001b[0m\u001b[0;34m\u001b[0m\u001b[0;34m\u001b[0m\u001b[0m\n\u001b[1;32m      4\u001b[0m \u001b[0mn_examples\u001b[0m \u001b[0;34m=\u001b[0m \u001b[0;36m5000000\u001b[0m\u001b[0;34m\u001b[0m\u001b[0;34m\u001b[0m\u001b[0m\n\u001b[1;32m      5\u001b[0m \u001b[0mm_batch\u001b[0m \u001b[0;34m=\u001b[0m \u001b[0mnp\u001b[0m\u001b[0;34m.\u001b[0m\u001b[0mrandom\u001b[0m\u001b[0;34m.\u001b[0m\u001b[0mrandint\u001b[0m\u001b[0;34m(\u001b[0m\u001b[0;36m0\u001b[0m\u001b[0;34m,\u001b[0m \u001b[0;36m2\u001b[0m\u001b[0;34m,\u001b[0m \u001b[0mm_bits\u001b[0m \u001b[0;34m*\u001b[0m \u001b[0mn_examples\u001b[0m\u001b[0;34m)\u001b[0m\u001b[0;34m.\u001b[0m\u001b[0mreshape\u001b[0m\u001b[0;34m(\u001b[0m\u001b[0mn_examples\u001b[0m\u001b[0;34m,\u001b[0m \u001b[0mm_bits\u001b[0m\u001b[0;34m)\u001b[0m\u001b[0;34m\u001b[0m\u001b[0;34m\u001b[0m\u001b[0m\n",
      "\u001b[0;31mNameError\u001b[0m: name 'load_model' is not defined"
     ]
    }
   ],
   "source": [
    "alice1 = load_model('../models/alice.h5')\n",
    "bob1 = load_model('../models/bob.h5')\n",
    "eve1 = load_model('../models/eve.h5')\n",
    "n_examples = 5000000\n",
    "m_batch = np.random.randint(0, 2, m_bits * n_examples).reshape(n_examples, m_bits)\n",
    "k_batch = np.random.randint(0, 2, m_bits * n_examples).reshape(n_examples, m_bits)\n",
    "\n",
    "m_enc = alice1.predict([m_batch, k_batch])\n",
    "m_dec = (bob1.predict([m_enc, k_batch]) > 0.5).astype(int)\n",
    "m_att = (eve1.predict(m_enc) > 0.5).astype(int)\n",
    "\n",
    "bdiff = np.abs(m_batch - m_dec)\n",
    "bsum = np.sum(bdiff, axis=-1)\n",
    "ediff = np.abs(m_batch - m_att)\n",
    "esum = np.sum(ediff, axis=-1)\n",
    "\n",
    "print(\"Bob % correct: \", 100.0*np.sum(bsum == 0) / n_examples, '%')\n",
    "print(\"Eve % correct: \", 100.0*np.sum(esum == 0) / n_examples, '%')"
   ]
  },
  {
   "cell_type": "code",
   "execution_count": 37,
   "metadata": {},
   "outputs": [
    {
     "name": "stdout",
     "output_type": "stream",
     "text": [
      "Python 3.7.11\n"
     ]
    }
   ],
   "source": [
    "!python -V"
   ]
  },
  {
   "cell_type": "code",
   "execution_count": 11,
   "metadata": {
    "colab": {
     "base_uri": "https://localhost:8080/"
    },
    "id": "HgorNtveFsg0",
    "outputId": "9fcc29ad-9f94-4a4a-c802-d1afbd305c77"
   },
   "outputs": [
    {
     "ename": "NameError",
     "evalue": "name 'datetime' is not defined",
     "output_type": "error",
     "traceback": [
      "\u001b[0;31m---------------------------------------------------------------------------\u001b[0m",
      "\u001b[0;31mNameError\u001b[0m                                 Traceback (most recent call last)",
      "\u001b[0;32m<ipython-input-11-cfd507e79cf0>\u001b[0m in \u001b[0;36m<module>\u001b[0;34m\u001b[0m\n\u001b[1;32m     16\u001b[0m                 [0, 0, 0, 1, 1, 1, 0, 0, 0, 1, 1, 1, 1, 1, 1, 1]])\n\u001b[1;32m     17\u001b[0m \u001b[0;34m\u001b[0m\u001b[0m\n\u001b[0;32m---> 18\u001b[0;31m \u001b[0mstart_time\u001b[0m \u001b[0;34m=\u001b[0m \u001b[0mdatetime\u001b[0m\u001b[0;34m.\u001b[0m\u001b[0mnow\u001b[0m\u001b[0;34m(\u001b[0m\u001b[0;34m)\u001b[0m\u001b[0;34m\u001b[0m\u001b[0;34m\u001b[0m\u001b[0m\n\u001b[0m\u001b[1;32m     19\u001b[0m \u001b[0mcipher\u001b[0m \u001b[0;34m=\u001b[0m \u001b[0malice1\u001b[0m\u001b[0;34m.\u001b[0m\u001b[0mpredict\u001b[0m\u001b[0;34m(\u001b[0m\u001b[0;34m[\u001b[0m\u001b[0mmessage\u001b[0m\u001b[0;34m,\u001b[0m \u001b[0mkey\u001b[0m\u001b[0;34m]\u001b[0m\u001b[0;34m)\u001b[0m\u001b[0;34m\u001b[0m\u001b[0;34m\u001b[0m\u001b[0m\n\u001b[1;32m     20\u001b[0m \u001b[0mend_time\u001b[0m \u001b[0;34m=\u001b[0m \u001b[0mdatetime\u001b[0m\u001b[0;34m.\u001b[0m\u001b[0mnow\u001b[0m\u001b[0;34m(\u001b[0m\u001b[0;34m)\u001b[0m\u001b[0;34m\u001b[0m\u001b[0;34m\u001b[0m\u001b[0m\n",
      "\u001b[0;31mNameError\u001b[0m: name 'datetime' is not defined"
     ]
    }
   ],
   "source": [
    "# Input format\n",
    "\n",
    "# !pip3 install joblib\n",
    "\n",
    "# load_model works with Python 3.6.13 :: Anaconda, Inc.\n",
    "\n",
    "import joblib\n",
    "\n",
    "alice1 = load_model('../models/alice.h5')\n",
    "bob1 = load_model('../models/bob.h5')\n",
    "eve1 = load_model('../models/eve.h5')\n",
    "\n",
    "message = np.array([[0, 0, 0, 0, 0, 0, 1, 1, 0, 1, 1, 0, 1, 1, 1, 1],\n",
    "                    [1, 1, 1, 0, 0, 0, 1, 1, 1, 0, 0, 0, 1, 1, 1, 1]])\n",
    "key = np.array([[0, 0, 0, 0, 0, 0, 1, 1, 0, 1, 1, 0, 1, 1, 1, 1],\n",
    "                [0, 0, 0, 1, 1, 1, 0, 0, 0, 1, 1, 1, 1, 1, 1, 1]])\n",
    "\n",
    "start_time = datetime.now()\n",
    "cipher = alice1.predict([message, key])\n",
    "end_time = datetime.now()\n",
    "alice_encrypt_time = end_time - start_time\n",
    "\n",
    "start_time = datetime.now()\n",
    "decipher = (bob1.predict([cipher, key]) > 0.5).astype(int)\n",
    "end_time = datetime.now()\n",
    "bob_decrypt_time = end_time - start_time\n",
    "\n",
    "adversary = (eve1.predict(cipher) > 0.5).astype(int)\n",
    "\n",
    "decipher[1]\n",
    "\n",
    "# Input must be numpy array"
   ]
  },
  {
   "cell_type": "code",
   "execution_count": null,
   "metadata": {},
   "outputs": [],
   "source": [
    "# !pip install h5py==2.10.0"
   ]
  },
  {
   "cell_type": "code",
   "execution_count": null,
   "metadata": {
    "colab": {
     "base_uri": "https://localhost:8080/"
    },
    "id": "U8Dn7DWCDZx1",
    "outputId": "347a9f2e-f7ca-4211-de4e-fafdd09dc624"
   },
   "outputs": [],
   "source": [
    "(bob.predict([m_enc, k_batch]) > 0.5).astype(int)"
   ]
  },
  {
   "cell_type": "code",
   "execution_count": null,
   "metadata": {
    "colab": {
     "base_uri": "https://localhost:8080/"
    },
    "id": "KKXZK3eDGHJ4",
    "outputId": "d68861a7-fbf0-4d02-b6c6-6cadeebc1147"
   },
   "outputs": [],
   "source": [
    "(eve.predict(m_enc) > 0.5 ).astype(int)"
   ]
  },
  {
   "cell_type": "markdown",
   "metadata": {
    "id": "d1S5NPeGE-EG"
   },
   "source": [
    " Make Epochs 50 for better visualization"
   ]
  },
  {
   "cell_type": "markdown",
   "metadata": {},
   "source": [
    "## Performance Benchmarking"
   ]
  },
  {
   "cell_type": "code",
   "execution_count": 3,
   "metadata": {},
   "outputs": [
    {
     "name": "stdout",
     "output_type": "stream",
     "text": [
      "Requirement already satisfied: cryptography in /opt/anaconda3/envs/tensor_env/lib/python3.6/site-packages (35.0.0)\n",
      "Requirement already satisfied: cffi>=1.12 in /opt/anaconda3/envs/tensor_env/lib/python3.6/site-packages (from cryptography) (1.14.6)\n",
      "Requirement already satisfied: pycparser in /opt/anaconda3/envs/tensor_env/lib/python3.6/site-packages (from cffi>=1.12->cryptography) (2.21)\n",
      "Note: you may need to restart the kernel to use updated packages.\n"
     ]
    }
   ],
   "source": [
    "#Install the Cryptography module\n",
    "%pip install cryptography"
   ]
  },
  {
   "cell_type": "code",
   "execution_count": 10,
   "metadata": {},
   "outputs": [
    {
     "name": "stdout",
     "output_type": "stream",
     "text": [
      "Cryptography.fernet AES Encrypt/Decrypt sessions\n",
      "------------------------------------------------\n",
      "cipher text =  b'gAAAAABh_9q6i6WcvuY8czV0cPWgHaBzmXzDMcQieh5nIW4yk6stYcl7QPxoVc8zqCHuBA6F_a0G-Dm0ffYRO44Ev14FPXEYVMasWwQSavd31kTfj-EVPzcw7ihIOrq7m6vOfhQuL_exuik5Bu_Adx0aCffLDOjcltAT_q3rqTKj7JGNXblSHzB1owTTQH0_s5wD0CuGOmHIRPC8cN-M66gb0OGBGJK3jDt1MG72CyVMIa_ZRmfsvyE9-jCUWS5ESlEbmwecMKSuATEwgWv_Ln6VcqLdcD81KNcDdujt6xpQZlyU5agV88vzUhMx9UqnXLNzMcepBTAU'\n",
      "plain_text =   b'\\x00\\x00\\x00\\x00\\x00\\x00\\x00\\x00\\x00\\x01\\x01\\x00\\x01\\x00\\x00\\x00\\x00\\x00\\x00\\x00\\x00\\x00\\x00\\x00\\x00\\x01\\x01\\x00\\x00\\x01\\x00\\x01\\x00\\x00\\x00\\x00\\x00\\x00\\x00\\x00\\x00\\x01\\x01\\x00\\x01\\x01\\x00\\x00\\x00\\x00\\x00\\x00\\x00\\x00\\x00\\x00\\x00\\x01\\x01\\x00\\x01\\x01\\x00\\x00\\x00\\x00\\x00\\x00\\x00\\x00\\x00\\x00\\x00\\x01\\x01\\x00\\x01\\x01\\x01\\x01\\x00\\x00\\x00\\x00\\x00\\x00\\x00\\x00\\x00\\x00\\x01\\x00\\x00\\x00\\x00\\x00\\x00\\x00\\x00\\x00\\x00\\x00\\x00\\x00\\x00\\x01\\x01\\x01\\x00\\x01\\x01\\x01\\x00\\x00\\x00\\x00\\x00\\x00\\x00\\x00\\x00\\x01\\x01\\x00\\x01\\x01\\x01\\x01\\x00\\x00\\x00\\x00\\x00\\x00\\x00\\x00\\x00\\x01\\x01\\x01\\x00\\x00\\x01\\x00\\x00\\x00\\x00\\x00\\x00\\x00\\x00\\x00\\x00\\x01\\x01\\x00\\x01\\x01\\x00\\x00\\x00\\x00\\x00\\x00\\x00\\x00\\x00\\x00\\x00\\x01\\x01\\x00\\x00\\x01\\x00\\x00'\n",
      "cipher text =  [-0.5383039   0.00614445 -0.16977766 -0.32550016  0.21388824 -0.16379495\n",
      " -0.09691516 -0.21935992  0.06962691 -0.07455905  0.12722728  0.12503095\n",
      " -0.03900693 -0.0020982   0.05760781  0.16742107]\n",
      "plain_text =   [ 8.8632072e-04  1.3343979e-03  1.6982538e-03  4.2468306e-05\n",
      "  1.5579746e-03  4.5234542e-03  4.7041122e-03  7.7709532e-04\n",
      "  3.3884514e-03  9.9946743e-01  9.9957657e-01 -9.7697927e-04\n",
      "  9.9958336e-01  8.2513895e-03  5.0963014e-03  6.7423154e-03]\n",
      "*********Performance of NCA versus Cryptography.Fernet********************\n",
      "Time taken for Alice to Encrypt the Plain Text (seconds):  0:00:00.111218\n",
      "Time taken for Bob to Decrypt the Cipher Text (seconds):  0:00:00.109432\n",
      "Time taken for Fernet to Encrypt the Plain Text (seconds):  0:00:00.000213\n",
      "Time taken for Fernet to Decrypt the Cipher Text (seconds):  0:00:00.000114\n"
     ]
    }
   ],
   "source": [
    "from datetime import datetime\n",
    "from cryptography.fernet import Fernet\n",
    "from helper import *\n",
    "\n",
    "alice1 = load_model('../models/alice.h5')\n",
    "bob1 = load_model('../models/bob.h5')\n",
    "eve1 = load_model('../models/eve.h5')\n",
    "\n",
    "\n",
    "key = Fernet.generate_key()\n",
    "cipher_suite = Fernet(key)\n",
    "#Preprocess the array from input block above\n",
    "message = 'hello world'\n",
    "\n",
    "bitMessageAndKey = processRawMessage(message)\n",
    "bitMessage = bitMessageAndKey[0]\n",
    "key = bitMessageAndKey[1]\n",
    "\n",
    "b1 = encstr(message,11)[0]\n",
    "\n",
    "\n",
    "v2 = []\n",
    "for i in range(0, len(b1)):\n",
    "    v2.append(int(b1[i]))\n",
    "\n",
    "\n",
    "print('Cryptography.fernet AES Encrypt/Decrypt sessions')\n",
    "print('------------------------------------------------')\n",
    "\n",
    "start_time = datetime.now()\n",
    "cipher_text = cipher_suite.encrypt(bytes(v2))\n",
    "end_time = datetime.now()\n",
    "fernet_encrypt_time = end_time - start_time\n",
    "print('cipher text = ', cipher_text)\n",
    "\n",
    "start_time = datetime.now()\n",
    "plain_text = cipher_suite.decrypt(cipher_text)\n",
    "end_time = datetime.now()\n",
    "fernet_decrypt_time = end_time - start_time\n",
    "print('plain_text =  ', plain_text)\n",
    "\n",
    "start_time = datetime.now()\n",
    "cipher_text = alice1.predict([bitMessage,key])\n",
    "end_time = datetime.now()\n",
    "alice_encrypt_time = end_time - start_time\n",
    "print('cipher text = ', cipher_text[0])\n",
    "\n",
    "start_time = datetime.now()\n",
    "plain_text = bob1.predict([cipher_text, key])\n",
    "end_time = datetime.now()\n",
    "bob_decrypt_time = end_time - start_time\n",
    "print('plain_text =  ', plain_text[0])\n",
    "\n",
    "print('*********Performance of NCA versus Cryptography.Fernet********************')\n",
    "print('Time taken for Alice to Encrypt the Plain Text (seconds): ', alice_encrypt_time)\n",
    "print('Time taken for Bob to Decrypt the Cipher Text (seconds): ', bob_decrypt_time)\n",
    "\n",
    "print('Time taken for Fernet to Encrypt the Plain Text (seconds): ', fernet_encrypt_time)\n",
    "print('Time taken for Fernet to Decrypt the Cipher Text (seconds): ', fernet_decrypt_time)"
   ]
  },
  {
   "cell_type": "markdown",
   "metadata": {},
   "source": [
    "# Image Encryption using ML"
   ]
  },
  {
   "cell_type": "markdown",
   "metadata": {},
   "source": [
    "## Helper Functions"
   ]
  },
  {
   "cell_type": "code",
   "execution_count": 11,
   "metadata": {},
   "outputs": [],
   "source": [
    "import numpy as np\n",
    "import math\n",
    "\n",
    "MAX_UINT8 = 255\n",
    "MAX_UINT16 = 65535\n",
    "MAX_UINT32 = 4294967295\n",
    "\n",
    "def _logisticmap( x0, a=4-1E-12, init_itr=100 ):\n",
    "\tx = x0\n",
    "\tfor i in range(init_itr):\n",
    "\t\tx = a*x*(1-x)\n",
    "\twhile( True ):\n",
    "\t\tx = a*x*(1-x)\n",
    "\t\tyield x\n",
    "\n",
    "class logisticmap:\n",
    "\tdef __init__( self, x0, a=4-1E-12, init_itr=100 ):\n",
    "\t\tself.generator = _logisticmap( x0, a, init_itr )\n",
    "\tdef get( self ):\n",
    "\t\treturn self.generator.__next__()\n",
    "\n",
    "def _enc_process( src, ord ):\n",
    "\tdst = np.copy(src)\n",
    "\tdst[ ord ] = src\n",
    "\treturn dst\n",
    "\t\n",
    "def _dec_process( src, ord ):\n",
    "\treturn src[ord]\n",
    "\n",
    "def paddingBlockSize( X, blockSize ):\n",
    "\ts = X.shape\n",
    "\t\n",
    "\tt = s[0] / blockSize[0]\n",
    "\td = t - math.floor(t)\n",
    "\tif( d > 0 ):\n",
    "\t\tpaddingSize = blockSize[0] * ( math.floor(t) + 1 ) - s[1]\n",
    "\t\tpadding = X[-1:,:,:]\n",
    "\t\tpadding = np.tile( padding, (paddingSize, 1, 1 ) )\n",
    "\t\tX = np.concatenate( (X, padding), axis = 0 )\n",
    "\n",
    "\tt = s[1] / blockSize[1]\n",
    "\td = t - math.floor(t)\n",
    "\tif( d > 0 ):\n",
    "\t\tpaddingSize = blockSize[1] * ( math.floor(t) + 1 ) - s[2]\n",
    "\t\tpadding = X[:,-1:,:]\n",
    "\t\tpadding = np.tile( padding, (1, paddingSize, 1 ) )\n",
    "\t\tX = np.concatenate( (X, padding), axis = 1 )\n",
    "\t\n",
    "\treturn X\t\n",
    "\n",
    "def split_uint8(X):\n",
    "\tassert(X.dtype == np.uint8)\n",
    "\tX1 = X >> 4\n",
    "\tX0 = X & 0x0F\n",
    "\treturn np.concatenate( (X1, X0), axis=2 )\n",
    "\n",
    "def join_uint8(X):\n",
    "\tassert(X.dtype == np.uint8)\n",
    "\tassert(X.shape[2] % 2 == 0)\n",
    "\ts = X.shape[2]//2\n",
    "\tX1 = X[:,:,:s]\n",
    "\tX0 = X[:,:,s:]\n",
    "\treturn ( X1 << 4 ) + X0"
   ]
  },
  {
   "cell_type": "markdown",
   "metadata": {},
   "source": [
    "## RegConst"
   ]
  },
  {
   "cell_type": "code",
   "execution_count": 12,
   "metadata": {},
   "outputs": [],
   "source": [
    "from keras import backend as K\n",
    "from keras.regularizers import Regularizer\n",
    "from keras.constraints import Constraint\n",
    "\n",
    "class ConstInterp(Constraint):\n",
    "\tdef __call__(self, w):\n",
    "\t\tw *= K.cast(K.greater_equal(w, 0.), K.floatx())\n",
    "\t\tw /= K.epsilon() + K.sum(w, axis=[0,1,2], keepdims=True)\n",
    "\t\treturn w\n",
    "\n",
    "class ConstNorm(Constraint):\n",
    "\tdef __init__(self, axis=2, nb_pixels=1):\n",
    "\t\tself.axis = axis\n",
    "\t\tself.nb_pixels=nb_pixels\n",
    "\n",
    "\tdef __call__(self, w):\n",
    "\t\tw /= K.epsilon() + K.sqrt(K.sum(K.square(w), axis=self.axis, keepdims=True))\n",
    "\t\tw /= self.nb_pixels\n",
    "\t\treturn w\n",
    "\n",
    "\tdef get_config(self):\n",
    "\t\treturn {'axis': self.axis, 'nb_pixels':self.nb_pixels}\n",
    "\n",
    "class L1L2mean(Regularizer):\n",
    "\tdef __init__(self, l1=0., l2=0.):\n",
    "\t\tself.l1 = l1\n",
    "\t\tself.l2 = l2\n",
    "\n",
    "\tdef __call__(self, x):\n",
    "\t\tregularization = 0.\n",
    "\t\tif self.l1:\n",
    "\t\t\tregularization += self.l1 * K.mean(K.abs(x))\n",
    "\t\tif self.l2:\n",
    "\t\t\tregularization += self.l2 * K.mean(K.square(x))\n",
    "\t\treturn regularization\n",
    "\n",
    "\tdef get_config(self):\n",
    "\t\treturn {\\\n",
    "\t\t'l1': float(self.l1),\\\n",
    "\t\t'l2': float(self.l2),\\\n",
    "\t\t}"
   ]
  },
  {
   "cell_type": "markdown",
   "metadata": {},
   "source": [
    "## Image Shuffling"
   ]
  },
  {
   "cell_type": "code",
   "execution_count": 13,
   "metadata": {},
   "outputs": [],
   "source": [
    "import numpy as np\n",
    "\n",
    "def _enc_process( src, ord ):\n",
    "\tdst = np.copy(src)\n",
    "\tdst[ ord ] = src\n",
    "\treturn dst\n",
    "\t\n",
    "def _dec_process( src, ord ):\n",
    "\treturn src[ord]\n",
    "\t\n",
    "class Rand:\n",
    "\tdef __init__( self, key ):\n",
    "\t\tself.key = key\n",
    "\t\tself.ord = None\n",
    "\t\tself.roiSize = None\n",
    "\t\tself.rand_init()\n",
    "\t\n",
    "\tdef rand_init( self ):\n",
    "\t\tself.rand_generator = logisticmap( float(self.key)/MAX_UINT32 * (1.0-2.0E-12 ) + 1.0E-12 )\n",
    "\t\n",
    "\tdef rand( self ):\n",
    "\t\treturn self.rand_generator.get()\n",
    "\t\n",
    "\tdef setOrd( self, roiSize ):\n",
    "\t\tif( self.roiSize != roiSize ):\n",
    "\t\t\tself.roiSize = roiSize\n",
    "\t\t\tself.rand_init()\n",
    "\t\t\tself.ord = self.calcOrd()\n",
    "\t\n",
    "\tdef process( self, input, func ):\n",
    "\t\troiSize = self.calcRoiSize( input )\n",
    "\t\tself.setOrd( roiSize )\n",
    "\t\t\n",
    "\t\tsrc = np.copy( input[:roiSize[0], :roiSize[1], :] )\n",
    "\t\t\n",
    "\t\tsrc = np.reshape( src, (roiSize[0]*roiSize[1]*roiSize[2]) )\n",
    "\t\tdst = func( src, self.ord )\n",
    "\t\t\n",
    "\t\toutput = np.copy( input )\n",
    "\t\toutput[ :roiSize[0], :roiSize[1], : ] = np.reshape( dst, roiSize )\n",
    "\t\t\n",
    "\t\treturn output\n",
    "\t\n",
    "\tdef enc( self, input ):\n",
    "\t\treturn self.process( input, _enc_process )\n",
    "\n",
    "\tdef dec( self, input ):\n",
    "\t\treturn self.process( input, _dec_process )\n",
    "\t\t\n",
    "\t\t\n",
    "\t######\n",
    "\tdef calcRoiSize( self, input ):\n",
    "\t\treturn input.shape\n",
    "\n",
    "\tdef calcOrd( self ):\n",
    "\t\treturn np.argsort( np.array( [ self.rand() for i in range(self.roiSize[0] * self.roiSize[1] * self.roiSize[2]) ] ) )\n",
    "\n",
    "\n",
    "class RandBlock(Rand):\n",
    "\tdef __init__( self, key, blockSize ):\n",
    "\t\tsuper(RandBlock, self).__init__(key)\n",
    "\t\tself.blockSize = blockSize\n",
    "\n",
    "\t######\n",
    "\tdef calcRoiSize( self, input ):\n",
    "\t\tinputshape = input.shape\n",
    "\t\t\n",
    "\t\ts0 = (inputshape[0] // self.blockSize[0]) * self.blockSize[0]\n",
    "\t\ts1 = (inputshape[1] // self.blockSize[1]) * self.blockSize[1]\n",
    "\t\t\n",
    "\t\treturn (s0,s1,inputshape[2])\n",
    "\n",
    "\tdef calcOrd( self ):\n",
    "\t\timShuffle = Rand( self.key )\n",
    "\t\t\n",
    "\t\tord = np.array( list(range(self.roiSize[0] * self.roiSize[1] * self.roiSize[2])) )\n",
    "\t\tord = np.reshape( ord, self.roiSize )\n",
    "\t\t\n",
    "\t\tnb_blocks0 = self.roiSize[0] // self.blockSize[0]\n",
    "\t\tnb_blocks1 = self.roiSize[1] // self.blockSize[1]\n",
    "\t\t\n",
    "\t\tfor row in range(nb_blocks0):\n",
    "\t\t\tfor col in range(nb_blocks1):\n",
    "\t\t\t\tord[row*self.blockSize[0]:(row+1)*self.blockSize[0], col*self.blockSize[1]:(col+1)*self.blockSize[1], :] = \\\n",
    "\t\t\t\timShuffle.enc( ord[row*self.blockSize[0]:(row+1)*self.blockSize[0], col*self.blockSize[1]:(col+1)*self.blockSize[1], :] )\n",
    "\t\t\n",
    "\t\treturn np.reshape( ord, (self.roiSize[0] * self.roiSize[1] * self.roiSize[2]) )\n",
    "\n",
    "\n",
    "def genCatMapInd( size, rowroll, colroll, p, q, r ):\n",
    "\trind = np.reshape( np.array(list(range(size))), (size, 1, 1) )\n",
    "\trind = np.tile( rind, (1, size, 1) )\n",
    "\trind = np.roll( rind, rowroll, axis=0 )\n",
    "\t\n",
    "\tcind = np.reshape( np.array(list(range(size))), (1, size, 1) )\n",
    "\tcind = np.tile( cind, (size, 1, 1) )\n",
    "\tcind = np.roll( cind, colroll, axis=1 )\n",
    "\t\n",
    "\tind = np.concatenate( (rind, cind), axis=2 )\n",
    "\t\n",
    "\t'''\n",
    "\ta00 = 1.\n",
    "\ta01 = p\n",
    "\ta10 = q\n",
    "\ta11 = 1. + p*q\n",
    "\t'''\n",
    "\t\n",
    "\tfor i in range(r):\n",
    "\t\tind0 = np.copy(ind)\n",
    "\t\tind[:,:,0] = np.mod( ind0[:,:,0] + p * ind0[:,:,1], size )\n",
    "\t\tind[:,:,1] = np.mod( q * ind0[:,:,0] + (1.+p*q) * ind0[:,:,1], size )\n",
    "\t\n",
    "\treturn ind\n",
    "\n",
    "def genArnoldCatMapInd( size, r ):\n",
    "\treturn genCatMapInd( size, 0, 0, 1, 1, r )\n",
    "\n",
    "\n",
    "class CatMap(Rand):\n",
    "\tdef __init__( self, key, Arnold = False, channel_shuffle = True ):\n",
    "\t\tsuper(CatMap, self).__init__(key)\n",
    "\t\tself.Arnold = Arnold\n",
    "\t\tself.channel_shuffle = channel_shuffle\n",
    "\n",
    "\t######\n",
    "\tdef calcRoiSize( self, input ):\n",
    "\t\tinputshape = input.shape\n",
    "\t\ts = min( inputshape[0], inputshape[1] )\n",
    "\t\treturn (s,s,inputshape[2])\n",
    "\n",
    "\tdef calcOrd( self ):\n",
    "\t\tord = np.array( list(range(self.roiSize[0] * self.roiSize[1] * self.roiSize[2])) )\n",
    "\t\tord = np.reshape( ord, self.roiSize )\n",
    "\t\tord0 = np.copy( ord )\n",
    "\n",
    "\t\tif( self.channel_shuffle ):\n",
    "\t\t\tfor row in range(self.roiSize[0]):\n",
    "\t\t\t\tfor col in range(self.roiSize[1]):\n",
    "\t\t\t\t\troll = int(self.rand()*self.roiSize[2])\n",
    "\t\t\t\t\tord0[row,col,:] = np.roll( ord0[row,col,:], roll, axis=0 )\n",
    "\t\t\n",
    "\t\ts = self.roiSize[0]\n",
    "\t\tfor cha in range(self.roiSize[2]):\n",
    "\t\t\tif( self.Arnold ):\n",
    "\t\t\t\trowroll = int(self.rand() * s)\n",
    "\t\t\t\tcolroll = int(self.rand() * s)\n",
    "\t\t\t\tp = int(self.rand() * s)\n",
    "\t\t\t\tq = int(self.rand() * s)\n",
    "\t\t\telse:\n",
    "\t\t\t\trowroll = 0\n",
    "\t\t\t\tcolroll = 0\n",
    "\t\t\t\tp = 1\n",
    "\t\t\t\tq = 1\n",
    "\t\t\t\n",
    "\t\t\tr = 2 + int(self.rand()*8)\n",
    "\t\t\tind = genCatMapInd( s, rowroll, colroll, p, q, r )\n",
    "\t\t\tfor row in range(self.roiSize[0]):\n",
    "\t\t\t\tfor col in range(self.roiSize[1]):\n",
    "\t\t\t\t\trow1 = ind[row,col,0]\n",
    "\t\t\t\t\tcol1 = ind[row,col,1]\n",
    "\t\t\t\t\tord[row1,col1,cha] = ord0[row,col,cha]\n",
    "\t\t\n",
    "\t\treturn np.reshape( ord, (self.roiSize[0] * self.roiSize[1] * self.roiSize[2]) )\n",
    "\n",
    "\n",
    "class CatMapComb(CatMap):\n",
    "\tdef __init__( self, key, Arnold = False, channel_shuffle = True ):\n",
    "\t\tsuper(CatMapComb, self).__init__(key, Arnold, channel_shuffle )\n",
    "\t\n",
    "\t######\n",
    "\tdef calcRoiSize( self, input ):\n",
    "\t\tinputshape = input.shape\n",
    "\t\ts = min( inputshape[0], inputshape[1] )\n",
    "\t\treturn (s,s,inputshape[2])\n",
    "\t\n",
    "\tdef calcOrd( self ):\n",
    "\t\tord = np.array( list(range(self.roiSize[0] * self.roiSize[1] * self.roiSize[2])) )\n",
    "\t\tord = np.reshape( ord, self.roiSize )\n",
    "\t\tord0 = np.copy( ord )\n",
    "\t\t\n",
    "\t\ts = self.roiSize[0] // 2\n",
    "\t\t\n",
    "\t\timShuffle = CatMap( self.rand()*MAX_UINT32, self.Arnold, self.channel_shuffle )\n",
    "\t\tord[:s, :s, :] = imShuffle.enc( ord[:s, :s, :] )\n",
    "\t\t\n",
    "\t\timShuffle = CatMap( self.rand()*MAX_UINT32, self.Arnold, self.channel_shuffle )\n",
    "\t\tord[:s, -s:, :] = imShuffle.enc( ord[:s, -s:, :] )\n",
    "\n",
    "\t\timShuffle = CatMap( self.rand()*MAX_UINT32, self.Arnold, self.channel_shuffle )\n",
    "\t\tord[-s:, :s, :] = imShuffle.enc( ord[-s:, :s, :] )\n",
    "\t\t\n",
    "\t\timShuffle = CatMap( self.rand()*MAX_UINT32, self.Arnold, self.channel_shuffle )\n",
    "\t\tord[-s:, -s:, :] = imShuffle.enc( ord[-s:, -s:, :] )\n",
    "\n",
    "\t\tind0 = range(0, self.roiSize[0], 2 )\n",
    "\t\tind1 = range(1, self.roiSize[0], 2 )\n",
    "\t\t\n",
    "\t\tord0 = np.copy( ord )\n",
    "\t\tord[ind0, :, :] = ord0[:len(ind0), :, :]\n",
    "\t\tord[ind1, :, :] = ord0[len(ind0):, :, :]\n",
    "\n",
    "\t\tord0 = np.copy( ord )\n",
    "\t\tord[:, ind0, :] = ord0[:, :len(ind0), :]\n",
    "\t\tord[:, ind1, :] = ord0[:, len(ind0):, :]\n",
    "\n",
    "\t\timShuffle = CatMap( self.rand()*MAX_UINT32, self.Arnold, self.channel_shuffle )\n",
    "\t\tord = imShuffle.enc( ord )\n",
    "\n",
    "\n",
    "\t\treturn np.reshape( ord, (self.roiSize[0] * self.roiSize[1] * self.roiSize[2]) )"
   ]
  },
  {
   "cell_type": "markdown",
   "metadata": {},
   "source": [
    "## Model Building"
   ]
  },
  {
   "cell_type": "code",
   "execution_count": null,
   "metadata": {},
   "outputs": [],
   "source": [
    "\n",
    "#!/usr/bin/env python\n",
    "# -*- coding: utf-8 -*-\n",
    "\n",
    "from keras.layers import Dense, Dropout, Activation, Flatten, Conv2D, Input, Lambda\n",
    "from keras.layers.pooling import MaxPooling2D, GlobalAveragePooling2D\n",
    "from keras.layers.merge import Add, Concatenate\n",
    "from keras.models import Model\n",
    "from keras.layers.normalization import BatchNormalization\n",
    "from keras.datasets import cifar10, cifar100\n",
    "from keras.utils import np_utils\n",
    "import keras.backend as K\n",
    "\n",
    "import numpy as np\n",
    "import random\n",
    "\n",
    "def resnet(input_shape, nb_classes=10):\n",
    "\tp1 = PaddingReplicate2D((1,1))\n",
    "\tinp = Input(shape=input_shape)\n",
    "\tx = inp\n",
    "\n",
    "\t# block0 ####################################################\n",
    "\tx = BatchNormalization() (x)\n",
    "\tx = Conv2D( 4*4*3, (4,4), padding='valid', strides=(4,4), kernel_initializer='he_normal' ) (x)\n",
    "\tx = Activation('relu') (x)\n",
    "\t# 8x8x48\n",
    "\t\n",
    "\tx = BatchNormalization() (x)\n",
    "\tx = Conv2D( 4*4*3, (1,1), padding='valid', kernel_initializer='he_normal' ) (x)\n",
    "\tx = Activation('relu') (x)\n",
    "\t# 8x8x48\n",
    "\n",
    "\tx = BatchNormalization() (x)\n",
    "\tx = Conv2D( 4*4*32, (1,1), padding='valid', kernel_initializer='he_normal' ) (x)\n",
    "\tx = PixelShuffle( x, 4 )\n",
    "\t# 32x32x32\n",
    "\n",
    "\n",
    "\t# block1 ####################################################\n",
    "\tf = 32\n",
    "\tfs = 16\n",
    "\tfor i in range(2):\n",
    "\t\tf0 = f\n",
    "\t\tf = f+fs\n",
    "\t\tr = x\n",
    "\t\t\n",
    "\t\tr = BatchNormalization() (r)\n",
    "\t\tr = Activation('relu') (r)\n",
    "\t\tr = Conv2D( f, (3,3), padding='valid', kernel_initializer='he_normal' ) (p1(r))\n",
    "\n",
    "\t\tr = BatchNormalization() (r)\n",
    "\t\tr = Activation('relu') (r)\n",
    "\t\tr = Conv2D( f, (3,3), padding='valid', kernel_initializer='he_normal' ) (p1(r))\n",
    "\t\t\n",
    "\t\tr = Dropout(0.25) (r)\n",
    "\n",
    "\t\tr0 = Lambda(lambda x: x[:,:,:,:f0], lambda s: (s[0], s[1], s[2], f0) ) (r)\n",
    "\t\tr1 = Lambda(lambda x: x[:,:,:,f0:], lambda s: (s[0], s[1], s[2], fs) ) (r)\n",
    "\t\t\n",
    "\t\tx = Add() ( [x,r0] )\n",
    "\t\tx = Concatenate(axis=-1) ([x,r1])\n",
    "\t\t\n",
    "\t\tf0 = f\n",
    "\t# 32x32x64\n",
    "\n",
    "\tx = MaxPooling2D(pool_size=(2, 2)) (x)\n",
    "\t# 16x16x64\n",
    "\n",
    "\n",
    "\t# block2 ####################################################\n",
    "\tf = 64\n",
    "\tfs = 32\n",
    "\tfor i in range(2):\n",
    "\t\tf0 = f\n",
    "\t\tf = f+fs\n",
    "\t\tr = x\n",
    "\t\t\n",
    "\t\tr = BatchNormalization() (r)\n",
    "\t\tr = Activation('relu') (r)\n",
    "\t\tr = Conv2D( f, (3,3), padding='valid', kernel_initializer='he_normal' ) (p1(r))\n",
    "\n",
    "\t\tr = BatchNormalization() (r)\n",
    "\t\tr = Activation('relu') (r)\n",
    "\t\tr = Conv2D( f, (3,3), padding='valid', kernel_initializer='he_normal' ) (p1(r))\n",
    "\t\t\n",
    "\t\tr = Dropout(0.25) (r)\n",
    "\n",
    "\t\tr0 = Lambda(lambda x: x[:,:,:,:f0], lambda s: (s[0], s[1], s[2], f0) ) (r)\n",
    "\t\tr1 = Lambda(lambda x: x[:,:,:,f0:], lambda s: (s[0], s[1], s[2], fs) ) (r)\n",
    "\n",
    "\t\tx = Add() ( [x,r0] )\n",
    "\t\tx = Concatenate(axis=-1) ([x,r1])\n",
    "\t\t\n",
    "\t\tf0 = f\n",
    "\t# 16x16x128\n",
    "\t\n",
    "\tx = MaxPooling2D(pool_size=(2, 2)) (x)\n",
    "\t# 8x8x128\n",
    "\n",
    "\t# block3 ####################################################\n",
    "\tf = 128\n",
    "\tfs = 64\n",
    "\tfor i in range(2):\n",
    "\t\tf0 = f\n",
    "\t\tf = f+fs\n",
    "\t\tr = x\n",
    "\t\t\n",
    "\t\tr = BatchNormalization() (r)\n",
    "\t\tr = Activation('relu') (r)\n",
    "\t\tr = Conv2D( f, (3,3), padding='valid', kernel_initializer='he_normal' ) (p1(r))\n",
    "\n",
    "\t\tr = BatchNormalization() (r)\n",
    "\t\tr = Activation('relu') (r)\n",
    "\t\tr = Conv2D( f, (3,3), padding='valid', kernel_initializer='he_normal' ) (p1(r))\n",
    "\t\t\n",
    "\t\tr = Dropout(0.25) (r)\n",
    "\n",
    "\t\tr0 = Lambda(lambda x: x[:,:,:,:f0], lambda s: (s[0], s[1], s[2], f0) ) (r)\n",
    "\t\tr1 = Lambda(lambda x: x[:,:,:,f0:], lambda s: (s[0], s[1], s[2], fs) ) (r)\n",
    "\n",
    "\t\tx = Add() ( [x,r0] )\n",
    "\t\tx = Concatenate(axis=-1) ([x,r1])\n",
    "\t\t\n",
    "\t\tf0 = f\n",
    "\t# 8x8x256\n",
    "\t\n",
    "\tx = MaxPooling2D(pool_size=(2, 2)) (x)\n",
    "\t# 4x4x256\n",
    "\n",
    "\t# block4 ####################################################\n",
    "\tx = Dropout(0.5) (x)\n",
    "\tx = Conv2D( 512, (1,1), padding='valid', kernel_initializer='he_normal', activation='relu' ) (x)\n",
    "\n",
    "\tx = Dropout(0.5) (x)\n",
    "\tx = Conv2D( nb_classes, (1,1), padding='valid', kernel_initializer='he_normal' ) (x)\n",
    "\tx = GlobalAveragePooling2D() (x)\n",
    "\tx = Activation('softmax') (x)\n",
    "\n",
    "\treturn Model(inputs=inp, outputs=x)"
   ]
  },
  {
   "cell_type": "markdown",
   "metadata": {},
   "source": [
    "## Block Scrambling"
   ]
  },
  {
   "cell_type": "code",
   "execution_count": 18,
   "metadata": {},
   "outputs": [
    {
     "ename": "FileNotFoundError",
     "evalue": "[Errno 2] No such file or directory: 'test_bs1.png'",
     "output_type": "error",
     "traceback": [
      "\u001b[0;31m---------------------------------------------------------------------------\u001b[0m",
      "\u001b[0;31mFileNotFoundError\u001b[0m                         Traceback (most recent call last)",
      "\u001b[0;32m<ipython-input-18-6ac987c57c55>\u001b[0m in \u001b[0;36m<module>\u001b[0;34m\u001b[0m\n\u001b[1;32m    105\u001b[0m         \u001b[0;32mimport\u001b[0m \u001b[0mos\u001b[0m\u001b[0;34m\u001b[0m\u001b[0;34m\u001b[0m\u001b[0m\n\u001b[1;32m    106\u001b[0m \u001b[0;34m\u001b[0m\u001b[0m\n\u001b[0;32m--> 107\u001b[0;31m         \u001b[0mim\u001b[0m \u001b[0;34m=\u001b[0m \u001b[0mImage\u001b[0m\u001b[0;34m.\u001b[0m\u001b[0mopen\u001b[0m\u001b[0;34m(\u001b[0m\u001b[0;34m'test_bs1.png'\u001b[0m\u001b[0;34m)\u001b[0m\u001b[0;34m\u001b[0m\u001b[0;34m\u001b[0m\u001b[0m\n\u001b[0m\u001b[1;32m    108\u001b[0m         \u001b[0mdata\u001b[0m \u001b[0;34m=\u001b[0m \u001b[0mnp\u001b[0m\u001b[0;34m.\u001b[0m\u001b[0masarray\u001b[0m\u001b[0;34m(\u001b[0m\u001b[0mim\u001b[0m\u001b[0;34m,\u001b[0m \u001b[0mdtype\u001b[0m\u001b[0;34m=\u001b[0m\u001b[0mnp\u001b[0m\u001b[0;34m.\u001b[0m\u001b[0muint8\u001b[0m\u001b[0;34m)\u001b[0m\u001b[0;34m\u001b[0m\u001b[0;34m\u001b[0m\u001b[0m\n\u001b[1;32m    109\u001b[0m         \u001b[0mdata\u001b[0m \u001b[0;34m=\u001b[0m \u001b[0mnp\u001b[0m\u001b[0;34m.\u001b[0m\u001b[0mreshape\u001b[0m\u001b[0;34m(\u001b[0m \u001b[0mdata\u001b[0m\u001b[0;34m,\u001b[0m \u001b[0;34m(\u001b[0m\u001b[0;36m1\u001b[0m\u001b[0;34m,\u001b[0m\u001b[0;34m)\u001b[0m\u001b[0;34m+\u001b[0m\u001b[0mdata\u001b[0m\u001b[0;34m.\u001b[0m\u001b[0mshape\u001b[0m \u001b[0;34m)\u001b[0m\u001b[0;34m\u001b[0m\u001b[0;34m\u001b[0m\u001b[0m\n",
      "\u001b[0;32m/opt/anaconda3/envs/tensor_env/lib/python3.6/site-packages/PIL/Image.py\u001b[0m in \u001b[0;36mopen\u001b[0;34m(fp, mode, formats)\u001b[0m\n\u001b[1;32m   2966\u001b[0m \u001b[0;34m\u001b[0m\u001b[0m\n\u001b[1;32m   2967\u001b[0m     \u001b[0;32mif\u001b[0m \u001b[0mfilename\u001b[0m\u001b[0;34m:\u001b[0m\u001b[0;34m\u001b[0m\u001b[0;34m\u001b[0m\u001b[0m\n\u001b[0;32m-> 2968\u001b[0;31m         \u001b[0mfp\u001b[0m \u001b[0;34m=\u001b[0m \u001b[0mbuiltins\u001b[0m\u001b[0;34m.\u001b[0m\u001b[0mopen\u001b[0m\u001b[0;34m(\u001b[0m\u001b[0mfilename\u001b[0m\u001b[0;34m,\u001b[0m \u001b[0;34m\"rb\"\u001b[0m\u001b[0;34m)\u001b[0m\u001b[0;34m\u001b[0m\u001b[0;34m\u001b[0m\u001b[0m\n\u001b[0m\u001b[1;32m   2969\u001b[0m         \u001b[0mexclusive_fp\u001b[0m \u001b[0;34m=\u001b[0m \u001b[0;32mTrue\u001b[0m\u001b[0;34m\u001b[0m\u001b[0;34m\u001b[0m\u001b[0m\n\u001b[1;32m   2970\u001b[0m \u001b[0;34m\u001b[0m\u001b[0m\n",
      "\u001b[0;31mFileNotFoundError\u001b[0m: [Errno 2] No such file or directory: 'test_bs1.png'"
     ]
    }
   ],
   "source": [
    "import numpy as np\n",
    "import math\n",
    "try:\n",
    "\timport cPickle as pickle\n",
    "except:\n",
    "\timport pickle\n",
    "\n",
    "class BlockScramble:\n",
    "\tdef __init__( self, blockSize_filename ):\n",
    "\t\tif( isinstance( blockSize_filename, str ) ):\n",
    "\t\t\tself.load( blockSize_filename )\n",
    "\t\telse:\n",
    "\t\t\tself.blockSize = blockSize_filename\n",
    "\t\t\tkey = self.genKey()\n",
    "\t\t\tself.setKey( key )\n",
    "\n",
    "\tdef setKey( self, key ):\n",
    "\t\tself.key = key\n",
    "\t\tself.rev = ( key > key.size/2 )\n",
    "\t\tself.invKey = np.argsort(key)\n",
    "\t\n",
    "\tdef load( self, filename ):\n",
    "\t\tfin = open(filename, 'rb')\n",
    "\t\tself.blockSize, self.key = pickle.load( fin )\n",
    "\t\tfin.close()\n",
    "\t\t\n",
    "\t\tself.setKey( self.key )\n",
    "\t\n",
    "\tdef save( self, filename ): # pkl\n",
    "\t\tfout = open(filename, 'wb')\n",
    "\t\tpickle.dump( [self.blockSize, self.key], fout )\n",
    "\t\tfout.close()\t\t\n",
    "\t\n",
    "\tdef genKey( self ):\n",
    "\t\tkey = self.blockSize[0] * self.blockSize[1]*self.blockSize[2]\n",
    "\t\tkey = np.arange(key*2, dtype=np.uint32)\n",
    "\t\tnp.random.shuffle(key)\n",
    "\t\treturn key\n",
    "\t\t\n",
    "\tdef padding( self, X ): # X is [datanum, width, height, channel]\n",
    "\t\ts = X.shape\n",
    "\t\t\n",
    "\t\tt = s[1] / self.blockSize[0]\n",
    "\t\td = t - math.floor(t)\n",
    "\t\tif( d > 0 ):\n",
    "\t\t\tpaddingSize = self.blockSize[0] * ( math.floor(t) + 1 ) - s[1]\n",
    "\t\t\tpadding = X[:,-1:,:,:]\n",
    "\t\t\tpadding = np.tile( padding, (1, paddingSize, 1, 1 ) )\n",
    "\t\t\tX = np.concatenate( (X, padding), axis = 1 )\n",
    "\n",
    "\t\tt = s[2] / self.blockSize[1]\n",
    "\t\td = t - math.floor(t)\n",
    "\t\tif( d > 0 ):\n",
    "\t\t\tpaddingSize = self.blockSize[1] * ( math.floor(t) + 1 ) - s[2]\n",
    "\t\t\tpadding = X[:,:,-1:,:]\n",
    "\t\t\tpadding = np.tile( padding, (1, 1, paddingSize, 1 ) )\n",
    "\t\t\tX = np.concatenate( (X, padding), axis = 2 )\n",
    "\t\t\n",
    "\t\treturn X\n",
    "\t\n",
    "\tdef Scramble(self, X):\n",
    "\t\tXX = (X * 255).astype(np.uint8)\n",
    "\t\tXX = self.doScramble(XX, self.key, self.rev)\n",
    "\t\treturn XX.astype('float32')/255.0\n",
    "\t\t\n",
    "\tdef Decramble(self, X):\n",
    "\t\tXX = (X * 255).astype(np.uint8)\n",
    "\t\tXX = self.doScramble(XX, self.invKey, self.rev)\n",
    "\t\treturn XX.astype('float32')/255.0\n",
    "\t\n",
    "\tdef doScramble(self, X, ord, rev): # X should be uint8\n",
    "\t\ts = X.shape\n",
    "\t\tassert( X.dtype == np.uint8 )\n",
    "\t\tassert( s[1] % self.blockSize[0] == 0 )\n",
    "\t\tassert( s[2] % self.blockSize[1] == 0 )\n",
    "\t\tassert( s[3] == self.blockSize[2] )\n",
    "\t\tnumBlock = np.int32( [ s[1] / self.blockSize[0], s[2] / self.blockSize[1] ] );\n",
    "\t\tnumCh = self.blockSize[2];\n",
    "\t\t\n",
    "\t\tX = np.reshape( X, ( s[0], numBlock[0], self.blockSize[0], numBlock[1], self.blockSize[1],  numCh ) )\n",
    "\t\tX = np.transpose( X, (0, 1, 3, 2, 4, 5) )\n",
    "\t\tX = np.reshape( X, ( s[0], numBlock[0], numBlock[1], self.blockSize[0] * self.blockSize[1] * numCh ) )\n",
    "\t\td = self.blockSize[0] * self.blockSize[1] * numCh;\n",
    "\t\t\n",
    "\t\tX0 = X & 0xF\n",
    "\t\tX1 = X >> 4\n",
    "\t\tX = np.concatenate( (X0,X1), axis=3 )\n",
    "\t\t\n",
    "\t\tX[:,:,:,rev] = ( 15 - X[:,:,:,rev].astype(np.int32) ).astype(np.uint8)\n",
    "\t\tX = X[:,:,:,ord]\n",
    "\t\tX[:,:,:,rev] = ( 15 - X[:,:,:,rev].astype(np.int32) ).astype(np.uint8)\n",
    "\n",
    "\t\tX0 = X[:,:,:,:d]\n",
    "\t\tX1 = X[:,:,:,d:]\n",
    "\t\tX = ( X1 << 4 ) + X0\n",
    "\t\t\n",
    "\t\tX = np.reshape( X, ( s[0], numBlock[0], numBlock[1], self.blockSize[0], self.blockSize[1], numCh ) )\n",
    "\t\tX = np.transpose( X, ( 0, 1, 3, 2, 4, 5) )\n",
    "\t\tX = np.reshape( X, ( s[0], numBlock[0] * self.blockSize[0], numBlock[1] * self.blockSize[1], numCh ) );\n",
    "\t\t\n",
    "\t\treturn X\n",
    "\n",
    "if( __name__ == '__main__' ):\n",
    "\tfrom PIL import Image\n",
    "\timport os\n",
    "\n",
    "\tim = Image.open('test_bs1.png')\n",
    "\tdata = np.asarray(im, dtype=np.uint8)\n",
    "\tdata = np.reshape( data, (1,)+data.shape )\n",
    "\tprint(data.shape)\n",
    "\t\n",
    "\tkey_file = 'key.pkl'\n",
    "\t\n",
    "\tif( os.path.exists(key_file) ):\n",
    "\t\tbs = BlockScramble( key_file )\n",
    "\telse:\n",
    "\t\tbs = BlockScramble( [4,4,3] )\n",
    "\t\tbs.save(key_file)\n",
    "\t\n",
    "\tdata = bs.padding( data )\n",
    "\tprint(data.shape)\n",
    "\t\n",
    "\tim = Image.fromarray( data[0,:,:,:] )\n",
    "\tim.save('test_bs1.png')\n",
    "\t\n",
    "\tdata = bs.Scramble( data )\n",
    "\tim = Image.fromarray( data[0,:,:,:] )\n",
    "\tim.save('test_bs2.png')\n",
    "\n",
    "\tdata = bs.Decramble( data )\n",
    "\tim = Image.fromarray( data[0,:,:,:] )\n",
    "\tim.save('test_bs3.png')"
   ]
  },
  {
   "cell_type": "markdown",
   "metadata": {},
   "source": [
    "## Run Demo"
   ]
  },
  {
   "cell_type": "code",
   "execution_count": null,
   "metadata": {},
   "outputs": [],
   "source": [
    "from keras.datasets import cifar10, cifar100\n",
    "from keras.utils import np_utils\n",
    "from keras import backend as K\n",
    "from keras.metrics import categorical_accuracy\n",
    "\n",
    "K.set_image_data_format('channels_last')\n",
    "\n",
    "import numpy as np\n",
    "from padding import PaddingReplicate2D\n",
    "from pixelshuffle import PixelShuffle_calc, PixelShuffle_shape\n",
    "import build_model\n",
    "import imageshuffle\n",
    "from BlockScramble import BlockScramble\n",
    "\n",
    "\n",
    "\n",
    "def load_cifar10():\n",
    "\t(X_train, y_train), (X_test, y_test) = cifar10.load_data()\n",
    "\tY_train = np_utils.to_categorical(y_train, 10)\n",
    "\tY_train = np.single( Y_train )\n",
    "\tY_test  = np_utils.to_categorical(y_test, 10)\n",
    "\tY_test = np.single( Y_test )\n",
    "\t\n",
    "\tX_train = X_train.astype('float32')/255.0\n",
    "\tX_test = X_test.astype('float32')/255.0\n",
    "\n",
    "\treturn (X_train, Y_train), (X_test, Y_test)\n",
    "\n",
    "def load_cifar100():\n",
    "\t(X_train, y_train), (X_test, y_test) = cifar100.load_data()\n",
    "\tY_train = np_utils.to_categorical(y_train, 100)\n",
    "\tY_train = np.single( Y_train )\n",
    "\tY_test  = np_utils.to_categorical(y_test, 100)\n",
    "\tY_test = np.single( Y_test )\n",
    "\t\n",
    "\tX_train = X_train.astype('float32')/255.0\n",
    "\tX_test = X_test.astype('float32')/255.0\n",
    "\n",
    "\treturn (X_train, Y_train), (X_test, Y_test)\n",
    "\n",
    "modelnames = ['direct', 'catmap', 'block', 'propose']\n",
    "for nb_classes in [10,100]:\n",
    "\t\n",
    "\tif( nb_classes == 10 ):\n",
    "\t\t(X_train, Y_train), (X_test0, Y_test) = load_cifar10()\n",
    "\telif( nb_classes == 100 ):\n",
    "\t\t(X_train, Y_train), (X_test0, Y_test) = load_cifar100()\n",
    "\t\n",
    "\tfor modelname in modelnames:\n",
    "\t\tname = modelname + '{n:03d}'.format(n=nb_classes)\n",
    "\t\tmodel = build_model.resnet(input_shape=[32,32,3], nb_classes=nb_classes)\n",
    "\t\tmodel.load_weights( 'weights/' + name + '.hdf5' )\n",
    "\t\t\n",
    "\t\tX_test = np.copy(X_test0)\n",
    "\t\tif( modelname == 'catmap' ):\n",
    "\t\t\timShuffle = imageshuffle.CatMapComb(1234)\n",
    "\t\t\tfor i in range(X_test.shape[0]):\n",
    "\t\t\t\tX_test[i,:,:,:] = imShuffle.enc( X_test[i,:,:,:] )\n",
    "\t\t\n",
    "\t\telif( modelname == 'block' ):\n",
    "\t\t\timShuffle = imageshuffle.RandBlock(1234, (4,4) )\n",
    "\t\t\tfor i in range(X_test.shape[0]):\n",
    "\t\t\t\tX_test[i,:,:,:] = imShuffle.enc( X_test[i,:,:,:] )\n",
    "\n",
    "\t\telif( modelname == 'propose' ):\n",
    "\t\t\tbs = BlockScramble( 'key.pkl' )\n",
    "\t\t\tX_test = bs.Scramble( X_test )\n",
    "\t\t\n",
    "\t\tY_pred = model.predict( X_test )\n",
    "\t\tacc = categorical_accuracy( Y_test, Y_pred )\n",
    "\t\tacc = K.get_value(acc)\n",
    "\t\tprint( '{name:s}: {acc:5.3f}'.format(name=name, acc=np.mean(acc)) )"
   ]
  },
  {
   "cell_type": "markdown",
   "metadata": {},
   "source": [
    "## Padding"
   ]
  },
  {
   "cell_type": "code",
   "execution_count": 14,
   "metadata": {},
   "outputs": [
    {
     "name": "stdout",
     "output_type": "stream",
     "text": [
      "[[1. 1. 1.]\n",
      " [1. 1. 1.]\n",
      " [1. 1. 1.]\n",
      " [1. 1. 1.]]\n",
      "[[0. 0. 0.]]\n",
      "[[2. 2. 2.]\n",
      " [2. 2. 2.]\n",
      " [2. 2. 2.]]\n",
      "[[0. 0. 0.]\n",
      " [1. 1. 1.]\n",
      " [1. 1. 1.]\n",
      " [1. 1. 1.]\n",
      " [1. 1. 1.]\n",
      " [2. 2. 2.]\n",
      " [2. 2. 2.]\n",
      " [2. 2. 2.]]\n"
     ]
    }
   ],
   "source": [
    "import keras.backend as K\n",
    "from keras.engine.topology import Layer\n",
    "from keras.engine import InputSpec\n",
    "from keras.utils import conv_utils\n",
    "\n",
    "class PaddingReplicate2D(Layer):\n",
    "\tdef __init__(self, size=(1, 1), data_format=None, **kwargs):\n",
    "\t\tsuper(PaddingReplicate2D, self).__init__(**kwargs)\n",
    "\t\tself.data_format = conv_utils.normalize_data_format(data_format)\n",
    "\t\tself.size = conv_utils.normalize_tuple(size, 2, 'size')\n",
    "\t\tself.input_spec = InputSpec(ndim=4)\n",
    "\t\n",
    "\tdef compute_output_shape(self, input_shape):\n",
    "\t\tif( self.data_format == 'channels_first' ):\n",
    "\t\t\theight = self.size[0] * 2 + input_shape[2] if input_shape[2] is not None else None\n",
    "\t\t\twidth = self.size[1] * 2 + input_shape[3] if input_shape[3] is not None else None\n",
    "\t\t\treturn (input_shape[0], input_shape[1], height, width)\n",
    "\t\t\t\n",
    "\t\telif( self.data_format == 'channels_last' ):\n",
    "\t\t\theight = self.size[0] * 2 + input_shape[1] if input_shape[1] is not None else None\n",
    "\t\t\twidth = self.size[1] * 2 + input_shape[2] if input_shape[2] is not None else None\n",
    "\t\t\treturn (input_shape[0], height, width, input_shape[3])\n",
    "\n",
    "\tdef call(self, inputs):\n",
    "\t\tif( self.data_format == 'channels_first' ):\n",
    "\t\t\tt0 = inputs[:,:,:1,:]\n",
    "\t\t\tt1 = inputs[:,:,-1:,:]\n",
    "\t\t\tif( self.size[0] > 1 ):\n",
    "\t\t\t\tt0 = K.repeat_elements( t0, self.size[0], axis=2 )\n",
    "\t\t\t\tt1 = K.repeat_elements( t1, self.size[0], axis=2 )\n",
    "\t\t\tt = K.concatenate( [t0, inputs, t1], axis=2 )\n",
    "\t\t\t\n",
    "\t\t\tt0 = t[:,:,:,:1]\n",
    "\t\t\tt1 = t[:,:,:,-1:]\n",
    "\t\t\tif( self.size[1] > 1 ):\n",
    "\t\t\t\tt0 = K.repeat_elements( t0, self.size[1], axis=3 )\n",
    "\t\t\t\tt1 = K.repeat_elements( t1, self.size[1], axis=3 )\n",
    "\t\t\toutputs = K.concatenate( [t0, t, t1], axis=3 )\n",
    "\t\t\t\n",
    "\t\telif( self.data_format == 'channels_last' ):\n",
    "\t\t\tt0 = inputs[:,:1,:,:]\n",
    "\t\t\tt1 = inputs[:,-1:,:,:]\n",
    "\t\t\tif( self.size[0] > 1 ):\n",
    "\t\t\t\tt0 = K.repeat_elements( t0, self.size[0], axis=1 )\n",
    "\t\t\t\tt1 = K.repeat_elements( t1, self.size[0], axis=1 )\n",
    "\t\t\tt = K.concatenate( [t0, inputs, t1], axis=1 )\n",
    "\t\t\t\n",
    "\t\t\tt0 = t[:,:,:1,:]\n",
    "\t\t\tt1 = t[:,:,-1:,:]\n",
    "\t\t\tif( self.size[1] > 1 ):\n",
    "\t\t\t\tt0 = K.repeat_elements( t0, self.size[1], axis=2 )\n",
    "\t\t\t\tt1 = K.repeat_elements( t1, self.size[1], axis=2 )\n",
    "\t\t\toutputs = K.concatenate( [t0, t, t1], axis=2 )\n",
    "\t\t\n",
    "\t\telse:\n",
    "\t\t\toutputs = None\n",
    "\t\t\n",
    "\t\treturn outputs\n",
    "\n",
    "\n",
    "\tdef get_config(self):\n",
    "\t\tconfig = {'size': self.size, 'data_format': self.data_format}\n",
    "\t\tbase_config = super(PaddingReplicate2D, self).get_config()\n",
    "\t\treturn dict(list(base_config.items()) + list(config.items()))\n",
    "\n",
    "if( __name__ == '__main__' ):\n",
    "\tt = K.ones((4, 3))\n",
    "\tprint(K.eval(t))\n",
    "\n",
    "\tt0 = t[:1,:] - 1\n",
    "\tprint(K.eval(t0))\n",
    "\n",
    "\tt1 = t[-1:,:] + 1\n",
    "\tt1 = K.repeat_elements( t1, 3, axis=0 )\n",
    "\tprint(K.eval(t1))\n",
    "\t\n",
    "\tt = K.concatenate( [t0, t, t1], axis=0 )\n",
    "\tprint(K.eval(t))"
   ]
  },
  {
   "cell_type": "markdown",
   "metadata": {},
   "source": [
    "## Pixel Shuffle"
   ]
  },
  {
   "cell_type": "code",
   "execution_count": 17,
   "metadata": {},
   "outputs": [],
   "source": [
    "from keras import backend as K\n",
    "from keras.layers import Layer, Lambda, Conv2D\n",
    "from keras.initializers import RandomUniform\n",
    "\n",
    "\n",
    "def PixelShuffle_calc(inputs, r):\n",
    "\tinput_shape = K.int_shape(inputs)\n",
    "\tbatch_size, h, w, c = input_shape\n",
    "\tif batch_size is None:\n",
    "\t\tbatch_size = -1\n",
    "\trh = r\n",
    "\trw = r\n",
    "\toh, ow = h * rh, w * rw\n",
    "\toc = c // (rh * rw)\n",
    "\n",
    "\toutputs = K.reshape(inputs, (batch_size, h, w, rh, rw, oc))\n",
    "\toutputs = K.permute_dimensions(outputs, (0, 1, 3, 2, 4, 5))\n",
    "\toutputs = K.reshape(outputs, (batch_size, oh, ow, oc))\n",
    "\treturn outputs\n",
    "\n",
    "def PixelShuffle_shape(s, r):\n",
    "\th = s[1] * r\n",
    "\tw = s[2] * r\n",
    "\tc = s[3] // (r*r)\n",
    "\treturn (s[0], h, w, c)\n",
    "\n",
    "def PixelShuffle( x, ratio ):\n",
    "\treturn Lambda( lambda x: PixelShuffle_calc(x, ratio), lambda s: PixelShuffle_shape(s, ratio) ) (x)\n",
    "\n",
    "def PSUpsampling( x, nb_features, ratio ):\n",
    "\tp1 = PaddingReplicate2D((1,1))\n",
    "\tx = Conv2D( nb_features*ratio*ratio, (3,3), activation='linear', padding='valid', kernel_initializer=RandomUniform(0., 1.0), kernel_constraint=ConstInterp(), use_bias=False ) (p1(x))\n",
    "\tx = PixelShuffle( x, ratio )\n",
    "\tx = Conv2D( nb_features, (3,3), activation='linear', padding='valid', kernel_initializer=RandomUniform(0., 1.0), kernel_constraint=ConstInterp(), use_bias=False ) (p1(x))\n",
    "\treturn x"
   ]
  },
  {
   "cell_type": "markdown",
   "metadata": {},
   "source": [
    "# MODEL 2 - adds dense and tanh codings "
   ]
  },
  {
   "cell_type": "code",
   "execution_count": 4,
   "metadata": {},
   "outputs": [
    {
     "data": {
      "text/plain": [
       "'float32'"
      ]
     },
     "execution_count": 4,
     "metadata": {},
     "output_type": "execute_result"
    }
   ],
   "source": [
    "K.floatx()"
   ]
  },
  {
   "cell_type": "code",
   "execution_count": 6,
   "metadata": {},
   "outputs": [],
   "source": [
    "model_name = 'crypto2'\n",
    "\n",
    "# Set up the crypto parameters: message, key, and ciphertext bit lengths\n",
    "m_bits = 8\n",
    "k_bits = 8\n",
    "c_bits = 8\n",
    "pad = 'same'\n",
    "\n",
    "# Compute the size of the message space\n",
    "m_train = 2**(m_bits + k_bits)\n",
    "\n",
    "alice_file = './models/crypto/' + model_name + '-alice'\n",
    "bob_file = './models/crypto/' + model_name + '-bob'\n",
    "eve_file = './models/crypto/' + model_name + '-eve'"
   ]
  },
  {
   "cell_type": "markdown",
   "metadata": {},
   "source": [
    "## Network Architecture"
   ]
  },
  {
   "cell_type": "code",
   "execution_count": 9,
   "metadata": {},
   "outputs": [],
   "source": [
    "K.clear_session()\n",
    "kersize = 4"
   ]
  },
  {
   "cell_type": "markdown",
   "metadata": {},
   "source": [
    "### Alice"
   ]
  },
  {
   "cell_type": "code",
   "execution_count": 10,
   "metadata": {},
   "outputs": [
    {
     "name": "stdout",
     "output_type": "stream",
     "text": [
      "Model: \"alice\"\n",
      "__________________________________________________________________________________________________\n",
      "Layer (type)                    Output Shape         Param #     Connected to                     \n",
      "==================================================================================================\n",
      "input_1 (InputLayer)            (None, 8)            0                                            \n",
      "__________________________________________________________________________________________________\n",
      "input_2 (InputLayer)            (None, 8)            0                                            \n",
      "__________________________________________________________________________________________________\n",
      "concatenate_1 (Concatenate)     (None, 16)           0           input_1[0][0]                    \n",
      "                                                                 input_2[0][0]                    \n",
      "__________________________________________________________________________________________________\n",
      "dense_1 (Dense)                 (None, 16)           272         concatenate_1[0][0]              \n",
      "__________________________________________________________________________________________________\n",
      "activation_1 (Activation)       (None, 16)           0           dense_1[0][0]                    \n",
      "__________________________________________________________________________________________________\n",
      "reshape_1 (Reshape)             (None, 16, 1)        0           activation_1[0][0]               \n",
      "__________________________________________________________________________________________________\n",
      "conv1d_1 (Conv1D)               (None, 16, 4)        20          reshape_1[0][0]                  \n",
      "__________________________________________________________________________________________________\n",
      "activation_2 (Activation)       (None, 16, 4)        0           conv1d_1[0][0]                   \n",
      "__________________________________________________________________________________________________\n",
      "conv1d_2 (Conv1D)               (None, 16, 4)        68          activation_2[0][0]               \n",
      "__________________________________________________________________________________________________\n",
      "activation_3 (Activation)       (None, 16, 4)        0           conv1d_2[0][0]                   \n",
      "__________________________________________________________________________________________________\n",
      "conv1d_3 (Conv1D)               (None, 16, 4)        68          activation_3[0][0]               \n",
      "__________________________________________________________________________________________________\n",
      "activation_4 (Activation)       (None, 16, 4)        0           conv1d_3[0][0]                   \n",
      "__________________________________________________________________________________________________\n",
      "conv1d_4 (Conv1D)               (None, 16, 4)        68          activation_4[0][0]               \n",
      "__________________________________________________________________________________________________\n",
      "activation_5 (Activation)       (None, 16, 4)        0           conv1d_4[0][0]                   \n",
      "__________________________________________________________________________________________________\n",
      "flatten_1 (Flatten)             (None, 64)           0           activation_5[0][0]               \n",
      "__________________________________________________________________________________________________\n",
      "dense_2 (Dense)                 (None, 8)            520         flatten_1[0][0]                  \n",
      "==================================================================================================\n",
      "Total params: 1,016\n",
      "Trainable params: 1,016\n",
      "Non-trainable params: 0\n",
      "__________________________________________________________________________________________________\n"
     ]
    }
   ],
   "source": [
    "##### Alice network #####\n",
    "#\n",
    "ainput0 = Input(shape=(m_bits,)) #message\n",
    "ainput1 = Input(shape=(k_bits,)) #key\n",
    "ainput = concatenate([ainput0, ainput1], axis=1)\n",
    "\n",
    "adense1 = Dense(units=(m_bits + k_bits))(ainput)\n",
    "adense1a = Activation('tanh')(adense1)\n",
    "\n",
    "areshape = Reshape((m_bits + k_bits, 1,))(adense1a)\n",
    "\n",
    "aconv1 = Conv1D(filters=4, kernel_size=kersize, strides=1, padding=pad)(areshape)\n",
    "aconv1a = Activation('tanh')(aconv1)\n",
    "aconv2 = Conv1D(filters=4, kernel_size=kersize, strides=1, padding=pad)(aconv1a)\n",
    "aconv2a = Activation('tanh')(aconv2)\n",
    "aconv3 = Conv1D(filters=4, kernel_size=kersize, strides=1, padding=pad)(aconv2a)\n",
    "aconv3a = Activation('tanh')(aconv3)\n",
    "aconv4 = Conv1D(filters=4, kernel_size=kersize, strides=1, padding=pad)(aconv3a)\n",
    "aconv4a = Activation('tanh')(aconv4)\n",
    "\n",
    "aflat = Flatten()(aconv4a)\n",
    "aoutput = Dense(units=c_bits, activation='tanh')(aflat) #ciphertext\n",
    "\n",
    "alice = Model([ainput0, ainput1], aoutput, name='alice')\n",
    "alice.summary()"
   ]
  },
  {
   "cell_type": "markdown",
   "metadata": {},
   "source": [
    "### Bob"
   ]
  },
  {
   "cell_type": "code",
   "execution_count": 11,
   "metadata": {},
   "outputs": [],
   "source": [
    "##### Bob network #####\n",
    "#\n",
    "binput0 = Input(shape=(c_bits,)) #ciphertext\n",
    "binput1 = Input(shape=(k_bits,)) #key\n",
    "binput = concatenate([binput0, binput1], axis=1)\n",
    "\n",
    "bdense1 = Dense(units=(c_bits + k_bits))(binput)\n",
    "bdense1a = Activation('tanh')(bdense1)\n",
    "\n",
    "breshape = Reshape((c_bits + k_bits, 1,))(bdense1a)\n",
    "\n",
    "bconv1 = Conv1D(filters=4, kernel_size=kersize, strides=1, padding=pad)(breshape)\n",
    "bconv1a = Activation('tanh')(bconv1)\n",
    "bconv2 = Conv1D(filters=4, kernel_size=kersize, strides=1, padding=pad)(bconv1a)\n",
    "bconv2a = Activation('tanh')(bconv2)\n",
    "bconv3 = Conv1D(filters=4, kernel_size=kersize, strides=1, padding=pad)(bconv2a)\n",
    "bconv3a = Activation('tanh')(bconv3)\n",
    "bconv4 = Conv1D(filters=4, kernel_size=kersize, strides=1, padding=pad)(bconv3a)\n",
    "bconv4a = Activation('tanh')(bconv4)\n",
    "\n",
    "bflat = Flatten()(bconv4a)\n",
    "boutput = Dense(units=m_bits, activation='sigmoid')(bflat) #decrypted message\n",
    "\n",
    "bob = Model([binput0, binput1], boutput, name='bob')\n",
    "#bob.summary()\n"
   ]
  },
  {
   "cell_type": "markdown",
   "metadata": {},
   "source": [
    "### Eve"
   ]
  },
  {
   "cell_type": "code",
   "execution_count": 12,
   "metadata": {},
   "outputs": [],
   "source": [
    "# Eve network\n",
    "#\n",
    "einput = Input(shape=(c_bits,)) #ciphertext only\n",
    "\n",
    "edense1 = Dense(units=(c_bits + k_bits))(einput)\n",
    "edense1a = Activation('tanh')(edense1)\n",
    "edense2 = Dense(units=(m_bits + k_bits))(edense1a)\n",
    "edense2a = Activation('tanh')(edense2)\n",
    "\n",
    "ereshape = Reshape((m_bits + k_bits, 1,))(edense2a)\n",
    "\n",
    "econv1 = Conv1D(filters=4, kernel_size=kersize, strides=1, padding=pad)(ereshape)\n",
    "econv1a = Activation('tanh')(econv1)\n",
    "econv2 = Conv1D(filters=4, kernel_size=kersize, strides=1, padding=pad)(econv1a)\n",
    "econv2a = Activation('tanh')(econv2)\n",
    "econv3 = Conv1D(filters=4, kernel_size=kersize, strides=1, padding=pad)(econv2a)\n",
    "econv3a = Activation('tanh')(econv3)\n",
    "econv4 = Conv1D(filters=4, kernel_size=kersize, strides=1, padding=pad)(econv3a)\n",
    "econv4a = Activation('tanh')(econv4)\n",
    "\n",
    "eflat = Flatten()(econv4a)\n",
    "eoutput = Dense(units=m_bits, activation='sigmoid')(eflat) #code break attempt\n",
    "\n",
    "eve = Model(einput, eoutput, name='eve')\n",
    "#eve.summary()"
   ]
  },
  {
   "cell_type": "code",
   "execution_count": 13,
   "metadata": {},
   "outputs": [],
   "source": [
    "alice.compile(loss='mse', optimizer='sgd')\n",
    "bob.compile(loss='mse', optimizer='sgd')\n",
    "eve.compile(loss='mse', optimizer='sgd')"
   ]
  },
  {
   "cell_type": "code",
   "execution_count": 14,
   "metadata": {},
   "outputs": [],
   "source": [
    "if False:\n",
    "    alice.summary()\n",
    "    bob.summary()\n",
    "    eve.summary()"
   ]
  },
  {
   "cell_type": "markdown",
   "metadata": {},
   "source": [
    "### Loss Functions and Optimizers"
   ]
  },
  {
   "cell_type": "code",
   "execution_count": 15,
   "metadata": {},
   "outputs": [
    {
     "name": "stderr",
     "output_type": "stream",
     "text": [
      "/opt/anaconda3/envs/tensor_env/lib/python3.6/site-packages/keras/engine/training_utils.py:819: UserWarning: Output bob missing from loss dictionary. We assume this was done on purpose. The fit and evaluate APIs will not be expecting any data to be passed to bob.\n",
      "  'be expecting any data to be passed to {0}.'.format(name))\n",
      "/opt/anaconda3/envs/tensor_env/lib/python3.6/site-packages/keras/engine/training_utils.py:819: UserWarning: Output eve missing from loss dictionary. We assume this was done on purpose. The fit and evaluate APIs will not be expecting any data to be passed to eve.\n",
      "  'be expecting any data to be passed to {0}.'.format(name))\n"
     ]
    }
   ],
   "source": [
    "# Establish the communication channels by linking inputs to outputs\n",
    "#\n",
    "aliceout = alice([ainput0, ainput1])\n",
    "bobout = bob( [aliceout, binput1] )# bob sees ciphertext AND key\n",
    "eveout = eve( aliceout )# eve doesn't see the key, only the cipher\n",
    "\n",
    "# Loss for Eve is just L1 distance between ainput0 and eoutput. The sum\n",
    "# is taken over all the bits in the message. The quantity inside the K.mean()\n",
    "# is per-example loss. We take the average across the entire mini-batch\n",
    "#\n",
    "eveloss = K.mean(  K.sum(K.abs(ainput0 - eveout), axis=-1)  )\n",
    "\n",
    "# Loss for Alice-Bob communication depends on Bob's reconstruction, but\n",
    "# also on Eve's ability to decrypt the message. Eve should do no better\n",
    "# than random guessing, so on average she will guess half the bits right.\n",
    "#\n",
    "bobloss = K.mean(  K.sum(K.abs(ainput0 - bobout), axis=-1)  )\n",
    "abeloss = bobloss + K.square(m_bits/2 - eveloss)/( (m_bits//2)**2 )\n",
    "\n",
    "# Optimizer and compilation\n",
    "#\n",
    "abeoptim = Adam()#RMSprop(lr=0.0015)\n",
    "eveoptim = Adam()#RMSprop(lr=0.0015) #default 0.001\n",
    "\n",
    "\n",
    "# Build and compile the ABE model, used for training Alice-Bob networks\n",
    "#\n",
    "abemodel = Model([ainput0, ainput1, binput1], bobout, name='abemodel')\n",
    "abemodel.add_loss(abeloss)\n",
    "abemodel.compile(optimizer=abeoptim)\n",
    "\n",
    "\n",
    "# Build and compile the EVE model, used for training Eve net (with Alice frozen)\n",
    "#\n",
    "alice.trainable = False\n",
    "evemodel = Model([ainput0, ainput1], eveout, name='evemodel')\n",
    "evemodel.add_loss(eveloss)\n",
    "evemodel.compile(optimizer=eveoptim)"
   ]
  },
  {
   "cell_type": "markdown",
   "metadata": {},
   "source": [
    "### Train, Save and Restore"
   ]
  },
  {
   "cell_type": "code",
   "execution_count": 16,
   "metadata": {},
   "outputs": [],
   "source": [
    "# Keep track of loss at every iteration for the final graph\n",
    "abelosses = []\n",
    "boblosses = []\n",
    "evelosses = []"
   ]
  },
  {
   "cell_type": "code",
   "execution_count": 24,
   "metadata": {},
   "outputs": [
    {
     "name": "stdout",
     "output_type": "stream",
     "text": [
      "Training for 30 epochs with 256 batches of size 256\n",
      "Epoch   0:   0% | abe: 0.198 | eve: 3.066 | bob: 0.132"
     ]
    },
    {
     "name": "stderr",
     "output_type": "stream",
     "text": [
      "/opt/anaconda3/envs/tensor_env/lib/python3.6/site-packages/keras/engine/training.py:297: UserWarning: Discrepancy between trainable weights and collected trainable weights, did you set `model.trainable` without calling `model.compile` after ?\n",
      "  'Discrepancy between trainable weights and collected trainable'\n"
     ]
    },
    {
     "name": "stdout",
     "output_type": "stream",
     "text": [
      "Epoch   0:  99% | abe: 0.215 | eve: 2.938 | bob: 0.144\n",
      "Epoch   1:  99% | abe: 0.194 | eve: 3.066 | bob: 0.147\n",
      "Epoch   2:  99% | abe: 0.187 | eve: 3.088 | bob: 0.144\n",
      "Epoch   3:  99% | abe: 0.188 | eve: 3.089 | bob: 0.144\n",
      "Epoch   4:  99% | abe: 0.215 | eve: 2.943 | bob: 0.144\n",
      "Epoch   5:  99% | abe: 0.197 | eve: 2.989 | bob: 0.145\n",
      "Epoch   6:  25% | abe: 0.178 | eve: 3.086 | bob: 0.140"
     ]
    },
    {
     "ename": "KeyboardInterrupt",
     "evalue": "",
     "output_type": "error",
     "traceback": [
      "\u001b[0;31m---------------------------------------------------------------------------\u001b[0m",
      "\u001b[0;31mKeyboardInterrupt\u001b[0m                         Traceback (most recent call last)",
      "\u001b[0;32m<ipython-input-24-1da8bcc87b90>\u001b[0m in \u001b[0;36m<module>\u001b[0;34m\u001b[0m\n\u001b[1;32m     23\u001b[0m             \u001b[0mm_batch\u001b[0m \u001b[0;34m=\u001b[0m \u001b[0mnp\u001b[0m\u001b[0;34m.\u001b[0m\u001b[0mrandom\u001b[0m\u001b[0;34m.\u001b[0m\u001b[0mrandint\u001b[0m\u001b[0;34m(\u001b[0m\u001b[0;36m0\u001b[0m\u001b[0;34m,\u001b[0m \u001b[0;36m2\u001b[0m\u001b[0;34m,\u001b[0m \u001b[0mm_bits\u001b[0m \u001b[0;34m*\u001b[0m \u001b[0mbatch_size\u001b[0m\u001b[0;34m)\u001b[0m\u001b[0;34m.\u001b[0m\u001b[0mreshape\u001b[0m\u001b[0;34m(\u001b[0m\u001b[0mbatch_size\u001b[0m\u001b[0;34m,\u001b[0m \u001b[0mm_bits\u001b[0m\u001b[0;34m)\u001b[0m\u001b[0;34m\u001b[0m\u001b[0;34m\u001b[0m\u001b[0m\n\u001b[1;32m     24\u001b[0m             \u001b[0mk_batch\u001b[0m \u001b[0;34m=\u001b[0m \u001b[0mnp\u001b[0m\u001b[0;34m.\u001b[0m\u001b[0mrandom\u001b[0m\u001b[0;34m.\u001b[0m\u001b[0mrandint\u001b[0m\u001b[0;34m(\u001b[0m\u001b[0;36m0\u001b[0m\u001b[0;34m,\u001b[0m \u001b[0;36m2\u001b[0m\u001b[0;34m,\u001b[0m \u001b[0mk_bits\u001b[0m \u001b[0;34m*\u001b[0m \u001b[0mbatch_size\u001b[0m\u001b[0;34m)\u001b[0m\u001b[0;34m.\u001b[0m\u001b[0mreshape\u001b[0m\u001b[0;34m(\u001b[0m\u001b[0mbatch_size\u001b[0m\u001b[0;34m,\u001b[0m \u001b[0mk_bits\u001b[0m\u001b[0;34m)\u001b[0m\u001b[0;34m\u001b[0m\u001b[0;34m\u001b[0m\u001b[0m\n\u001b[0;32m---> 25\u001b[0;31m             \u001b[0mloss\u001b[0m \u001b[0;34m=\u001b[0m \u001b[0mabemodel\u001b[0m\u001b[0;34m.\u001b[0m\u001b[0mtrain_on_batch\u001b[0m\u001b[0;34m(\u001b[0m\u001b[0;34m[\u001b[0m\u001b[0mm_batch\u001b[0m\u001b[0;34m,\u001b[0m \u001b[0mk_batch\u001b[0m\u001b[0;34m,\u001b[0m \u001b[0mk_batch\u001b[0m\u001b[0;34m]\u001b[0m\u001b[0;34m,\u001b[0m \u001b[0;32mNone\u001b[0m\u001b[0;34m)\u001b[0m\u001b[0;34m\u001b[0m\u001b[0;34m\u001b[0m\u001b[0m\n\u001b[0m\u001b[1;32m     26\u001b[0m \u001b[0;34m\u001b[0m\u001b[0m\n\u001b[1;32m     27\u001b[0m         \u001b[0mabelosses0\u001b[0m\u001b[0;34m.\u001b[0m\u001b[0mappend\u001b[0m\u001b[0;34m(\u001b[0m\u001b[0mloss\u001b[0m\u001b[0;34m)\u001b[0m\u001b[0;34m\u001b[0m\u001b[0;34m\u001b[0m\u001b[0m\n",
      "\u001b[0;32m/opt/anaconda3/envs/tensor_env/lib/python3.6/site-packages/keras/engine/training.py\u001b[0m in \u001b[0;36mtrain_on_batch\u001b[0;34m(self, x, y, sample_weight, class_weight, reset_metrics)\u001b[0m\n\u001b[1;32m   1512\u001b[0m             \u001b[0mins\u001b[0m \u001b[0;34m=\u001b[0m \u001b[0mx\u001b[0m \u001b[0;34m+\u001b[0m \u001b[0my\u001b[0m \u001b[0;34m+\u001b[0m \u001b[0msample_weights\u001b[0m\u001b[0;34m\u001b[0m\u001b[0;34m\u001b[0m\u001b[0m\n\u001b[1;32m   1513\u001b[0m         \u001b[0mself\u001b[0m\u001b[0;34m.\u001b[0m\u001b[0m_make_train_function\u001b[0m\u001b[0;34m(\u001b[0m\u001b[0;34m)\u001b[0m\u001b[0;34m\u001b[0m\u001b[0;34m\u001b[0m\u001b[0m\n\u001b[0;32m-> 1514\u001b[0;31m         \u001b[0moutputs\u001b[0m \u001b[0;34m=\u001b[0m \u001b[0mself\u001b[0m\u001b[0;34m.\u001b[0m\u001b[0mtrain_function\u001b[0m\u001b[0;34m(\u001b[0m\u001b[0mins\u001b[0m\u001b[0;34m)\u001b[0m\u001b[0;34m\u001b[0m\u001b[0;34m\u001b[0m\u001b[0m\n\u001b[0m\u001b[1;32m   1515\u001b[0m \u001b[0;34m\u001b[0m\u001b[0m\n\u001b[1;32m   1516\u001b[0m         \u001b[0;32mif\u001b[0m \u001b[0mreset_metrics\u001b[0m\u001b[0;34m:\u001b[0m\u001b[0;34m\u001b[0m\u001b[0;34m\u001b[0m\u001b[0m\n",
      "\u001b[0;32m/opt/anaconda3/envs/tensor_env/lib/python3.6/site-packages/tensorflow_core/python/keras/backend.py\u001b[0m in \u001b[0;36m__call__\u001b[0;34m(self, inputs)\u001b[0m\n\u001b[1;32m   3738\u001b[0m         \u001b[0mvalue\u001b[0m \u001b[0;34m=\u001b[0m \u001b[0mmath_ops\u001b[0m\u001b[0;34m.\u001b[0m\u001b[0mcast\u001b[0m\u001b[0;34m(\u001b[0m\u001b[0mvalue\u001b[0m\u001b[0;34m,\u001b[0m \u001b[0mtensor\u001b[0m\u001b[0;34m.\u001b[0m\u001b[0mdtype\u001b[0m\u001b[0;34m)\u001b[0m\u001b[0;34m\u001b[0m\u001b[0;34m\u001b[0m\u001b[0m\n\u001b[1;32m   3739\u001b[0m       \u001b[0mconverted_inputs\u001b[0m\u001b[0;34m.\u001b[0m\u001b[0mappend\u001b[0m\u001b[0;34m(\u001b[0m\u001b[0mvalue\u001b[0m\u001b[0;34m)\u001b[0m\u001b[0;34m\u001b[0m\u001b[0;34m\u001b[0m\u001b[0m\n\u001b[0;32m-> 3740\u001b[0;31m     \u001b[0moutputs\u001b[0m \u001b[0;34m=\u001b[0m \u001b[0mself\u001b[0m\u001b[0;34m.\u001b[0m\u001b[0m_graph_fn\u001b[0m\u001b[0;34m(\u001b[0m\u001b[0;34m*\u001b[0m\u001b[0mconverted_inputs\u001b[0m\u001b[0;34m)\u001b[0m\u001b[0;34m\u001b[0m\u001b[0;34m\u001b[0m\u001b[0m\n\u001b[0m\u001b[1;32m   3741\u001b[0m \u001b[0;34m\u001b[0m\u001b[0m\n\u001b[1;32m   3742\u001b[0m     \u001b[0;31m# EagerTensor.numpy() will often make a copy to ensure memory safety.\u001b[0m\u001b[0;34m\u001b[0m\u001b[0;34m\u001b[0m\u001b[0;34m\u001b[0m\u001b[0m\n",
      "\u001b[0;32m/opt/anaconda3/envs/tensor_env/lib/python3.6/site-packages/tensorflow_core/python/eager/function.py\u001b[0m in \u001b[0;36m__call__\u001b[0;34m(self, *args, **kwargs)\u001b[0m\n\u001b[1;32m   1079\u001b[0m       \u001b[0mTypeError\u001b[0m\u001b[0;34m:\u001b[0m \u001b[0mFor\u001b[0m \u001b[0minvalid\u001b[0m \u001b[0mpositional\u001b[0m\u001b[0;34m/\u001b[0m\u001b[0mkeyword\u001b[0m \u001b[0margument\u001b[0m \u001b[0mcombinations\u001b[0m\u001b[0;34m.\u001b[0m\u001b[0;34m\u001b[0m\u001b[0;34m\u001b[0m\u001b[0m\n\u001b[1;32m   1080\u001b[0m     \"\"\"\n\u001b[0;32m-> 1081\u001b[0;31m     \u001b[0;32mreturn\u001b[0m \u001b[0mself\u001b[0m\u001b[0;34m.\u001b[0m\u001b[0m_call_impl\u001b[0m\u001b[0;34m(\u001b[0m\u001b[0margs\u001b[0m\u001b[0;34m,\u001b[0m \u001b[0mkwargs\u001b[0m\u001b[0;34m)\u001b[0m\u001b[0;34m\u001b[0m\u001b[0;34m\u001b[0m\u001b[0m\n\u001b[0m\u001b[1;32m   1082\u001b[0m \u001b[0;34m\u001b[0m\u001b[0m\n\u001b[1;32m   1083\u001b[0m   \u001b[0;32mdef\u001b[0m \u001b[0m_call_impl\u001b[0m\u001b[0;34m(\u001b[0m\u001b[0mself\u001b[0m\u001b[0;34m,\u001b[0m \u001b[0margs\u001b[0m\u001b[0;34m,\u001b[0m \u001b[0mkwargs\u001b[0m\u001b[0;34m,\u001b[0m \u001b[0mcancellation_manager\u001b[0m\u001b[0;34m=\u001b[0m\u001b[0;32mNone\u001b[0m\u001b[0;34m)\u001b[0m\u001b[0;34m:\u001b[0m\u001b[0;34m\u001b[0m\u001b[0;34m\u001b[0m\u001b[0m\n",
      "\u001b[0;32m/opt/anaconda3/envs/tensor_env/lib/python3.6/site-packages/tensorflow_core/python/eager/function.py\u001b[0m in \u001b[0;36m_call_impl\u001b[0;34m(self, args, kwargs, cancellation_manager)\u001b[0m\n\u001b[1;32m   1119\u001b[0m       raise TypeError(\"Keyword arguments {} unknown. Expected {}.\".format(\n\u001b[1;32m   1120\u001b[0m           list(kwargs.keys()), list(self._arg_keywords)))\n\u001b[0;32m-> 1121\u001b[0;31m     \u001b[0;32mreturn\u001b[0m \u001b[0mself\u001b[0m\u001b[0;34m.\u001b[0m\u001b[0m_call_flat\u001b[0m\u001b[0;34m(\u001b[0m\u001b[0margs\u001b[0m\u001b[0;34m,\u001b[0m \u001b[0mself\u001b[0m\u001b[0;34m.\u001b[0m\u001b[0mcaptured_inputs\u001b[0m\u001b[0;34m,\u001b[0m \u001b[0mcancellation_manager\u001b[0m\u001b[0;34m)\u001b[0m\u001b[0;34m\u001b[0m\u001b[0;34m\u001b[0m\u001b[0m\n\u001b[0m\u001b[1;32m   1122\u001b[0m \u001b[0;34m\u001b[0m\u001b[0m\n\u001b[1;32m   1123\u001b[0m   \u001b[0;32mdef\u001b[0m \u001b[0m_filtered_call\u001b[0m\u001b[0;34m(\u001b[0m\u001b[0mself\u001b[0m\u001b[0;34m,\u001b[0m \u001b[0margs\u001b[0m\u001b[0;34m,\u001b[0m \u001b[0mkwargs\u001b[0m\u001b[0;34m)\u001b[0m\u001b[0;34m:\u001b[0m\u001b[0;34m\u001b[0m\u001b[0;34m\u001b[0m\u001b[0m\n",
      "\u001b[0;32m/opt/anaconda3/envs/tensor_env/lib/python3.6/site-packages/tensorflow_core/python/eager/function.py\u001b[0m in \u001b[0;36m_call_flat\u001b[0;34m(self, args, captured_inputs, cancellation_manager)\u001b[0m\n\u001b[1;32m   1222\u001b[0m     \u001b[0;32mif\u001b[0m \u001b[0mexecuting_eagerly\u001b[0m\u001b[0;34m:\u001b[0m\u001b[0;34m\u001b[0m\u001b[0;34m\u001b[0m\u001b[0m\n\u001b[1;32m   1223\u001b[0m       flat_outputs = forward_function.call(\n\u001b[0;32m-> 1224\u001b[0;31m           ctx, args, cancellation_manager=cancellation_manager)\n\u001b[0m\u001b[1;32m   1225\u001b[0m     \u001b[0;32melse\u001b[0m\u001b[0;34m:\u001b[0m\u001b[0;34m\u001b[0m\u001b[0;34m\u001b[0m\u001b[0m\n\u001b[1;32m   1226\u001b[0m       \u001b[0mgradient_name\u001b[0m \u001b[0;34m=\u001b[0m \u001b[0mself\u001b[0m\u001b[0;34m.\u001b[0m\u001b[0m_delayed_rewrite_functions\u001b[0m\u001b[0;34m.\u001b[0m\u001b[0mregister\u001b[0m\u001b[0;34m(\u001b[0m\u001b[0;34m)\u001b[0m\u001b[0;34m\u001b[0m\u001b[0;34m\u001b[0m\u001b[0m\n",
      "\u001b[0;32m/opt/anaconda3/envs/tensor_env/lib/python3.6/site-packages/tensorflow_core/python/eager/function.py\u001b[0m in \u001b[0;36mcall\u001b[0;34m(self, ctx, args, cancellation_manager)\u001b[0m\n\u001b[1;32m    509\u001b[0m               \u001b[0minputs\u001b[0m\u001b[0;34m=\u001b[0m\u001b[0margs\u001b[0m\u001b[0;34m,\u001b[0m\u001b[0;34m\u001b[0m\u001b[0;34m\u001b[0m\u001b[0m\n\u001b[1;32m    510\u001b[0m               \u001b[0mattrs\u001b[0m\u001b[0;34m=\u001b[0m\u001b[0;34m(\u001b[0m\u001b[0;34m\"executor_type\"\u001b[0m\u001b[0;34m,\u001b[0m \u001b[0mexecutor_type\u001b[0m\u001b[0;34m,\u001b[0m \u001b[0;34m\"config_proto\"\u001b[0m\u001b[0;34m,\u001b[0m \u001b[0mconfig\u001b[0m\u001b[0;34m)\u001b[0m\u001b[0;34m,\u001b[0m\u001b[0;34m\u001b[0m\u001b[0;34m\u001b[0m\u001b[0m\n\u001b[0;32m--> 511\u001b[0;31m               ctx=ctx)\n\u001b[0m\u001b[1;32m    512\u001b[0m         \u001b[0;32melse\u001b[0m\u001b[0;34m:\u001b[0m\u001b[0;34m\u001b[0m\u001b[0;34m\u001b[0m\u001b[0m\n\u001b[1;32m    513\u001b[0m           outputs = execute.execute_with_cancellation(\n",
      "\u001b[0;32m/opt/anaconda3/envs/tensor_env/lib/python3.6/site-packages/tensorflow_core/python/eager/execute.py\u001b[0m in \u001b[0;36mquick_execute\u001b[0;34m(op_name, num_outputs, inputs, attrs, ctx, name)\u001b[0m\n\u001b[1;32m     59\u001b[0m     tensors = pywrap_tensorflow.TFE_Py_Execute(ctx._handle, device_name,\n\u001b[1;32m     60\u001b[0m                                                \u001b[0mop_name\u001b[0m\u001b[0;34m,\u001b[0m \u001b[0minputs\u001b[0m\u001b[0;34m,\u001b[0m \u001b[0mattrs\u001b[0m\u001b[0;34m,\u001b[0m\u001b[0;34m\u001b[0m\u001b[0;34m\u001b[0m\u001b[0m\n\u001b[0;32m---> 61\u001b[0;31m                                                num_outputs)\n\u001b[0m\u001b[1;32m     62\u001b[0m   \u001b[0;32mexcept\u001b[0m \u001b[0mcore\u001b[0m\u001b[0;34m.\u001b[0m\u001b[0m_NotOkStatusException\u001b[0m \u001b[0;32mas\u001b[0m \u001b[0me\u001b[0m\u001b[0;34m:\u001b[0m\u001b[0;34m\u001b[0m\u001b[0;34m\u001b[0m\u001b[0m\n\u001b[1;32m     63\u001b[0m     \u001b[0;32mif\u001b[0m \u001b[0mname\u001b[0m \u001b[0;32mis\u001b[0m \u001b[0;32mnot\u001b[0m \u001b[0;32mNone\u001b[0m\u001b[0;34m:\u001b[0m\u001b[0;34m\u001b[0m\u001b[0;34m\u001b[0m\u001b[0m\n",
      "\u001b[0;31mKeyboardInterrupt\u001b[0m: "
     ]
    }
   ],
   "source": [
    "n_epochs = 30\n",
    "batch_size = 256\n",
    "n_batches = m_train // batch_size\n",
    "\n",
    "abecycles = 1\n",
    "evecycles = 2\n",
    "\n",
    "epoch = 0\n",
    "print(\"Training for\", n_epochs, \"epochs with\", n_batches, \"batches of size\", batch_size)\n",
    "\n",
    "while epoch < n_epochs:\n",
    "    abelosses0 = [] #epoch-bound losses for text display during training\n",
    "    boblosses0 = []\n",
    "    evelosses0 = []\n",
    "    for iteration in range(n_batches):\n",
    "        \n",
    "        # Train the A-B+E network\n",
    "        #\n",
    "        alice.trainable = True\n",
    "        for cycle in range(abecycles):\n",
    "            # Select a random batch of messages, and a random batch of keys\n",
    "            #\n",
    "            m_batch = np.random.randint(0, 2, m_bits * batch_size).reshape(batch_size, m_bits)\n",
    "            k_batch = np.random.randint(0, 2, k_bits * batch_size).reshape(batch_size, k_bits)\n",
    "            loss = abemodel.train_on_batch([m_batch, k_batch, k_batch], None)\n",
    "        \n",
    "        abelosses0.append(loss)\n",
    "        abelosses.append(loss)\n",
    "        abeavg = np.mean(abelosses0)\n",
    "            \n",
    "        # Evaluate Bob's ability to decrypt a message\n",
    "        m_enc = alice.predict([m_batch, k_batch])\n",
    "        m_dec = bob.predict([m_enc, k_batch])\n",
    "        loss = np.mean(  np.sum( np.abs(m_batch - m_dec), axis=-1)  )\n",
    "        boblosses0.append(loss)\n",
    "        boblosses.append(loss)\n",
    "        bobavg = np.mean(boblosses0)\n",
    "        \n",
    "        # Train the EVE network\n",
    "        #\n",
    "        alice.trainable = False\n",
    "        for cycle in range(evecycles):\n",
    "            m_batch = np.random.randint(0, 2, m_bits * batch_size).reshape(batch_size, m_bits)\n",
    "            k_batch = np.random.randint(0, 2, k_bits * batch_size).reshape(batch_size, k_bits)\n",
    "            loss = evemodel.train_on_batch([m_batch, k_batch], None)\n",
    "        \n",
    "        evelosses0.append(loss)\n",
    "        evelosses.append(loss)\n",
    "        eveavg = np.mean(evelosses0)\n",
    "        \n",
    "        if iteration % max(1, (n_batches // 100)) == 0:\n",
    "            print(\"\\rEpoch {:3}: {:3}% | abe: {:2.3f} | eve: {:2.3f} | bob: {:2.3f}\".format(\n",
    "                epoch, 100 * iteration // n_batches, abeavg, eveavg, bobavg), end=\"\")\n",
    "            sys.stdout.flush()\n",
    "    \n",
    "    print()\n",
    "    epoch += 1\n",
    "    \n",
    "print('Training finished.')"
   ]
  },
  {
   "cell_type": "code",
   "execution_count": 18,
   "metadata": {},
   "outputs": [
    {
     "data": {
      "image/png": "[encoded data removed]",
      "text/plain": [
       "<Figure size 504x288 with 1 Axes>"
      ]
     },
     "metadata": {
      "needs_background": "light"
     },
     "output_type": "display_data"
    }
   ],
   "source": [
    "steps = -1\n",
    "\n",
    "plt.figure(figsize=(7, 4))\n",
    "plt.plot(abelosses[:steps], label='A-B', alpha=0.99)\n",
    "plt.plot(evelosses[:steps], label='Eve', alpha=0.99)\n",
    "plt.plot(boblosses[:steps], label='Bob', alpha=0.99)\n",
    "plt.xlabel(\"Iterations\", fontsize=13)\n",
    "plt.ylabel(\"Loss\", fontsize=13)\n",
    "plt.legend(fontsize=13, loc='upper right')\n",
    "\n",
    "#plt.savefig(\"images/\" + model_name + \"-all.png\", transparent=True) #dpi=100\n",
    "plt.show()"
   ]
  },
  {
   "cell_type": "code",
   "execution_count": 21,
   "metadata": {},
   "outputs": [],
   "source": [
    "alice.save('alice_crypto2.h5', overwrite=True)\n",
    "bob.save('bob_crypto2.h5', overwrite=True)\n",
    "eve.save('eve_crypto2.h5', overwrite=True)"
   ]
  },
  {
   "cell_type": "code",
   "execution_count": 22,
   "metadata": {},
   "outputs": [],
   "source": [
    "alice = load_model('alice_crypto2.h5')\n",
    "bob = load_model('bob_crypto2.h5')\n",
    "eve = load_model('eve_crypto2.h5')"
   ]
  },
  {
   "cell_type": "markdown",
   "metadata": {},
   "source": [
    "### Evaluate"
   ]
  },
  {
   "cell_type": "code",
   "execution_count": 23,
   "metadata": {},
   "outputs": [
    {
     "name": "stdout",
     "output_type": "stream",
     "text": [
      "Bob % correct:  86.76 %\n",
      "Eve % correct:  2.5 %\n"
     ]
    }
   ],
   "source": [
    "n_examples = 10000\n",
    "\n",
    "m_batch = np.random.randint(0, 2, m_bits * n_examples).reshape(n_examples, m_bits)\n",
    "k_batch = np.random.randint(0, 2, m_bits * n_examples).reshape(n_examples, m_bits)\n",
    "\n",
    "m_enc = alice.predict([m_batch, k_batch])\n",
    "#m_enc = np.round(m_enc, 3)\n",
    "m_dec = (bob.predict([m_enc, k_batch]) > 0.5).astype(int)\n",
    "m_att = (eve.predict(m_enc) > 0.5).astype(int)\n",
    "\n",
    "bdiff = np.abs(m_batch - m_dec)\n",
    "bsum = np.sum(bdiff, axis=-1)\n",
    "ediff = np.abs(m_batch - m_att)\n",
    "esum = np.sum(ediff, axis=-1)\n",
    "\n",
    "print(\"Bob % correct: \", 100.0*np.sum(bsum == 0) / n_examples, '%')\n",
    "print(\"Eve % correct: \", 100.0*np.sum(esum == 0) / n_examples, '%')"
   ]
  }
 ],
 "metadata": {
  "colab": {
   "collapsed_sections": [],
   "name": "FYP_ANC.ipynb",
   "provenance": []
  },
  "kernelspec": {
   "display_name": "Python 3 (ipykernel)",
   "language": "python",
   "name": "python3"
  },
  "language_info": {
   "codemirror_mode": {
    "name": "ipython",
    "version": 3
   },
   "file_extension": ".py",
   "mimetype": "text/x-python",
   "name": "python",
   "nbconvert_exporter": "python",
   "pygments_lexer": "ipython3",
   "version": "3.6.13"
  }
 },
 "nbformat": 4,
 "nbformat_minor": 1
}
