{
 "cells": [
  {
   "cell_type": "markdown",
   "metadata": {
    "id": "ZrnsaBneePT3"
   },
   "source": [
    "# Message Concealment Scheme"
   ]
  },
  {
   "cell_type": "markdown",
   "metadata": {
    "id": "rEMLAxHwj3Ms"
   },
   "source": [
    "## Libraries and initial setup"
   ]
  },
  {
   "cell_type": "code",
   "execution_count": 1,
   "metadata": {
    "scrolled": true
   },
   "outputs": [
    {
     "name": "stdout",
     "output_type": "stream",
     "text": [
      "Requirement already satisfied: gmpy2 in /Users/prasannshimpi/opt/anaconda3/lib/python3.9/site-packages (2.0.8)\n",
      "Collecting tensorflow\n",
      "  Downloading tensorflow-2.7.0-cp39-cp39-macosx_10_11_x86_64.whl (207.1 MB)\n",
      "\u001b[K     |████████████████████████████████| 207.1 MB 4.2 MB/s eta 0:00:01 | 49.7 MB 5.2 MB/s eta 0:00:31     |████████████████████████▊       | 159.7 MB 3.8 MB/s eta 0:00:13     |███████████████████████████▊    | 179.7 MB 6.4 MB/s eta 0:00:05\n",
      "\u001b[?25hRequirement already satisfied: h5py>=2.9.0 in /Users/prasannshimpi/opt/anaconda3/lib/python3.9/site-packages (from tensorflow) (3.2.1)\n",
      "Collecting termcolor>=1.1.0\n",
      "  Using cached termcolor-1.1.0.tar.gz (3.9 kB)\n",
      "Requirement already satisfied: numpy>=1.14.5 in /Users/prasannshimpi/opt/anaconda3/lib/python3.9/site-packages (from tensorflow) (1.20.3)\n",
      "Requirement already satisfied: wheel<1.0,>=0.32.0 in /Users/prasannshimpi/opt/anaconda3/lib/python3.9/site-packages (from tensorflow) (0.37.0)\n",
      "Requirement already satisfied: typing-extensions>=3.6.6 in /Users/prasannshimpi/opt/anaconda3/lib/python3.9/site-packages (from tensorflow) (3.10.0.2)\n",
      "Collecting flatbuffers<3.0,>=1.12\n",
      "  Using cached flatbuffers-2.0-py2.py3-none-any.whl (26 kB)\n",
      "Collecting absl-py>=0.4.0\n",
      "  Using cached absl_py-1.0.0-py3-none-any.whl (126 kB)\n",
      "Collecting opt-einsum>=2.3.2\n",
      "  Using cached opt_einsum-3.3.0-py3-none-any.whl (65 kB)\n",
      "Collecting gast<0.5.0,>=0.2.1\n",
      "  Using cached gast-0.4.0-py3-none-any.whl (9.8 kB)\n",
      "Collecting tensorboard~=2.6\n",
      "  Using cached tensorboard-2.7.0-py3-none-any.whl (5.8 MB)\n",
      "Requirement already satisfied: six>=1.12.0 in /Users/prasannshimpi/opt/anaconda3/lib/python3.9/site-packages (from tensorflow) (1.16.0)\n",
      "Collecting keras<2.8,>=2.7.0rc0\n",
      "  Using cached keras-2.7.0-py2.py3-none-any.whl (1.3 MB)\n",
      "Collecting tensorflow-io-gcs-filesystem>=0.21.0\n",
      "  Downloading tensorflow_io_gcs_filesystem-0.23.1-cp39-cp39-macosx_10_14_x86_64.whl (1.6 MB)\n",
      "\u001b[K     |████████████████████████████████| 1.6 MB 3.2 MB/s eta 0:00:01\n",
      "\u001b[?25hRequirement already satisfied: wrapt>=1.11.0 in /Users/prasannshimpi/opt/anaconda3/lib/python3.9/site-packages (from tensorflow) (1.12.1)\n",
      "Collecting protobuf>=3.9.2\n",
      "  Downloading protobuf-3.19.1-cp39-cp39-macosx_10_9_x86_64.whl (1.0 MB)\n",
      "\u001b[K     |████████████████████████████████| 1.0 MB 3.3 MB/s eta 0:00:01\n",
      "\u001b[?25hCollecting keras-preprocessing>=1.1.1\n",
      "  Using cached Keras_Preprocessing-1.1.2-py2.py3-none-any.whl (42 kB)\n",
      "Collecting tensorflow-estimator<2.8,~=2.7.0rc0\n",
      "  Using cached tensorflow_estimator-2.7.0-py2.py3-none-any.whl (463 kB)\n",
      "Collecting google-pasta>=0.1.1\n",
      "  Using cached google_pasta-0.2.0-py3-none-any.whl (57 kB)\n",
      "Collecting astunparse>=1.6.0\n",
      "  Using cached astunparse-1.6.3-py2.py3-none-any.whl (12 kB)\n",
      "Collecting grpcio<2.0,>=1.24.3\n",
      "  Downloading grpcio-1.43.0-cp39-cp39-macosx_10_10_x86_64.whl (4.2 MB)\n",
      "\u001b[K     |████████████████████████████████| 4.2 MB 5.1 MB/s eta 0:00:01\n",
      "\u001b[?25hCollecting libclang>=9.0.1\n",
      "  Using cached libclang-12.0.0-py2.py3-none-macosx_10_9_x86_64.whl (12.2 MB)\n",
      "Requirement already satisfied: werkzeug>=0.11.15 in /Users/prasannshimpi/opt/anaconda3/lib/python3.9/site-packages (from tensorboard~=2.6->tensorflow) (2.0.2)\n",
      "Collecting tensorboard-data-server<0.7.0,>=0.6.0\n",
      "  Using cached tensorboard_data_server-0.6.1-py3-none-macosx_10_9_x86_64.whl (3.5 MB)\n",
      "Requirement already satisfied: setuptools>=41.0.0 in /Users/prasannshimpi/opt/anaconda3/lib/python3.9/site-packages (from tensorboard~=2.6->tensorflow) (58.0.4)\n",
      "Collecting markdown>=2.6.8\n",
      "  Using cached Markdown-3.3.6-py3-none-any.whl (97 kB)\n",
      "Collecting google-auth-oauthlib<0.5,>=0.4.1\n",
      "  Using cached google_auth_oauthlib-0.4.6-py2.py3-none-any.whl (18 kB)\n",
      "Collecting tensorboard-plugin-wit>=1.6.0\n",
      "  Using cached tensorboard_plugin_wit-1.8.0-py3-none-any.whl (781 kB)\n",
      "Collecting google-auth<3,>=1.6.3\n",
      "  Using cached google_auth-2.3.3-py2.py3-none-any.whl (155 kB)\n",
      "Requirement already satisfied: requests<3,>=2.21.0 in /Users/prasannshimpi/opt/anaconda3/lib/python3.9/site-packages (from tensorboard~=2.6->tensorflow) (2.26.0)\n",
      "Collecting cachetools<5.0,>=2.0.0\n",
      "  Using cached cachetools-4.2.4-py3-none-any.whl (10 kB)\n",
      "Collecting pyasn1-modules>=0.2.1\n",
      "  Using cached pyasn1_modules-0.2.8-py2.py3-none-any.whl (155 kB)\n",
      "Collecting rsa<5,>=3.1.4\n",
      "  Using cached rsa-4.8-py3-none-any.whl (39 kB)\n",
      "Collecting requests-oauthlib>=0.7.0\n",
      "  Using cached requests_oauthlib-1.3.0-py2.py3-none-any.whl (23 kB)\n",
      "Requirement already satisfied: importlib-metadata>=4.4 in /Users/prasannshimpi/opt/anaconda3/lib/python3.9/site-packages (from markdown>=2.6.8->tensorboard~=2.6->tensorflow) (4.8.1)\n",
      "Requirement already satisfied: zipp>=0.5 in /Users/prasannshimpi/opt/anaconda3/lib/python3.9/site-packages (from importlib-metadata>=4.4->markdown>=2.6.8->tensorboard~=2.6->tensorflow) (3.6.0)\n",
      "Collecting pyasn1<0.5.0,>=0.4.6\n",
      "  Using cached pyasn1-0.4.8-py2.py3-none-any.whl (77 kB)\n",
      "Requirement already satisfied: charset-normalizer~=2.0.0 in /Users/prasannshimpi/opt/anaconda3/lib/python3.9/site-packages (from requests<3,>=2.21.0->tensorboard~=2.6->tensorflow) (2.0.4)\n",
      "Requirement already satisfied: urllib3<1.27,>=1.21.1 in /Users/prasannshimpi/opt/anaconda3/lib/python3.9/site-packages (from requests<3,>=2.21.0->tensorboard~=2.6->tensorflow) (1.26.7)\n",
      "Requirement already satisfied: certifi>=2017.4.17 in /Users/prasannshimpi/opt/anaconda3/lib/python3.9/site-packages (from requests<3,>=2.21.0->tensorboard~=2.6->tensorflow) (2021.10.8)\n",
      "Requirement already satisfied: idna<4,>=2.5 in /Users/prasannshimpi/opt/anaconda3/lib/python3.9/site-packages (from requests<3,>=2.21.0->tensorboard~=2.6->tensorflow) (3.2)\n",
      "Collecting oauthlib>=3.0.0\n",
      "  Using cached oauthlib-3.1.1-py2.py3-none-any.whl (146 kB)\n",
      "Building wheels for collected packages: termcolor\n",
      "  Building wheel for termcolor (setup.py) ... \u001b[?25ldone\n",
      "\u001b[?25h  Created wheel for termcolor: filename=termcolor-1.1.0-py3-none-any.whl size=4847 sha256=7e42c0012b421cfc9a79d0dbada00130350eb0d6209658a3b9ad52da5871407d\n",
      "  Stored in directory: /Users/prasannshimpi/Library/Caches/pip/wheels/b6/0d/90/0d1bbd99855f99cb2f6c2e5ff96f8023fad8ec367695f7d72d\n",
      "Successfully built termcolor\n",
      "Installing collected packages: pyasn1, rsa, pyasn1-modules, oauthlib, cachetools, requests-oauthlib, google-auth, tensorboard-plugin-wit, tensorboard-data-server, protobuf, markdown, grpcio, google-auth-oauthlib, absl-py, termcolor, tensorflow-io-gcs-filesystem, tensorflow-estimator, tensorboard, opt-einsum, libclang, keras-preprocessing, keras, google-pasta, gast, flatbuffers, astunparse, tensorflow\n",
      "Successfully installed absl-py-1.0.0 astunparse-1.6.3 cachetools-4.2.4 flatbuffers-2.0 gast-0.4.0 google-auth-2.3.3 google-auth-oauthlib-0.4.6 google-pasta-0.2.0 grpcio-1.43.0 keras-2.7.0 keras-preprocessing-1.1.2 libclang-12.0.0 markdown-3.3.6 oauthlib-3.1.1 opt-einsum-3.3.0 protobuf-3.19.1 pyasn1-0.4.8 pyasn1-modules-0.2.8 requests-oauthlib-1.3.0 rsa-4.8 tensorboard-2.7.0 tensorboard-data-server-0.6.1 tensorboard-plugin-wit-1.8.0 tensorflow-2.7.0 tensorflow-estimator-2.7.0 tensorflow-io-gcs-filesystem-0.23.1 termcolor-1.1.0\n"
     ]
    }
   ],
   "source": [
    "!pip3 install gmpy2\n",
    "!pip install tensorflow"
   ]
  },
  {
   "cell_type": "code",
   "execution_count": null,
   "metadata": {
    "colab": {
     "base_uri": "https://localhost:8080/"
    },
    "id": "cjUPiz1wfsRN",
    "outputId": "d3d6d246-71a0-44c7-f441-95ad36900365"
   },
   "outputs": [],
   "source": [
    "import numpy as np\n",
    "import pandas as pd\n",
    "import matplotlib\n",
    "import matplotlib.pyplot as plt\n",
    "import sys\n",
    "import tensorflow as tf\n",
    "import ctypes\n",
    "import gmpy2\n",
    "from gmpy2 import mpz\n",
    "\n",
    "\n",
    "%matplotlib inline"
   ]
  },
  {
   "cell_type": "code",
   "execution_count": null,
   "metadata": {
    "id": "yUw_sMIefTfz"
   },
   "outputs": [],
   "source": [
    "from keras import backend as K\n",
    "from tensorflow.keras.models import Model\n",
    "from tensorflow.keras.engine.input_layer import Input\n",
    "from tensorflow.keras.layers.core import Activation, Dense\n",
    "from tensorflow.keras.layers import Flatten, Reshape\n",
    "from tensorflow.keras.layers.convolutional import Conv1D\n",
    "from tensorflow.keras.layers.merge import concatenate\n",
    "from tensorflow.keras.optimizers import Adam, RMSprop\n",
    "# from tensorflow.keras.optimizers import RMSprop\n",
    "from tensorflow.keras.models import load_model"
   ]
  },
  {
   "cell_type": "code",
   "execution_count": 5,
   "metadata": {
    "id": "3OQk-9HFeqr9"
   },
   "outputs": [],
   "source": [
    "# Set up the crypto parameters: message, key, and ciphertext bit lengths\n",
    "m_bits = 16\n",
    "k_bits = 16\n",
    "c_bits = 16\n",
    "pad = 'same'"
   ]
  },
  {
   "cell_type": "markdown",
   "metadata": {
    "id": "I1vGpgpVbt2d"
   },
   "source": [
    "## Model Building"
   ]
  },
  {
   "cell_type": "markdown",
   "metadata": {
    "id": "5I5rh1dLet_v"
   },
   "source": [
    "### Alice"
   ]
  },
  {
   "cell_type": "code",
   "execution_count": 6,
   "metadata": {
    "id": "lzyQtOnge1iq"
   },
   "outputs": [
    {
     "ename": "NameError",
     "evalue": "name 'Input' is not defined",
     "output_type": "error",
     "traceback": [
      "\u001b[0;31m---------------------------------------------------------------------------\u001b[0m",
      "\u001b[0;31mNameError\u001b[0m                                 Traceback (most recent call last)",
      "\u001b[0;32m/var/folders/rj/lqr1byms51ngkbdkjtl1f8d80000gn/T/ipykernel_9704/2902625850.py\u001b[0m in \u001b[0;36m<module>\u001b[0;34m\u001b[0m\n\u001b[0;32m----> 1\u001b[0;31m \u001b[0mainput0\u001b[0m \u001b[0;34m=\u001b[0m \u001b[0mInput\u001b[0m\u001b[0;34m(\u001b[0m\u001b[0mshape\u001b[0m\u001b[0;34m=\u001b[0m\u001b[0;34m(\u001b[0m\u001b[0mm_bits\u001b[0m\u001b[0;34m,\u001b[0m\u001b[0;34m)\u001b[0m\u001b[0;34m)\u001b[0m \u001b[0;31m#message\u001b[0m\u001b[0;34m\u001b[0m\u001b[0;34m\u001b[0m\u001b[0m\n\u001b[0m\u001b[1;32m      2\u001b[0m \u001b[0mainput1\u001b[0m \u001b[0;34m=\u001b[0m \u001b[0mInput\u001b[0m\u001b[0;34m(\u001b[0m\u001b[0mshape\u001b[0m\u001b[0;34m=\u001b[0m\u001b[0;34m(\u001b[0m\u001b[0mk_bits\u001b[0m\u001b[0;34m,\u001b[0m\u001b[0;34m)\u001b[0m\u001b[0;34m)\u001b[0m \u001b[0;31m#key\u001b[0m\u001b[0;34m\u001b[0m\u001b[0;34m\u001b[0m\u001b[0m\n\u001b[1;32m      3\u001b[0m \u001b[0mainput\u001b[0m \u001b[0;34m=\u001b[0m \u001b[0mconcatenate\u001b[0m\u001b[0;34m(\u001b[0m\u001b[0;34m[\u001b[0m\u001b[0mainput0\u001b[0m\u001b[0;34m,\u001b[0m \u001b[0mainput1\u001b[0m\u001b[0;34m]\u001b[0m\u001b[0;34m,\u001b[0m \u001b[0maxis\u001b[0m\u001b[0;34m=\u001b[0m\u001b[0;36m1\u001b[0m\u001b[0;34m)\u001b[0m\u001b[0;34m\u001b[0m\u001b[0;34m\u001b[0m\u001b[0m\n\u001b[1;32m      4\u001b[0m \u001b[0;34m\u001b[0m\u001b[0m\n\u001b[1;32m      5\u001b[0m \u001b[0madense1\u001b[0m \u001b[0;34m=\u001b[0m \u001b[0mDense\u001b[0m\u001b[0;34m(\u001b[0m\u001b[0munits\u001b[0m\u001b[0;34m=\u001b[0m\u001b[0;34m(\u001b[0m\u001b[0mm_bits\u001b[0m \u001b[0;34m+\u001b[0m \u001b[0mk_bits\u001b[0m\u001b[0;34m)\u001b[0m\u001b[0;34m)\u001b[0m\u001b[0;34m(\u001b[0m\u001b[0mainput\u001b[0m\u001b[0;34m)\u001b[0m\u001b[0;34m\u001b[0m\u001b[0;34m\u001b[0m\u001b[0m\n",
      "\u001b[0;31mNameError\u001b[0m: name 'Input' is not defined"
     ]
    }
   ],
   "source": [
    "ainput0 = Input(shape=(m_bits,)) #message\n",
    "ainput1 = Input(shape=(k_bits,)) #key\n",
    "ainput = concatenate([ainput0, ainput1], axis=1)\n",
    "\n",
    "adense1 = Dense(units=(m_bits + k_bits))(ainput)\n",
    "adense1a = Activation('relu')(adense1)\n",
    "areshape = Reshape((m_bits + k_bits, 1,))(adense1a)\n",
    "\n",
    "aconv1 = Conv1D(filters=2, kernel_size=4, strides=1, padding=pad)(areshape)\n",
    "aconv1a = Activation('sigmoid')(aconv1)\n",
    "aconv2 = Conv1D(filters=4, kernel_size=2, strides=2, padding=pad)(aconv1a)\n",
    "aconv2a = Activation('sigmoid')(aconv2)\n",
    "aconv3 = Conv1D(filters=4, kernel_size=1, strides=1, padding=pad)(aconv2a)\n",
    "aconv3a = Activation('sigmoid')(aconv3)\n",
    "aconv4 = Conv1D(filters=1, kernel_size=1, strides=1, padding=pad)(aconv3a)\n",
    "aconv4a = Activation('tanh')(aconv4)\n",
    "\n",
    "aoutput = Flatten()(aconv4a)\n",
    "\n",
    "alice = Model([ainput0, ainput1], aoutput, name='alice')\n",
    "alice.summary()\n"
   ]
  },
  {
   "cell_type": "markdown",
   "metadata": {
    "id": "PVUqG45EhHtH"
   },
   "source": [
    "### Bob"
   ]
  },
  {
   "cell_type": "code",
   "execution_count": 113,
   "metadata": {
    "id": "tB__Ro0EhLn7"
   },
   "outputs": [],
   "source": [
    "binput0 = Input(shape=(c_bits,)) #ciphertext\n",
    "binput1 = Input(shape=(k_bits,)) #key\n",
    "binput = concatenate([binput0, binput1], axis=1)\n",
    "\n",
    "bdense1 = Dense(units=(c_bits + k_bits))(binput)\n",
    "bdense1a = Activation('relu')(bdense1)\n",
    "\n",
    "breshape = Reshape((c_bits + k_bits, 1,))(bdense1a)\n",
    "\n",
    "bconv1 = Conv1D(filters=2, kernel_size=4, strides=1, padding=pad)(breshape)\n",
    "bconv1a = Activation('sigmoid')(bconv1)\n",
    "bconv2 = Conv1D(filters=4, kernel_size=2, strides=2, padding=pad)(bconv1a)\n",
    "bconv2a = Activation('sigmoid')(bconv2)\n",
    "bconv3 = Conv1D(filters=4, kernel_size=1, strides=1, padding=pad)(bconv2a)\n",
    "bconv3a = Activation('sigmoid')(bconv3)\n",
    "bconv4 = Conv1D(filters=1, kernel_size=1, strides=1, padding=pad)(bconv3a)\n",
    "bconv4a = Activation('tanh')(bconv4)\n",
    "\n",
    "boutput = Flatten()(bconv4a)\n",
    "\n",
    "bob = Model([binput0, binput1], boutput, name='bob')\n",
    "\n",
    "# bob.summary()"
   ]
  },
  {
   "cell_type": "markdown",
   "metadata": {
    "id": "kbVm4LjciLfD"
   },
   "source": [
    "### Eve"
   ]
  },
  {
   "cell_type": "code",
   "execution_count": 123,
   "metadata": {
    "id": "HWvceM3WiNRY"
   },
   "outputs": [],
   "source": [
    "einput = Input(shape=(c_bits,)) #ciphertext only\n",
    "\n",
    "edense1 = Dense(units=(c_bits + k_bits))(einput)\n",
    "edense1a = Activation('relu')(edense1)\n",
    "\n",
    "edense2 = Dense(units=(c_bits + k_bits))(edense1a)\n",
    "edense2a = Activation('relu')(edense2)\n",
    "\n",
    "ereshape = Reshape((c_bits + k_bits, 1,))(edense2a)\n",
    "\n",
    "econv1 = Conv1D(filters=2, kernel_size=4, strides=1, padding=pad)(ereshape)\n",
    "econv1a = Activation('sigmoid')(econv1)\n",
    "econv2 = Conv1D(filters=4, kernel_size=2, strides=2, padding=pad)(econv1a)\n",
    "econv2a = Activation('sigmoid')(econv2)\n",
    "econv3 = Conv1D(filters=4, kernel_size=1, strides=1, padding=pad)(econv2a)\n",
    "econv3a = Activation('sigmoid')(econv3)\n",
    "econv4 = Conv1D(filters=1, kernel_size=1, strides=1, padding=pad)(econv3a)\n",
    "econv4a = Activation('tanh')(econv4)\n",
    "\n",
    "eoutput = Flatten()(econv4a)# Eve's attempt at code guessing\n",
    "\n",
    "eve = Model(einput, eoutput, name='eve')\n",
    "\n",
    "eve.summary()"
   ]
  },
  {
   "cell_type": "code",
   "execution_count": 124,
   "metadata": {
    "id": "m-ewoDhiigTK"
   },
   "outputs": [],
   "source": [
    "alice.compile(loss='mse', optimizer='sgd')\n",
    "bob.compile(loss='mse', optimizer='sgd')\n",
    "eve.compile(loss='mse', optimizer='sgd')"
   ]
  },
  {
   "cell_type": "markdown",
   "metadata": {
    "id": "VOBVEuhsiovA"
   },
   "source": [
    "## Loss Functions and Optimizers"
   ]
  },
  {
   "cell_type": "code",
   "execution_count": 116,
   "metadata": {
    "id": "dxk9br_Yi52A"
   },
   "outputs": [],
   "source": [
    "m_train = 2**(m_bits) #+ k_bits)"
   ]
  },
  {
   "cell_type": "code",
   "execution_count": 117,
   "metadata": {
    "colab": {
     "base_uri": "https://localhost:8080/"
    },
    "id": "NuNX_s0jijDN",
    "outputId": "a755b387-ebb1-45f4-ec88-df876f1bdfe2"
   },
   "outputs": [
    {
     "name": "stderr",
     "output_type": "stream",
     "text": [
      "/usr/local/lib/python3.7/dist-packages/keras/optimizer_v2/rmsprop.py:130: UserWarning: The `lr` argument is deprecated, use `learning_rate` instead.\n",
      "  super(RMSprop, self).__init__(name, **kwargs)\n"
     ]
    }
   ],
   "source": [
    "# Establish the communication channels by linking inputs to outputs\n",
    "#\n",
    "aliceout = alice([ainput0, ainput1])\n",
    "bobout = bob( [aliceout, binput1] )# bob sees ciphertext AND key\n",
    "eveout = eve( aliceout )# eve doesn't see the key, only the cipher\n",
    "\n",
    "# Loss for Eve is just L1 distance between ainput0 and eoutput. The sum\n",
    "# is taken over all the bits in the message. The quantity inside the K.mean()\n",
    "# is per-example loss. We take the average across the entire mini-batch\n",
    "#\n",
    "eveloss = K.mean(  K.sum(K.abs(ainput0 - eveout), axis=-1)  )\n",
    "\n",
    "# Loss for Alice-Bob communication depends on Bob's reconstruction, but\n",
    "# also on Eve's ability to decrypt the message. Eve should do no better\n",
    "# than random guessing, so on average she will guess half the bits right.\n",
    "#\n",
    "bobloss = K.mean(  K.sum(K.abs(ainput0 - bobout), axis=-1)  )\n",
    "abeloss = bobloss + K.square(m_bits/2 - eveloss)/( (m_bits//2)**2 )\n",
    "\n",
    "# Optimizer and compilation\n",
    "#\n",
    "abeoptim = RMSprop(lr=0.001)\n",
    "eveoptim = RMSprop(lr=0.001) #default 0.001\n",
    "\n",
    "\n",
    "# Build and compile the ABE model, used for training Alice-Bob networks\n",
    "#\n",
    "abemodel = Model([ainput0, ainput1, binput1], bobout, name='abemodel')\n",
    "abemodel.add_loss(abeloss)\n",
    "abemodel.compile(optimizer=abeoptim)\n",
    "\n",
    "\n",
    "# Build and compile the EVE model, used for training Eve net (with Alice frozen)\n",
    "#\n",
    "alice.trainable = False\n",
    "evemodel = Model([ainput0, ainput1], eveout, name='evemodel')\n",
    "evemodel.add_loss(eveloss)\n",
    "evemodel.compile(optimizer=eveoptim)"
   ]
  },
  {
   "cell_type": "markdown",
   "metadata": {
    "id": "pNs8-Q1sykzK"
   },
   "source": [
    "## Training and Dump"
   ]
  },
  {
   "cell_type": "code",
   "execution_count": 118,
   "metadata": {
    "id": "vIkWl1iTyxOi"
   },
   "outputs": [],
   "source": [
    "abelosses = []\n",
    "boblosses = []\n",
    "evelosses = []"
   ]
  },
  {
   "cell_type": "code",
   "execution_count": 119,
   "metadata": {
    "colab": {
     "base_uri": "https://localhost:8080/"
    },
    "id": "GTs9V14kyy9r",
    "outputId": "ff5ec997-de52-42dd-bc8d-60859bba10be"
   },
   "outputs": [
    {
     "name": "stdout",
     "output_type": "stream",
     "text": [
      "Training for 50 epochs with 128 batches of size 512\n",
      "Epoch   0:  99% | abe: 21.885 | eve: 11.973 | bob: 21.276\n",
      "Epoch   1:  99% | abe: 16.326 | eve: 8.009 | bob: 16.278\n",
      "Epoch   2:  99% | abe: 9.845 | eve: 7.997 | bob: 9.806\n",
      "Epoch   3:  99% | abe: 8.000 | eve: 8.001 | bob: 8.000\n",
      "Epoch   4:  99% | abe: 7.996 | eve: 8.000 | bob: 7.995\n",
      "Epoch   5:  99% | abe: 8.002 | eve: 7.999 | bob: 8.001\n",
      "Epoch   6:  99% | abe: 7.945 | eve: 7.979 | bob: 7.943\n",
      "Epoch   7:  99% | abe: 7.541 | eve: 7.891 | bob: 7.534\n",
      "Epoch   8:  99% | abe: 6.698 | eve: 7.608 | bob: 6.685\n",
      "Epoch   9:  99% | abe: 5.609 | eve: 7.147 | bob: 5.584\n",
      "Epoch  10:  99% | abe: 4.526 | eve: 6.581 | bob: 4.479\n",
      "Epoch  11:  99% | abe: 3.622 | eve: 5.871 | bob: 3.536\n",
      "Epoch  12:  99% | abe: 2.887 | eve: 5.133 | bob: 2.742\n",
      "Epoch  13:  99% | abe: 2.279 | eve: 4.288 | bob: 2.050\n",
      "Epoch  14:  99% | abe: 1.827 | eve: 3.416 | bob: 1.488\n",
      "Epoch  15:  99% | abe: 1.555 | eve: 2.701 | bob: 1.108\n",
      "Epoch  16:  99% | abe: 1.436 | eve: 2.162 | bob: 0.898\n",
      "Epoch  17:  99% | abe: 1.386 | eve: 1.743 | bob: 0.770\n",
      "Epoch  18:  99% | abe: 1.358 | eve: 1.534 | bob: 0.700\n",
      "Epoch  19:  99% | abe: 1.316 | eve: 1.389 | bob: 0.627\n",
      "Epoch  20:  99% | abe: 1.207 | eve: 1.252 | bob: 0.488\n",
      "Epoch  21:  99% | abe: 1.077 | eve: 1.132 | bob: 0.336\n",
      "Epoch  22:  99% | abe: 1.000 | eve: 1.088 | bob: 0.250\n",
      "Epoch  23:  99% | abe: 0.954 | eve: 1.137 | bob: 0.213\n",
      "Epoch  24:  99% | abe: 0.912 | eve: 1.273 | bob: 0.200\n",
      "Epoch  25:  99% | abe: 0.864 | eve: 1.490 | bob: 0.197\n",
      "Epoch  26:  99% | abe: 0.814 | eve: 1.734 | bob: 0.197\n",
      "Epoch  27:  99% | abe: 0.765 | eve: 1.996 | bob: 0.196\n",
      "Epoch  28:  99% | abe: 0.716 | eve: 2.229 | bob: 0.193\n",
      "Epoch  29:  99% | abe: 0.676 | eve: 2.440 | bob: 0.190\n",
      "Epoch  30:  99% | abe: 0.643 | eve: 2.607 | bob: 0.187\n",
      "Epoch  31:  99% | abe: 0.616 | eve: 2.752 | bob: 0.183\n",
      "Epoch  32:  99% | abe: 0.590 | eve: 2.871 | bob: 0.178\n",
      "Epoch  33:  99% | abe: 0.567 | eve: 2.998 | bob: 0.175\n",
      "Epoch  34:  99% | abe: 0.545 | eve: 3.116 | bob: 0.170\n",
      "Epoch  35:  99% | abe: 0.525 | eve: 3.228 | bob: 0.167\n",
      "Epoch  36:  99% | abe: 0.503 | eve: 3.363 | bob: 0.164\n",
      "Epoch  37:  99% | abe: 0.482 | eve: 3.479 | bob: 0.161\n",
      "Epoch  38:  99% | abe: 0.464 | eve: 3.592 | bob: 0.158\n",
      "Epoch  39:  99% | abe: 0.448 | eve: 3.687 | bob: 0.156\n",
      "Epoch  40:  99% | abe: 0.435 | eve: 3.767 | bob: 0.152\n",
      "Epoch  41:  99% | abe: 0.422 | eve: 3.856 | bob: 0.149\n",
      "Epoch  42:  99% | abe: 0.407 | eve: 3.917 | bob: 0.146\n",
      "Epoch  43:  99% | abe: 0.397 | eve: 3.982 | bob: 0.143\n",
      "Epoch  44:  99% | abe: 0.388 | eve: 4.042 | bob: 0.140\n",
      "Epoch  45:  99% | abe: 0.377 | eve: 4.092 | bob: 0.137\n",
      "Epoch  46:  99% | abe: 0.368 | eve: 4.145 | bob: 0.133\n",
      "Epoch  47:  99% | abe: 0.359 | eve: 4.193 | bob: 0.131\n",
      "Epoch  48:  99% | abe: 0.352 | eve: 4.235 | bob: 0.129\n",
      "Epoch  49:  99% | abe: 0.344 | eve: 4.292 | bob: 0.127\n",
      "Training finished.\n"
     ]
    }
   ],
   "source": [
    "n_epochs = 50\n",
    "batch_size = 512\n",
    "n_batches = m_train // batch_size\n",
    "\n",
    "abecycles = 1\n",
    "evecycles = 2\n",
    "\n",
    "epoch = 0\n",
    "print(\"Training for\", n_epochs, \"epochs with\", n_batches, \"batches of size\", batch_size)\n",
    "\n",
    "while epoch < n_epochs:\n",
    "    abelosses0 = []\n",
    "    boblosses0 = []\n",
    "    evelosses0 = []\n",
    "    for iteration in range(n_batches):\n",
    "        \n",
    "        # Train the A-B+E network\n",
    "        #\n",
    "        alice.trainable = True\n",
    "        for cycle in range(abecycles):\n",
    "            # Select a random batch of messages, and a random batch of keys\n",
    "            #\n",
    "            m_batch = np.random.randint(0, 2, m_bits * batch_size).reshape(batch_size, m_bits)\n",
    "            k_batch = np.random.randint(0, 2, k_bits * batch_size).reshape(batch_size, k_bits)\n",
    "            loss = abemodel.train_on_batch([m_batch, k_batch, k_batch], None)\n",
    "        \n",
    "        abelosses0.append(loss)\n",
    "        abelosses.append(loss)\n",
    "        abeavg = np.mean(abelosses0)\n",
    "            \n",
    "        # Evaluate Bob's ability to decrypt a message\n",
    "        m_enc = alice.predict([m_batch, k_batch])\n",
    "        m_dec = bob.predict([m_enc, k_batch])\n",
    "        loss = np.mean(  np.sum( np.abs(m_batch - m_dec), axis=-1)  )\n",
    "        boblosses0.append(loss)\n",
    "        boblosses.append(loss)\n",
    "        bobavg = np.mean(boblosses0)\n",
    "        \n",
    "        # Train the EVE network\n",
    "        #\n",
    "        alice.trainable = False\n",
    "        for cycle in range(evecycles):\n",
    "            m_batch = np.random.randint(0, 2, m_bits * batch_size).reshape(batch_size, m_bits)\n",
    "            k_batch = np.random.randint(0, 2, k_bits * batch_size).reshape(batch_size, k_bits)\n",
    "            loss = evemodel.train_on_batch([m_batch, k_batch], None)\n",
    "        \n",
    "        evelosses0.append(loss)\n",
    "        evelosses.append(loss)\n",
    "        eveavg = np.mean(evelosses0)\n",
    "        \n",
    "        if iteration % max(1, (n_batches // 100)) == 0:\n",
    "            print(\"\\rEpoch {:3}: {:3}% | abe: {:2.3f} | eve: {:2.3f} | bob: {:2.3f}\".format(\n",
    "                epoch, 100 * iteration // n_batches, abeavg, eveavg, bobavg), end=\"\")\n",
    "            sys.stdout.flush()\n",
    "    \n",
    "    print()\n",
    "    epoch += 1\n",
    "    \n",
    "print('Training finished.')"
   ]
  },
  {
   "cell_type": "code",
   "execution_count": 125,
   "metadata": {
    "colab": {
     "base_uri": "https://localhost:8080/",
     "height": 282
    },
    "id": "WHnoYi1nzEGT",
    "outputId": "780025be-973a-49fa-ae62-bb81a6619857"
   },
   "outputs": [
    {
     "data": {
      "image/png": "[encoded data removed]",
      "text/plain": [
       "<Figure size 504x288 with 1 Axes>"
      ]
     },
     "metadata": {
      "needs_background": "light"
     },
     "output_type": "display_data"
    }
   ],
   "source": [
    "steps = -1\n",
    "\n",
    "plt.figure(figsize=(7, 4))\n",
    "plt.plot(abelosses[:steps], label='A-B')\n",
    "plt.plot(evelosses[:steps], label='Eve')\n",
    "plt.plot(boblosses[:steps], label='Bob')\n",
    "plt.xlabel(\"Iterations\", fontsize=13)\n",
    "plt.ylabel(\"Loss\", fontsize=13)\n",
    "plt.legend(fontsize=13)\n",
    "\n",
    "#plt.savefig(\"images/\" + model_name + \".png\", transparent=True) #dpi=100\n",
    "plt.show()"
   ]
  },
  {
   "cell_type": "markdown",
   "metadata": {
    "id": "s_BlIakCzLD9"
   },
   "source": [
    "### Saving"
   ]
  },
  {
   "cell_type": "code",
   "execution_count": 121,
   "metadata": {
    "id": "umquDMs9zG_U"
   },
   "outputs": [],
   "source": [
    "if False: #Don't overwrite by accidentMB\n",
    "    alice.save(alice_file + '.h5', overwrite=True)\n",
    "    bob.save(bob_file + '.h5', overwrite=True)\n",
    "    eve.save(eve_file + '.h5', overwrite=True)"
   ]
  },
  {
   "cell_type": "markdown",
   "metadata": {
    "id": "0LhACMwUzTyb"
   },
   "source": [
    "## Evaluate"
   ]
  },
  {
   "cell_type": "code",
   "execution_count": 122,
   "metadata": {
    "colab": {
     "base_uri": "https://localhost:8080/"
    },
    "id": "6azCU2kBzXtF",
    "outputId": "6712acc6-1ba2-40e6-9267-970aa5cafe1f"
   },
   "outputs": [
    {
     "name": "stdout",
     "output_type": "stream",
     "text": [
      "Bob % correct:  99.71 %\n",
      "Eve % correct:  0.58 %\n"
     ]
    }
   ],
   "source": [
    "n_examples = 10000\n",
    "\n",
    "m_batch = np.random.randint(0, 2, m_bits * n_examples).reshape(n_examples, m_bits)\n",
    "k_batch = np.random.randint(0, 2, m_bits * n_examples).reshape(n_examples, m_bits)\n",
    "\n",
    "m_enc = alice.predict([m_batch, k_batch])\n",
    "m_dec = (bob.predict([m_enc, k_batch]) > 0.5).astype(int)\n",
    "m_att = (eve.predict(m_enc) > 0.5).astype(int)\n",
    "\n",
    "bdiff = np.abs(m_batch - m_dec)\n",
    "bsum = np.sum(bdiff, axis=-1)\n",
    "ediff = np.abs(m_batch - m_att)\n",
    "esum = np.sum(ediff, axis=-1)\n",
    "\n",
    "print(\"Bob % correct: \", 100.0*np.sum(bsum == 0) / n_examples, '%')\n",
    "print(\"Eve % correct: \", 100.0*np.sum(esum == 0) / n_examples, '%')"
   ]
  },
  {
   "cell_type": "markdown",
   "metadata": {
    "id": "d1S5NPeGE-EG"
   },
   "source": [
    "Make Epochs 50 for better visualization"
   ]
  }
 ],
 "metadata": {
  "colab": {
   "collapsed_sections": [
    "PVUqG45EhHtH"
   ],
   "name": "FYP_ANC.ipynb",
   "provenance": []
  },
  "kernelspec": {
   "display_name": "Python 3 (ipykernel)",
   "language": "python",
   "name": "python3"
  },
  "language_info": {
   "codemirror_mode": {
    "name": "ipython",
    "version": 3
   },
   "file_extension": ".py",
   "mimetype": "text/x-python",
   "name": "python",
   "nbconvert_exporter": "python",
   "pygments_lexer": "ipython3",
   "version": "3.7.11"
  }
 },
 "nbformat": 4,
 "nbformat_minor": 1
}
