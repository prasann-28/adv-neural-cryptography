{
 "cells": [
  {
   "cell_type": "markdown",
   "metadata": {
    "id": "ZrnsaBneePT3"
   },
   "source": [
    "# Message Concealment Scheme"
   ]
  },
  {
   "cell_type": "markdown",
   "metadata": {
    "id": "rEMLAxHwj3Ms"
   },
   "source": [
    "## Libraries and initial setup"
   ]
  },
  {
   "cell_type": "code",
   "execution_count": null,
   "metadata": {
    "colab": {
     "base_uri": "https://localhost:8080/"
    },
    "id": "cjUPiz1wfsRN",
    "outputId": "b996be0d-f4c7-484f-8128-b9a1218a26ba"
   },
   "outputs": [],
   "source": [
    "!pip3 install gmpy2\n",
    "!pip3 install tensorflow\n",
    "\n",
    "%matplotlib inline\n",
    "\n",
    "import ctypes\n",
    "import gmpy2\n",
    "from gmpy2 import mpz\n",
    "import matplotlib\n",
    "import matplotlib.pyplot as plt\n",
    "import numpy as np\n",
    "import pandas as pd\n",
    "import sys"
   ]
  },
  {
   "cell_type": "code",
   "execution_count": null,
   "metadata": {},
   "outputs": [],
   "source": [
    "# !pip install --upgrade tensorflow\n",
    "# !pip install --upgrade tensorflow-gpu\n",
    "# !pip install keras==2.3.1\n",
    "\n"
   ]
  },
  {
   "cell_type": "code",
   "execution_count": 34,
   "metadata": {
    "id": "yUw_sMIefTfz"
   },
   "outputs": [],
   "source": [
    "from keras import backend as K\n",
    "from keras.models import Model\n",
    "from keras.engine.input_layer import Input\n",
    "from keras.layers.core import Activation, Dense\n",
    "from keras.layers import Flatten, Reshape\n",
    "from keras.layers.convolutional import Conv1D\n",
    "from keras.layers.merge import concatenate\n",
    "from keras.optimizers import Adam, RMSprop\n",
    "# from tensorflow.keras.optimizers import RMSprop\n",
    "from keras.models import load_model"
   ]
  },
  {
   "cell_type": "code",
   "execution_count": 35,
   "metadata": {
    "id": "3OQk-9HFeqr9"
   },
   "outputs": [],
   "source": [
    "# Set up the crypto parameters: message, key, and ciphertext bit lengths\n",
    "m_bits = 16\n",
    "k_bits = 16\n",
    "c_bits = 16\n",
    "pad = 'same'"
   ]
  },
  {
   "cell_type": "code",
   "execution_count": 36,
   "metadata": {
    "id": "kNzkiosaiBBa"
   },
   "outputs": [],
   "source": [
    "def random_batch(X_train, y_train, batch_size):\n",
    "    index_set = np.random.randint(0, X_train.shape[0], batch_size)\n",
    "    X_batch = X_train[index_set]\n",
    "    y_batch = y_train[index_set]\n",
    "    return X_batch, y_batch"
   ]
  },
  {
   "cell_type": "markdown",
   "metadata": {
    "id": "I1vGpgpVbt2d"
   },
   "source": [
    "## Model Building"
   ]
  },
  {
   "cell_type": "markdown",
   "metadata": {
    "id": "5I5rh1dLet_v"
   },
   "source": [
    "### Alice"
   ]
  },
  {
   "cell_type": "code",
   "execution_count": 37,
   "metadata": {
    "id": "lzyQtOnge1iq"
   },
   "outputs": [],
   "source": [
    "ainput0 = Input(shape=(m_bits,)) #message\n",
    "ainput1 = Input(shape=(k_bits,)) #key\n",
    "ainput = concatenate([ainput0, ainput1], axis=1)\n",
    "\n",
    "adense1 = Dense(units=(m_bits + k_bits))(ainput)\n",
    "adense1a = Activation('relu')(adense1)\n",
    "areshape = Reshape((m_bits + k_bits, 1,))(adense1a)\n",
    "\n",
    "aconv1 = Conv1D(filters=2, kernel_size=4, strides=1, padding=pad)(areshape)\n",
    "aconv1a = Activation('sigmoid')(aconv1)\n",
    "aconv2 = Conv1D(filters=4, kernel_size=2, strides=2, padding=pad)(aconv1a)\n",
    "aconv2a = Activation('sigmoid')(aconv2)\n",
    "aconv3 = Conv1D(filters=4, kernel_size=1, strides=1, padding=pad)(aconv2a)\n",
    "aconv3a = Activation('sigmoid')(aconv3)\n",
    "aconv4 = Conv1D(filters=1, kernel_size=1, strides=1, padding=pad)(aconv3a)\n",
    "aconv4a = Activation('tanh')(aconv4)\n",
    "\n",
    "aoutput = Flatten()(aconv4a)\n",
    "\n",
    "alice = Model([ainput0, ainput1], aoutput, name='alice')\n",
    "# alice.summary()\n"
   ]
  },
  {
   "cell_type": "markdown",
   "metadata": {
    "id": "PVUqG45EhHtH"
   },
   "source": [
    "### Bob"
   ]
  },
  {
   "cell_type": "code",
   "execution_count": 38,
   "metadata": {
    "id": "tB__Ro0EhLn7"
   },
   "outputs": [],
   "source": [
    "binput0 = Input(shape=(c_bits,)) #ciphertext\n",
    "binput1 = Input(shape=(k_bits,)) #key\n",
    "binput = concatenate([binput0, binput1], axis=1)\n",
    "\n",
    "bdense1 = Dense(units=(c_bits + k_bits))(binput)\n",
    "bdense1a = Activation('relu')(bdense1)\n",
    "\n",
    "breshape = Reshape((c_bits + k_bits, 1,))(bdense1a)\n",
    "\n",
    "bconv1 = Conv1D(filters=2, kernel_size=4, strides=1, padding=pad)(breshape)\n",
    "bconv1a = Activation('sigmoid')(bconv1)\n",
    "bconv2 = Conv1D(filters=4, kernel_size=2, strides=2, padding=pad)(bconv1a)\n",
    "bconv2a = Activation('sigmoid')(bconv2)\n",
    "bconv3 = Conv1D(filters=4, kernel_size=1, strides=1, padding=pad)(bconv2a)\n",
    "bconv3a = Activation('sigmoid')(bconv3)\n",
    "bconv4 = Conv1D(filters=1, kernel_size=1, strides=1, padding=pad)(bconv3a)\n",
    "bconv4a = Activation('tanh')(bconv4)\n",
    "\n",
    "boutput = Flatten()(bconv4a)\n",
    "\n",
    "bob = Model([binput0, binput1], boutput, name='bob')\n",
    "\n",
    "# bob.summary()"
   ]
  },
  {
   "cell_type": "markdown",
   "metadata": {
    "id": "kbVm4LjciLfD"
   },
   "source": [
    "### Eve"
   ]
  },
  {
   "cell_type": "code",
   "execution_count": 39,
   "metadata": {
    "id": "HWvceM3WiNRY"
   },
   "outputs": [],
   "source": [
    "einput = Input(shape=(c_bits,)) #ciphertext only\n",
    "\n",
    "edense1 = Dense(units=(c_bits + k_bits))(einput)\n",
    "edense1a = Activation('relu')(edense1)\n",
    "\n",
    "edense2 = Dense(units=(c_bits + k_bits))(edense1a)\n",
    "edense2a = Activation('relu')(edense2)\n",
    "\n",
    "ereshape = Reshape((c_bits + k_bits, 1,))(edense2a)\n",
    "\n",
    "econv1 = Conv1D(filters=2, kernel_size=4, strides=1, padding=pad)(ereshape)\n",
    "econv1a = Activation('sigmoid')(econv1)\n",
    "econv2 = Conv1D(filters=4, kernel_size=2, strides=2, padding=pad)(econv1a)\n",
    "econv2a = Activation('sigmoid')(econv2)\n",
    "econv3 = Conv1D(filters=4, kernel_size=1, strides=1, padding=pad)(econv2a)\n",
    "econv3a = Activation('sigmoid')(econv3)\n",
    "econv4 = Conv1D(filters=1, kernel_size=1, strides=1, padding=pad)(econv3a)\n",
    "econv4a = Activation('tanh')(econv4)\n",
    "\n",
    "eoutput = Flatten()(econv4a)# Eve's attempt at code guessing\n",
    "\n",
    "eve = Model(einput, eoutput, name='eve')\n",
    "\n",
    "# eve.summary()"
   ]
  },
  {
   "cell_type": "code",
   "execution_count": 40,
   "metadata": {
    "id": "m-ewoDhiigTK"
   },
   "outputs": [],
   "source": [
    "alice.compile(loss='mse', optimizer='sgd')\n",
    "bob.compile(loss='mse', optimizer='sgd')\n",
    "eve.compile(loss='mse', optimizer='sgd')"
   ]
  },
  {
   "cell_type": "markdown",
   "metadata": {
    "id": "VOBVEuhsiovA"
   },
   "source": [
    "## Loss Functions and Optimizers"
   ]
  },
  {
   "cell_type": "code",
   "execution_count": 41,
   "metadata": {
    "id": "dxk9br_Yi52A"
   },
   "outputs": [],
   "source": [
    "m_train = 2**(m_bits) #+ k_bits)"
   ]
  },
  {
   "cell_type": "code",
   "execution_count": 42,
   "metadata": {
    "colab": {
     "base_uri": "https://localhost:8080/"
    },
    "id": "NuNX_s0jijDN",
    "outputId": "13d2e9f8-c627-4d04-a9f4-02a33280b764"
   },
   "outputs": [
    {
     "name": "stderr",
     "output_type": "stream",
     "text": [
      "/Users/prasannshimpi/opt/anaconda3/envs/tensor_env/lib/python3.6/site-packages/keras/engine/training_utils.py:819: UserWarning: Output bob missing from loss dictionary. We assume this was done on purpose. The fit and evaluate APIs will not be expecting any data to be passed to bob.\n",
      "  'be expecting any data to be passed to {0}.'.format(name))\n",
      "/Users/prasannshimpi/opt/anaconda3/envs/tensor_env/lib/python3.6/site-packages/keras/engine/training_utils.py:819: UserWarning: Output eve missing from loss dictionary. We assume this was done on purpose. The fit and evaluate APIs will not be expecting any data to be passed to eve.\n",
      "  'be expecting any data to be passed to {0}.'.format(name))\n"
     ]
    }
   ],
   "source": [
    "# Establish the communication channels by linking inputs to outputs\n",
    "#\n",
    "aliceout = alice([ainput0, ainput1])\n",
    "bobout = bob( [aliceout, binput1] )# bob sees ciphertext AND key\n",
    "eveout = eve( aliceout )# eve doesn't see the key, only the cipher\n",
    "\n",
    "# Loss for Eve is just L1 distance between ainput0 and eoutput. The sum\n",
    "# is taken over all the bits in the message. The quantity inside the K.mean()\n",
    "# is per-example loss. We take the average across the entire mini-batch\n",
    "#\n",
    "eveloss = K.mean(  K.sum(K.abs(ainput0 - eveout), axis=-1)  )\n",
    "\n",
    "# Loss for Alice-Bob communication depends on Bob's reconstruction, but\n",
    "# also on Eve's ability to decrypt the message. Eve should do no better\n",
    "# than random guessing, so on average she will guess half the bits right.\n",
    "#\n",
    "bobloss = K.mean(  K.sum(K.abs(ainput0 - bobout), axis=-1)  )\n",
    "abeloss = bobloss + K.square(m_bits/2 - eveloss)/( (m_bits//2)**2 )\n",
    "\n",
    "# Optimizer and compilation\n",
    "#\n",
    "abeoptim = RMSprop(lr=0.001)\n",
    "eveoptim = RMSprop(lr=0.001) #default 0.001\n",
    "\n",
    "\n",
    "# Build and compile the ABE model, used for training Alice-Bob networks\n",
    "#\n",
    "abemodel = Model([ainput0, ainput1, binput1], bobout, name='abemodel')\n",
    "abemodel.add_loss(abeloss)\n",
    "abemodel.compile(optimizer=abeoptim)\n",
    "\n",
    "\n",
    "# Build and compile the EVE model, used for training Eve net (with Alice frozen)\n",
    "#\n",
    "alice.trainable = False\n",
    "evemodel = Model([ainput0, ainput1], eveout, name='evemodel')\n",
    "evemodel.add_loss(eveloss)\n",
    "evemodel.compile(optimizer=eveoptim)"
   ]
  },
  {
   "cell_type": "markdown",
   "metadata": {
    "id": "YRPX6XcP8Th4"
   },
   "source": []
  },
  {
   "cell_type": "markdown",
   "metadata": {
    "id": "pNs8-Q1sykzK"
   },
   "source": [
    "## Training and Dump"
   ]
  },
  {
   "cell_type": "code",
   "execution_count": 43,
   "metadata": {
    "id": "vIkWl1iTyxOi"
   },
   "outputs": [],
   "source": [
    "abelosses = []\n",
    "boblosses = []\n",
    "evelosses = []"
   ]
  },
  {
   "cell_type": "code",
   "execution_count": 44,
   "metadata": {
    "colab": {
     "base_uri": "https://localhost:8080/"
    },
    "id": "GTs9V14kyy9r",
    "outputId": "a5379ee8-acb5-475f-ad6a-74885ed150ff"
   },
   "outputs": [
    {
     "name": "stdout",
     "output_type": "stream",
     "text": [
      "Training for 100 epochs with 128 batches of size 512\n",
      "Epoch   0:  99% | abe: 12.048 | eve: 8.003 | bob: 11.981\n",
      "Epoch   1:  99% | abe: 8.006 | eve: 7.993 | bob: 8.006\n",
      "Epoch   2:  99% | abe: 7.996 | eve: 8.003 | bob: 7.996\n",
      "Epoch   3:  99% | abe: 7.996 | eve: 7.993 | bob: 7.996\n",
      "Epoch   4:  99% | abe: 7.942 | eve: 7.516 | bob: 7.935\n",
      "Epoch   5:  99% | abe: 7.654 | eve: 5.889 | bob: 7.575\n",
      "Epoch   6:  99% | abe: 6.845 | eve: 4.650 | bob: 6.657\n",
      "Epoch   7:  99% | abe: 5.719 | eve: 3.644 | bob: 5.406\n",
      "Epoch   8:  99% | abe: 4.519 | eve: 2.788 | bob: 4.077\n",
      "Epoch   9:  99% | abe: 3.436 | eve: 1.759 | bob: 2.808\n",
      "Epoch  10:  99% | abe: 2.613 | eve: 0.913 | bob: 1.815\n",
      "Epoch  11:  99% | abe: 2.049 | eve: 0.521 | bob: 1.166\n",
      "Epoch  12:  99% | abe: 1.736 | eve: 0.371 | bob: 0.819\n",
      "Epoch  13:  99% | abe: 1.539 | eve: 0.281 | bob: 0.603\n",
      "Epoch  14:  99% | abe: 1.413 | eve: 0.235 | bob: 0.469\n",
      "Epoch  15:  99% | abe: 1.322 | eve: 0.208 | bob: 0.371\n",
      "Epoch  16:  99% | abe: 1.261 | eve: 0.183 | bob: 0.305\n",
      "Epoch  17:  99% | abe: 1.211 | eve: 0.220 | bob: 0.264\n",
      "Epoch  18:  99% | abe: 1.150 | eve: 0.401 | bob: 0.245\n",
      "Epoch  19:  99% | abe: 1.073 | eve: 0.743 | bob: 0.248\n",
      "Epoch  20:  99% | abe: 0.999 | eve: 1.083 | bob: 0.248\n",
      "Epoch  21:  99% | abe: 0.928 | eve: 1.378 | bob: 0.245\n",
      "Epoch  22:  99% | abe: 0.870 | eve: 1.631 | bob: 0.238\n",
      "Epoch  23:  99% | abe: 0.822 | eve: 1.856 | bob: 0.232\n",
      "Epoch  24:  99% | abe: 0.773 | eve: 2.090 | bob: 0.227\n",
      "Epoch  25:  99% | abe: 0.735 | eve: 2.273 | bob: 0.220\n",
      "Epoch  26:  99% | abe: 0.704 | eve: 2.414 | bob: 0.213\n",
      "Epoch  27:  99% | abe: 0.675 | eve: 2.547 | bob: 0.207\n",
      "Epoch  28:  99% | abe: 0.651 | eve: 2.647 | bob: 0.200\n",
      "Epoch  29:  99% | abe: 0.630 | eve: 2.731 | bob: 0.194\n",
      "Epoch  30:  99% | abe: 0.606 | eve: 2.881 | bob: 0.191\n",
      "Epoch  31:  99% | abe: 0.582 | eve: 2.990 | bob: 0.188\n",
      "Epoch  32:  99% | abe: 0.562 | eve: 3.078 | bob: 0.184\n",
      "Epoch  33:  99% | abe: 0.545 | eve: 3.158 | bob: 0.179\n",
      "Epoch  34:  99% | abe: 0.532 | eve: 3.229 | bob: 0.175\n",
      "Epoch  35:  99% | abe: 0.519 | eve: 3.292 | bob: 0.171\n",
      "Epoch  36:  99% | abe: 0.508 | eve: 3.342 | bob: 0.168\n",
      "Epoch  37:  99% | abe: 0.498 | eve: 3.379 | bob: 0.164\n",
      "Epoch  38:  99% | abe: 0.491 | eve: 3.432 | bob: 0.162\n",
      "Epoch  39:  99% | abe: 0.480 | eve: 3.461 | bob: 0.158\n",
      "Epoch  40:  99% | abe: 0.474 | eve: 3.506 | bob: 0.157\n",
      "Epoch  41:  99% | abe: 0.466 | eve: 3.540 | bob: 0.154\n",
      "Epoch  42:  99% | abe: 0.461 | eve: 3.561 | bob: 0.152\n",
      "Epoch  43:  99% | abe: 0.453 | eve: 3.587 | bob: 0.149\n",
      "Epoch  44:  99% | abe: 0.448 | eve: 3.614 | bob: 0.147\n",
      "Epoch  45:  99% | abe: 0.444 | eve: 3.634 | bob: 0.146\n",
      "Epoch  46:  99% | abe: 0.439 | eve: 3.659 | bob: 0.143\n",
      "Epoch  47:  99% | abe: 0.434 | eve: 3.683 | bob: 0.142\n",
      "Epoch  48:  99% | abe: 0.430 | eve: 3.686 | bob: 0.140\n",
      "Epoch  49:  99% | abe: 0.424 | eve: 3.719 | bob: 0.138\n",
      "Epoch  50:  99% | abe: 0.422 | eve: 3.718 | bob: 0.136\n",
      "Epoch  51:  99% | abe: 0.419 | eve: 3.738 | bob: 0.134\n",
      "Epoch  52:  99% | abe: 0.415 | eve: 3.752 | bob: 0.133\n",
      "Epoch  53:  99% | abe: 0.413 | eve: 3.768 | bob: 0.132\n",
      "Epoch  54:  99% | abe: 0.410 | eve: 3.777 | bob: 0.131\n",
      "Epoch  55:  99% | abe: 0.406 | eve: 3.805 | bob: 0.131\n",
      "Epoch  56:  99% | abe: 0.402 | eve: 3.806 | bob: 0.128\n",
      "Epoch  57:  99% | abe: 0.398 | eve: 3.819 | bob: 0.127\n",
      "Epoch  58:  99% | abe: 0.398 | eve: 3.849 | bob: 0.127\n",
      "Epoch  59:  99% | abe: 0.395 | eve: 3.858 | bob: 0.125\n",
      "Epoch  60:  99% | abe: 0.391 | eve: 3.863 | bob: 0.124\n",
      "Epoch  61:  99% | abe: 0.388 | eve: 3.870 | bob: 0.122\n",
      "Epoch  62:  99% | abe: 0.388 | eve: 3.881 | bob: 0.122\n",
      "Epoch  63:  99% | abe: 0.384 | eve: 3.895 | bob: 0.121\n",
      "Epoch  64:  99% | abe: 0.382 | eve: 3.903 | bob: 0.120\n",
      "Epoch  65:  99% | abe: 0.381 | eve: 3.921 | bob: 0.119\n",
      "Epoch  66:  99% | abe: 0.380 | eve: 3.926 | bob: 0.120\n",
      "Epoch  67:  99% | abe: 0.376 | eve: 3.940 | bob: 0.117\n",
      "Epoch  68:  99% | abe: 0.373 | eve: 3.949 | bob: 0.116\n",
      "Epoch  69:  99% | abe: 0.373 | eve: 3.956 | bob: 0.116\n",
      "Epoch  70:  99% | abe: 0.370 | eve: 3.964 | bob: 0.115\n",
      "Epoch  71:  99% | abe: 0.370 | eve: 3.969 | bob: 0.114\n",
      "Epoch  72:  99% | abe: 0.367 | eve: 3.976 | bob: 0.113\n",
      "Epoch  73:  99% | abe: 0.369 | eve: 3.987 | bob: 0.116\n",
      "Epoch  74:  99% | abe: 0.364 | eve: 3.986 | bob: 0.112\n",
      "Epoch  75:  99% | abe: 0.363 | eve: 3.989 | bob: 0.113\n",
      "Epoch  76:  99% | abe: 0.362 | eve: 3.993 | bob: 0.109\n",
      "Epoch  77:  99% | abe: 0.360 | eve: 4.004 | bob: 0.110\n",
      "Epoch  78:  99% | abe: 0.358 | eve: 4.003 | bob: 0.111\n",
      "Epoch  79:  99% | abe: 0.357 | eve: 4.025 | bob: 0.108\n",
      "Epoch  80:  99% | abe: 0.355 | eve: 4.023 | bob: 0.108\n",
      "Epoch  81:  99% | abe: 0.352 | eve: 4.019 | bob: 0.107\n",
      "Epoch  82:  99% | abe: 0.353 | eve: 4.033 | bob: 0.107\n",
      "Epoch  83:  99% | abe: 0.351 | eve: 4.041 | bob: 0.106\n",
      "Epoch  84:  99% | abe: 0.351 | eve: 4.051 | bob: 0.108\n",
      "Epoch  85:  99% | abe: 0.351 | eve: 4.054 | bob: 0.105\n",
      "Epoch  86:  99% | abe: 0.348 | eve: 4.054 | bob: 0.107\n",
      "Epoch  87:  99% | abe: 0.345 | eve: 4.068 | bob: 0.103\n",
      "Epoch  88:  99% | abe: 0.347 | eve: 4.075 | bob: 0.105\n",
      "Epoch  89:  99% | abe: 0.345 | eve: 4.075 | bob: 0.105\n",
      "Epoch  90:  99% | abe: 0.342 | eve: 4.092 | bob: 0.104\n",
      "Epoch  91:  99% | abe: 0.344 | eve: 4.086 | bob: 0.104\n",
      "Epoch  92:  99% | abe: 0.340 | eve: 4.093 | bob: 0.100\n",
      "Epoch  93:  99% | abe: 0.336 | eve: 4.140 | bob: 0.105\n",
      "Epoch  94:  99% | abe: 0.329 | eve: 4.200 | bob: 0.102\n",
      "Epoch  95:  99% | abe: 0.320 | eve: 4.255 | bob: 0.102\n",
      "Epoch  96:  99% | abe: 0.319 | eve: 4.289 | bob: 0.103\n",
      "Epoch  97:  99% | abe: 0.316 | eve: 4.326 | bob: 0.104\n",
      "Epoch  98:  99% | abe: 0.311 | eve: 4.334 | bob: 0.101\n",
      "Epoch  99:  99% | abe: 0.308 | eve: 4.346 | bob: 0.099\n",
      "Training finished.\n"
     ]
    }
   ],
   "source": [
    "n_epochs = 100\n",
    "batch_size = 512\n",
    "n_batches = m_train // batch_size\n",
    "\n",
    "abecycles = 1\n",
    "evecycles = 2\n",
    "\n",
    "epoch = 0\n",
    "print(\"Training for\", n_epochs, \"epochs with\", n_batches, \"batches of size\", batch_size)\n",
    "\n",
    "while epoch < n_epochs:\n",
    "    abelosses0 = []\n",
    "    boblosses0 = []\n",
    "    evelosses0 = []\n",
    "    for iteration in range(n_batches):\n",
    "        \n",
    "        # Train the A-B+E network\n",
    "        #\n",
    "        alice.trainable = True\n",
    "        for cycle in range(abecycles):\n",
    "            # Select a random batch of messages, and a random batch of keys\n",
    "            #\n",
    "            m_batch = np.random.randint(0, 2, m_bits * batch_size).reshape(batch_size, m_bits)\n",
    "            k_batch = np.random.randint(0, 2, k_bits * batch_size).reshape(batch_size, k_bits)\n",
    "            loss = abemodel.train_on_batch([m_batch, k_batch, k_batch], None)\n",
    "        \n",
    "        abelosses0.append(loss)\n",
    "        abelosses.append(loss)\n",
    "        abeavg = np.mean(abelosses0)\n",
    "            \n",
    "        # Evaluate Bob's ability to decrypt a message\n",
    "        m_enc = alice.predict([m_batch, k_batch])\n",
    "        m_dec = bob.predict([m_enc, k_batch])\n",
    "        loss = np.mean(  np.sum( np.abs(m_batch - m_dec), axis=-1)  )\n",
    "        boblosses0.append(loss)\n",
    "        boblosses.append(loss)\n",
    "        bobavg = np.mean(boblosses0)\n",
    "        \n",
    "        # Train the EVE network\n",
    "        #\n",
    "        alice.trainable = False\n",
    "        for cycle in range(evecycles):\n",
    "            m_batch = np.random.randint(0, 2, m_bits * batch_size).reshape(batch_size, m_bits)\n",
    "            k_batch = np.random.randint(0, 2, k_bits * batch_size).reshape(batch_size, k_bits)\n",
    "            loss = evemodel.train_on_batch([m_batch, k_batch], None)\n",
    "        \n",
    "        evelosses0.append(loss)\n",
    "        evelosses.append(loss)\n",
    "        eveavg = np.mean(evelosses0)\n",
    "        \n",
    "        if iteration % max(1, (n_batches // 100)) == 0:\n",
    "            print(\"\\rEpoch {:3}: {:3}% | abe: {:2.3f} | eve: {:2.3f} | bob: {:2.3f}\".format(\n",
    "                epoch, 100 * iteration // n_batches, abeavg, eveavg, bobavg), end=\"\")\n",
    "            sys.stdout.flush()\n",
    "    \n",
    "    print()\n",
    "    epoch += 1\n",
    "    \n",
    "print('Training finished.')"
   ]
  },
  {
   "cell_type": "code",
   "execution_count": 54,
   "metadata": {
    "colab": {
     "base_uri": "https://localhost:8080/",
     "height": 282
    },
    "id": "WHnoYi1nzEGT",
    "outputId": "d88ce70d-d17d-4a35-a7f0-da8c99b67e7f"
   },
   "outputs": [
    {
     "data": {
      "image/png": "[encoded data removed]",
      "text/plain": [
       "<Figure size 504x288 with 1 Axes>"
      ]
     },
     "metadata": {
      "needs_background": "light"
     },
     "output_type": "display_data"
    }
   ],
   "source": [
    "steps = -1\n",
    "\n",
    "plt.figure(figsize=(7, 4))\n",
    "plt.plot(abelosses[:steps], label='A-B')\n",
    "plt.plot(evelosses[:steps], label='Eve')\n",
    "plt.plot(boblosses[:steps], label='Bob')\n",
    "plt.xlabel(\"Iterations\", fontsize=13)\n",
    "plt.ylabel(\"Loss\", fontsize=13)\n",
    "plt.legend(fontsize=13)\n",
    "\n",
    "#plt.savefig(\"images/\" + model_name + \".png\", transparent=True) #dpi=100\n",
    "plt.show()"
   ]
  },
  {
   "cell_type": "markdown",
   "metadata": {
    "id": "s_BlIakCzLD9"
   },
   "source": [
    "### Saving"
   ]
  },
  {
   "cell_type": "code",
   "execution_count": 46,
   "metadata": {
    "id": "umquDMs9zG_U"
   },
   "outputs": [],
   "source": [
    "# import joblib\n",
    "\n",
    "# joblib.dump(alice, '/content/drive/MyDrive/FYP-Neural Cryptography/alice.sav')\n",
    "# joblib.dump(bob, '/content/drive/MyDrive/FYP-Neural Cryptography/bob.sav')\n",
    "# joblib.dump(eve, '/content/drive/MyDrive/FYP-Neural Cryptography/eve.sav')"
   ]
  },
  {
   "cell_type": "code",
   "execution_count": 55,
   "metadata": {
    "id": "1jYeEdSy2Po6"
   },
   "outputs": [],
   "source": [
    "alice.save('alice.h5',overwrite=True)\n",
    "bob.save('bob.h5',overwrite=True)\n",
    "eve.save('eve.h5',overwrite=True)"
   ]
  },
  {
   "cell_type": "markdown",
   "metadata": {
    "id": "0LhACMwUzTyb"
   },
   "source": [
    "## Evaluate"
   ]
  },
  {
   "cell_type": "code",
   "execution_count": 56,
   "metadata": {
    "colab": {
     "base_uri": "https://localhost:8080/"
    },
    "id": "6azCU2kBzXtF",
    "outputId": "b3ceeea2-ff8b-4e56-8303-e604ade81918"
   },
   "outputs": [
    {
     "name": "stdout",
     "output_type": "stream",
     "text": [
      "Bob % correct:  99.97 %\n",
      "Eve % correct:  0.35 %\n"
     ]
    }
   ],
   "source": [
    "n_examples = 10000\n",
    "m_batch = np.random.randint(0, 2, m_bits * n_examples).reshape(n_examples, m_bits)\n",
    "k_batch = np.random.randint(0, 2, m_bits * n_examples).reshape(n_examples, m_bits)\n",
    "\n",
    "m_enc = alice.predict([m_batch, k_batch])\n",
    "m_dec = (bob.predict([m_enc, k_batch]) > 0.5).astype(int)\n",
    "m_att = (eve.predict(m_enc) > 0.5).astype(int)\n",
    "\n",
    "bdiff = np.abs(m_batch - m_dec)\n",
    "bsum = np.sum(bdiff, axis=-1)\n",
    "ediff = np.abs(m_batch - m_att)\n",
    "esum = np.sum(ediff, axis=-1)\n",
    "\n",
    "print(\"Bob % correct: \", 100.0*np.sum(bsum == 0) / n_examples, '%')\n",
    "print(\"Eve % correct: \", 100.0*np.sum(esum == 0) / n_examples, '%')"
   ]
  },
  {
   "cell_type": "code",
   "execution_count": 49,
   "metadata": {},
   "outputs": [
    {
     "name": "stdout",
     "output_type": "stream",
     "text": [
      "Python 3.6.13 :: Anaconda, Inc.\n"
     ]
    }
   ],
   "source": [
    "!python -V"
   ]
  },
  {
   "cell_type": "code",
   "execution_count": 50,
   "metadata": {
    "colab": {
     "base_uri": "https://localhost:8080/"
    },
    "id": "HgorNtveFsg0",
    "outputId": "9fcc29ad-9f94-4a4a-c802-d1afbd305c77"
   },
   "outputs": [
    {
     "data": {
      "text/plain": [
       "array([1, 1, 1, 0, 0, 0, 1, 1, 1, 0, 0, 0, 1, 1, 1, 1])"
      ]
     },
     "execution_count": 50,
     "metadata": {},
     "output_type": "execute_result"
    }
   ],
   "source": [
    "# Input format\n",
    "\n",
    "# !pip3 install joblib\n",
    "\n",
    "# import joblib\n",
    "\n",
    "alice1 = load_model('alice.h5')\n",
    "bob1 = load_model('bob.h5')\n",
    "eve1 = load_model('eve.h5')\n",
    "\n",
    "message = np.array([[0, 0, 0, 0, 0, 0, 1, 1, 0, 1, 1, 0, 1, 1, 1, 1],\n",
    "                    [1, 1, 1, 0, 0, 0, 1, 1, 1, 0, 0, 0, 1, 1, 1, 1]])\n",
    "key = np.array([[0, 0, 0, 0, 0, 0, 1, 1, 0, 1, 1, 0, 1, 1, 1, 1],\n",
    "                [0, 0, 0, 1, 1, 1, 0, 0, 0, 1, 1, 1, 1, 1, 1, 1]])\n",
    "\n",
    "cipher = alice1.predict([message, key])\n",
    "\n",
    "decipher = (bob1.predict([cipher, key]) > 0.5).astype(int)\n",
    "\n",
    "adversary = (eve1.predict(cipher) > 0.5).astype(int)\n",
    "\n",
    "decipher[1]\n",
    "\n",
    "# Input must be numpy array"
   ]
  },
  {
   "cell_type": "code",
   "execution_count": 51,
   "metadata": {},
   "outputs": [],
   "source": [
    "# !pip install h5py==2.10.0"
   ]
  },
  {
   "cell_type": "code",
   "execution_count": 52,
   "metadata": {
    "colab": {
     "base_uri": "https://localhost:8080/"
    },
    "id": "U8Dn7DWCDZx1",
    "outputId": "347a9f2e-f7ca-4211-de4e-fafdd09dc624"
   },
   "outputs": [
    {
     "data": {
      "text/plain": [
       "array([[0, 0, 0, ..., 0, 1, 1],\n",
       "       [1, 0, 1, ..., 1, 0, 1],\n",
       "       [0, 0, 0, ..., 1, 0, 1],\n",
       "       ...,\n",
       "       [0, 1, 0, ..., 1, 1, 1],\n",
       "       [1, 1, 0, ..., 1, 0, 1],\n",
       "       [1, 1, 0, ..., 0, 1, 1]])"
      ]
     },
     "execution_count": 52,
     "metadata": {},
     "output_type": "execute_result"
    }
   ],
   "source": [
    "(bob.predict([m_enc, k_batch]) > 0.5).astype(int)"
   ]
  },
  {
   "cell_type": "code",
   "execution_count": 53,
   "metadata": {
    "colab": {
     "base_uri": "https://localhost:8080/"
    },
    "id": "KKXZK3eDGHJ4",
    "outputId": "d68861a7-fbf0-4d02-b6c6-6cadeebc1147"
   },
   "outputs": [
    {
     "data": {
      "text/plain": [
       "array([[0, 0, 1, ..., 0, 1, 1],\n",
       "       [0, 0, 0, ..., 1, 0, 1],\n",
       "       [0, 0, 1, ..., 1, 0, 1],\n",
       "       ...,\n",
       "       [0, 1, 1, ..., 1, 0, 1],\n",
       "       [0, 1, 0, ..., 1, 0, 1],\n",
       "       [1, 1, 1, ..., 0, 0, 1]])"
      ]
     },
     "execution_count": 53,
     "metadata": {},
     "output_type": "execute_result"
    }
   ],
   "source": [
    "(eve.predict(m_enc) > 0.5 ).astype(int)"
   ]
  },
  {
   "cell_type": "markdown",
   "metadata": {
    "id": "d1S5NPeGE-EG"
   },
   "source": [
    "Make Epochs 50 for better visualization"
   ]
  }
 ],
 "metadata": {
  "colab": {
   "collapsed_sections": [],
   "name": "FYP_ANC.ipynb",
   "provenance": []
  },
  "kernelspec": {
   "display_name": "Python 3 (ipykernel)",
   "language": "python",
   "name": "python3"
  },
  "language_info": {
   "codemirror_mode": {
    "name": "ipython",
    "version": 3
   },
   "file_extension": ".py",
   "mimetype": "text/x-python",
   "name": "python",
   "nbconvert_exporter": "python",
   "pygments_lexer": "ipython3",
   "version": "3.6.13"
  }
 },
 "nbformat": 4,
 "nbformat_minor": 1
}
