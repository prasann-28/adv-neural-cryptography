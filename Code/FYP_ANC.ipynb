{
 "cells": [
  {
   "cell_type": "markdown",
   "metadata": {
    "id": "ZrnsaBneePT3"
   },
   "source": [
    "# Message Concealment Scheme"
   ]
  },
  {
   "cell_type": "markdown",
   "metadata": {
    "id": "rEMLAxHwj3Ms"
   },
   "source": [
    "## Libraries and initial setup"
   ]
  },
  {
   "cell_type": "code",
   "execution_count": 2,
   "metadata": {
    "colab": {
     "base_uri": "https://localhost:8080/"
    },
    "id": "cjUPiz1wfsRN",
    "outputId": "b996be0d-f4c7-484f-8128-b9a1218a26ba"
   },
   "outputs": [
    {
     "name": "stdout",
     "output_type": "stream",
     "text": [
      "Requirement already satisfied: gmpy2 in /Users/prasannshimpi/opt/anaconda3/envs/tensor_env/lib/python3.6/site-packages (2.0.8)\n",
      "Requirement already satisfied: tensorflow in /Users/prasannshimpi/opt/anaconda3/envs/tensor_env/lib/python3.6/site-packages (2.0.0)\n",
      "Requirement already satisfied: opt-einsum>=2.3.2 in /Users/prasannshimpi/opt/anaconda3/envs/tensor_env/lib/python3.6/site-packages (from tensorflow) (3.3.0)\n",
      "Requirement already satisfied: tensorboard<2.1.0,>=2.0.0 in /Users/prasannshimpi/opt/anaconda3/envs/tensor_env/lib/python3.6/site-packages (from tensorflow) (2.0.0)\n",
      "Requirement already satisfied: wheel>=0.26 in /Users/prasannshimpi/opt/anaconda3/envs/tensor_env/lib/python3.6/site-packages (from tensorflow) (0.37.0)\n",
      "Requirement already satisfied: wrapt>=1.11.1 in /Users/prasannshimpi/opt/anaconda3/envs/tensor_env/lib/python3.6/site-packages (from tensorflow) (1.12.1)\n",
      "Requirement already satisfied: protobuf>=3.6.1 in /Users/prasannshimpi/opt/anaconda3/envs/tensor_env/lib/python3.6/site-packages (from tensorflow) (3.17.2)\n",
      "Requirement already satisfied: keras-applications>=1.0.8 in /Users/prasannshimpi/opt/anaconda3/envs/tensor_env/lib/python3.6/site-packages (from tensorflow) (1.0.8)\n",
      "Requirement already satisfied: tensorflow-estimator<2.1.0,>=2.0.0 in /Users/prasannshimpi/opt/anaconda3/envs/tensor_env/lib/python3.6/site-packages (from tensorflow) (2.0.0)\n",
      "Requirement already satisfied: grpcio>=1.8.6 in /Users/prasannshimpi/opt/anaconda3/envs/tensor_env/lib/python3.6/site-packages (from tensorflow) (1.36.1)\n",
      "Requirement already satisfied: astor>=0.6.0 in /Users/prasannshimpi/opt/anaconda3/envs/tensor_env/lib/python3.6/site-packages (from tensorflow) (0.8.1)\n",
      "Requirement already satisfied: six>=1.10.0 in /Users/prasannshimpi/opt/anaconda3/envs/tensor_env/lib/python3.6/site-packages (from tensorflow) (1.16.0)\n",
      "Requirement already satisfied: termcolor>=1.1.0 in /Users/prasannshimpi/opt/anaconda3/envs/tensor_env/lib/python3.6/site-packages (from tensorflow) (1.1.0)\n",
      "Requirement already satisfied: numpy<2.0,>=1.16.0 in /Users/prasannshimpi/opt/anaconda3/envs/tensor_env/lib/python3.6/site-packages (from tensorflow) (1.19.2)\n",
      "Requirement already satisfied: absl-py>=0.7.0 in /Users/prasannshimpi/opt/anaconda3/envs/tensor_env/lib/python3.6/site-packages (from tensorflow) (0.15.0)\n",
      "Requirement already satisfied: keras-preprocessing>=1.0.5 in /Users/prasannshimpi/opt/anaconda3/envs/tensor_env/lib/python3.6/site-packages (from tensorflow) (1.1.2)\n",
      "Requirement already satisfied: gast==0.2.2 in /Users/prasannshimpi/opt/anaconda3/envs/tensor_env/lib/python3.6/site-packages (from tensorflow) (0.2.2)\n",
      "Requirement already satisfied: google-pasta>=0.1.6 in /Users/prasannshimpi/opt/anaconda3/envs/tensor_env/lib/python3.6/site-packages (from tensorflow) (0.2.0)\n",
      "Requirement already satisfied: h5py in /Users/prasannshimpi/opt/anaconda3/envs/tensor_env/lib/python3.6/site-packages (from keras-applications>=1.0.8->tensorflow) (2.10.0)\n",
      "Requirement already satisfied: werkzeug>=0.11.15 in /Users/prasannshimpi/opt/anaconda3/envs/tensor_env/lib/python3.6/site-packages (from tensorboard<2.1.0,>=2.0.0->tensorflow) (2.0.2)\n",
      "Requirement already satisfied: markdown>=2.6.8 in /Users/prasannshimpi/opt/anaconda3/envs/tensor_env/lib/python3.6/site-packages (from tensorboard<2.1.0,>=2.0.0->tensorflow) (3.3.4)\n",
      "Requirement already satisfied: setuptools>=41.0.0 in /Users/prasannshimpi/opt/anaconda3/envs/tensor_env/lib/python3.6/site-packages (from tensorboard<2.1.0,>=2.0.0->tensorflow) (58.0.4)\n",
      "Requirement already satisfied: importlib-metadata in /Users/prasannshimpi/opt/anaconda3/envs/tensor_env/lib/python3.6/site-packages (from markdown>=2.6.8->tensorboard<2.1.0,>=2.0.0->tensorflow) (4.8.1)\n",
      "Requirement already satisfied: dataclasses in /Users/prasannshimpi/opt/anaconda3/envs/tensor_env/lib/python3.6/site-packages (from werkzeug>=0.11.15->tensorboard<2.1.0,>=2.0.0->tensorflow) (0.8)\n",
      "Requirement already satisfied: typing-extensions>=3.6.4 in /Users/prasannshimpi/opt/anaconda3/envs/tensor_env/lib/python3.6/site-packages (from importlib-metadata->markdown>=2.6.8->tensorboard<2.1.0,>=2.0.0->tensorflow) (3.10.0.2)\n",
      "Requirement already satisfied: zipp>=0.5 in /Users/prasannshimpi/opt/anaconda3/envs/tensor_env/lib/python3.6/site-packages (from importlib-metadata->markdown>=2.6.8->tensorboard<2.1.0,>=2.0.0->tensorflow) (3.6.0)\n"
     ]
    }
   ],
   "source": [
    "!pip3 install gmpy2\n",
    "!pip3 install tensorflow\n",
    "\n",
    "%matplotlib inline\n",
    "\n",
    "import ctypes\n",
    "import gmpy2\n",
    "from gmpy2 import mpz\n",
    "import matplotlib\n",
    "import matplotlib.pyplot as plt\n",
    "import numpy as np\n",
    "import pandas as pd\n",
    "import sys"
   ]
  },
  {
   "cell_type": "code",
   "execution_count": 27,
   "metadata": {},
   "outputs": [],
   "source": [
    "# !pip install --upgrade tensorflow\n",
    "# !pip install --upgrade tensorflow-gpu\n",
    "# !pip install keras==2.3.1\n",
    "\n"
   ]
  },
  {
   "cell_type": "code",
   "execution_count": 3,
   "metadata": {
    "id": "yUw_sMIefTfz"
   },
   "outputs": [
    {
     "name": "stderr",
     "output_type": "stream",
     "text": [
      "Using TensorFlow backend.\n"
     ]
    }
   ],
   "source": [
    "from keras import backend as K\n",
    "from keras.models import Model\n",
    "from keras.engine.input_layer import Input\n",
    "from keras.layers.core import Activation, Dense\n",
    "from keras.layers import Flatten, Reshape\n",
    "from keras.layers.convolutional import Conv1D\n",
    "from keras.layers.merge import concatenate\n",
    "from keras.optimizers import Adam, RMSprop\n",
    "# from tensorflow.keras.optimizers import RMSprop\n",
    "from keras.models import load_model"
   ]
  },
  {
   "cell_type": "code",
   "execution_count": 29,
   "metadata": {
    "id": "3OQk-9HFeqr9"
   },
   "outputs": [],
   "source": [
    "# Set up the crypto parameters: message, key, and ciphertext bit lengths\n",
    "m_bits = 16\n",
    "k_bits = 16\n",
    "c_bits = 16\n",
    "pad = 'same'"
   ]
  },
  {
   "cell_type": "code",
   "execution_count": 30,
   "metadata": {
    "id": "kNzkiosaiBBa"
   },
   "outputs": [],
   "source": [
    "def random_batch(X_train, y_train, batch_size):\n",
    "    index_set = np.random.randint(0, X_train.shape[0], batch_size)\n",
    "    X_batch = X_train[index_set]\n",
    "    y_batch = y_train[index_set]\n",
    "    return X_batch, y_batch"
   ]
  },
  {
   "cell_type": "markdown",
   "metadata": {
    "id": "I1vGpgpVbt2d"
   },
   "source": [
    "## Model Building"
   ]
  },
  {
   "cell_type": "markdown",
   "metadata": {
    "id": "5I5rh1dLet_v"
   },
   "source": [
    "### Alice"
   ]
  },
  {
   "cell_type": "code",
   "execution_count": 31,
   "metadata": {
    "id": "lzyQtOnge1iq"
   },
   "outputs": [],
   "source": [
    "ainput0 = Input(shape=(m_bits,)) #message\n",
    "ainput1 = Input(shape=(k_bits,)) #key\n",
    "ainput = concatenate([ainput0, ainput1], axis=1)\n",
    "\n",
    "adense1 = Dense(units=(m_bits + k_bits))(ainput)\n",
    "adense1a = Activation('relu')(adense1)\n",
    "areshape = Reshape((m_bits + k_bits, 1,))(adense1a)\n",
    "\n",
    "aconv1 = Conv1D(filters=2, kernel_size=4, strides=1, padding=pad)(areshape)\n",
    "aconv1a = Activation('sigmoid')(aconv1)\n",
    "aconv2 = Conv1D(filters=4, kernel_size=2, strides=2, padding=pad)(aconv1a)\n",
    "aconv2a = Activation('sigmoid')(aconv2)\n",
    "aconv3 = Conv1D(filters=4, kernel_size=1, strides=1, padding=pad)(aconv2a)\n",
    "aconv3a = Activation('sigmoid')(aconv3)\n",
    "aconv4 = Conv1D(filters=1, kernel_size=1, strides=1, padding=pad)(aconv3a)\n",
    "aconv4a = Activation('tanh')(aconv4)\n",
    "\n",
    "aoutput = Flatten()(aconv4a)\n",
    "\n",
    "alice = Model([ainput0, ainput1], aoutput, name='alice')\n",
    "# alice.summary()\n"
   ]
  },
  {
   "cell_type": "markdown",
   "metadata": {
    "id": "PVUqG45EhHtH"
   },
   "source": [
    "### Bob"
   ]
  },
  {
   "cell_type": "code",
   "execution_count": 32,
   "metadata": {
    "id": "tB__Ro0EhLn7"
   },
   "outputs": [],
   "source": [
    "binput0 = Input(shape=(c_bits,)) #ciphertext\n",
    "binput1 = Input(shape=(k_bits,)) #key\n",
    "binput = concatenate([binput0, binput1], axis=1)\n",
    "\n",
    "bdense1 = Dense(units=(c_bits + k_bits))(binput)\n",
    "bdense1a = Activation('relu')(bdense1)\n",
    "\n",
    "breshape = Reshape((c_bits + k_bits, 1,))(bdense1a)\n",
    "\n",
    "bconv1 = Conv1D(filters=2, kernel_size=4, strides=1, padding=pad)(breshape)\n",
    "bconv1a = Activation('sigmoid')(bconv1)\n",
    "bconv2 = Conv1D(filters=4, kernel_size=2, strides=2, padding=pad)(bconv1a)\n",
    "bconv2a = Activation('sigmoid')(bconv2)\n",
    "bconv3 = Conv1D(filters=4, kernel_size=1, strides=1, padding=pad)(bconv2a)\n",
    "bconv3a = Activation('sigmoid')(bconv3)\n",
    "bconv4 = Conv1D(filters=1, kernel_size=1, strides=1, padding=pad)(bconv3a)\n",
    "bconv4a = Activation('tanh')(bconv4)\n",
    "\n",
    "boutput = Flatten()(bconv4a)\n",
    "\n",
    "bob = Model([binput0, binput1], boutput, name='bob')\n",
    "\n",
    "# bob.summary()"
   ]
  },
  {
   "cell_type": "markdown",
   "metadata": {
    "id": "kbVm4LjciLfD"
   },
   "source": [
    "### Eve"
   ]
  },
  {
   "cell_type": "code",
   "execution_count": 33,
   "metadata": {
    "id": "HWvceM3WiNRY"
   },
   "outputs": [],
   "source": [
    "einput = Input(shape=(c_bits,)) #ciphertext only\n",
    "\n",
    "edense1 = Dense(units=(c_bits + k_bits))(einput)\n",
    "edense1a = Activation('relu')(edense1)\n",
    "\n",
    "edense2 = Dense(units=(c_bits + k_bits))(edense1a)\n",
    "edense2a = Activation('relu')(edense2)\n",
    "\n",
    "ereshape = Reshape((c_bits + k_bits, 1,))(edense2a)\n",
    "\n",
    "econv1 = Conv1D(filters=2, kernel_size=4, strides=1, padding=pad)(ereshape)\n",
    "econv1a = Activation('sigmoid')(econv1)\n",
    "econv2 = Conv1D(filters=4, kernel_size=2, strides=2, padding=pad)(econv1a)\n",
    "econv2a = Activation('sigmoid')(econv2)\n",
    "econv3 = Conv1D(filters=4, kernel_size=1, strides=1, padding=pad)(econv2a)\n",
    "econv3a = Activation('sigmoid')(econv3)\n",
    "econv4 = Conv1D(filters=1, kernel_size=1, strides=1, padding=pad)(econv3a)\n",
    "econv4a = Activation('tanh')(econv4)\n",
    "\n",
    "eoutput = Flatten()(econv4a)# Eve's attempt at code guessing\n",
    "\n",
    "eve = Model(einput, eoutput, name='eve')\n",
    "\n",
    "# eve.summary()"
   ]
  },
  {
   "cell_type": "code",
   "execution_count": 34,
   "metadata": {
    "id": "m-ewoDhiigTK"
   },
   "outputs": [],
   "source": [
    "alice.compile(loss='mse', optimizer='sgd')\n",
    "bob.compile(loss='mse', optimizer='sgd')\n",
    "eve.compile(loss='mse', optimizer='sgd')"
   ]
  },
  {
   "cell_type": "markdown",
   "metadata": {
    "id": "VOBVEuhsiovA"
   },
   "source": [
    "## Loss Functions and Optimizers"
   ]
  },
  {
   "cell_type": "code",
   "execution_count": 35,
   "metadata": {
    "id": "dxk9br_Yi52A"
   },
   "outputs": [],
   "source": [
    "m_train = 2**(m_bits) #+ k_bits)"
   ]
  },
  {
   "cell_type": "code",
   "execution_count": 36,
   "metadata": {
    "colab": {
     "base_uri": "https://localhost:8080/"
    },
    "id": "NuNX_s0jijDN",
    "outputId": "13d2e9f8-c627-4d04-a9f4-02a33280b764"
   },
   "outputs": [
    {
     "name": "stderr",
     "output_type": "stream",
     "text": [
      "/Users/prasannshimpi/opt/anaconda3/envs/tensor_env/lib/python3.7/site-packages/keras/engine/training_utils.py:819: UserWarning: Output bob missing from loss dictionary. We assume this was done on purpose. The fit and evaluate APIs will not be expecting any data to be passed to bob.\n",
      "  'be expecting any data to be passed to {0}.'.format(name))\n",
      "/Users/prasannshimpi/opt/anaconda3/envs/tensor_env/lib/python3.7/site-packages/keras/engine/training_utils.py:819: UserWarning: Output eve missing from loss dictionary. We assume this was done on purpose. The fit and evaluate APIs will not be expecting any data to be passed to eve.\n",
      "  'be expecting any data to be passed to {0}.'.format(name))\n"
     ]
    }
   ],
   "source": [
    "# Establish the communication channels by linking inputs to outputs\n",
    "#\n",
    "aliceout = alice([ainput0, ainput1])\n",
    "bobout = bob( [aliceout, binput1] )# bob sees ciphertext AND key\n",
    "eveout = eve( aliceout )# eve doesn't see the key, only the cipher\n",
    "\n",
    "# Loss for Eve is just L1 distance between ainput0 and eoutput. The sum\n",
    "# is taken over all the bits in the message. The quantity inside the K.mean()\n",
    "# is per-example loss. We take the average across the entire mini-batch\n",
    "#\n",
    "eveloss = K.mean(  K.sum(K.abs(ainput0 - eveout), axis=-1)  )\n",
    "\n",
    "# Loss for Alice-Bob communication depends on Bob's reconstruction, but\n",
    "# also on Eve's ability to decrypt the message. Eve should do no better\n",
    "# than random guessing, so on average she will guess half the bits right.\n",
    "#\n",
    "bobloss = K.mean(  K.sum(K.abs(ainput0 - bobout), axis=-1)  )\n",
    "abeloss = bobloss + K.square(m_bits/2 - eveloss)/( (m_bits//2)**2 )\n",
    "\n",
    "# Optimizer and compilation\n",
    "#\n",
    "abeoptim = RMSprop(lr=0.001)\n",
    "eveoptim = RMSprop(lr=0.001) #default 0.001\n",
    "\n",
    "\n",
    "# Build and compile the ABE model, used for training Alice-Bob networks\n",
    "#\n",
    "abemodel = Model([ainput0, ainput1, binput1], bobout, name='abemodel')\n",
    "abemodel.add_loss(abeloss)\n",
    "abemodel.compile(optimizer=abeoptim)\n",
    "\n",
    "\n",
    "# Build and compile the EVE model, used for training Eve net (with Alice frozen)\n",
    "#\n",
    "alice.trainable = False\n",
    "evemodel = Model([ainput0, ainput1], eveout, name='evemodel')\n",
    "evemodel.add_loss(eveloss)\n",
    "evemodel.compile(optimizer=eveoptim)"
   ]
  },
  {
   "cell_type": "markdown",
   "metadata": {
    "id": "YRPX6XcP8Th4"
   },
   "source": []
  },
  {
   "cell_type": "markdown",
   "metadata": {
    "id": "pNs8-Q1sykzK"
   },
   "source": [
    "## Training and Dump"
   ]
  },
  {
   "cell_type": "code",
   "execution_count": 37,
   "metadata": {
    "id": "vIkWl1iTyxOi"
   },
   "outputs": [],
   "source": [
    "abelosses = []\n",
    "boblosses = []\n",
    "evelosses = []"
   ]
  },
  {
   "cell_type": "code",
   "execution_count": 38,
   "metadata": {
    "colab": {
     "base_uri": "https://localhost:8080/"
    },
    "id": "GTs9V14kyy9r",
    "outputId": "a5379ee8-acb5-475f-ad6a-74885ed150ff"
   },
   "outputs": [
    {
     "name": "stdout",
     "output_type": "stream",
     "text": [
      "Training for 150 epochs with 128 batches of size 512\n",
      "Epoch   0:  99% | abe: 7.995 | eve: 8.000 | bob: 7.995\n",
      "Epoch   1:  99% | abe: 8.001 | eve: 7.998 | bob: 8.000\n",
      "Epoch   2:  99% | abe: 7.992 | eve: 7.996 | bob: 7.992\n",
      "Epoch   3:  99% | abe: 7.979 | eve: 7.880 | bob: 7.977\n",
      "Epoch   4:  99% | abe: 7.603 | eve: 7.021 | bob: 7.578\n",
      "Epoch   5:  99% | abe: 6.416 | eve: 5.397 | bob: 6.292\n",
      "Epoch   6:  99% | abe: 4.972 | eve: 4.185 | bob: 4.728\n",
      "Epoch   7:  99% | abe: 3.725 | eve: 3.360 | bob: 3.371\n",
      "Epoch   8:  99% | abe: 2.846 | eve: 2.458 | bob: 2.350\n",
      "Epoch   9:  99% | abe: 2.180 | eve: 1.507 | bob: 1.507\n",
      "Epoch  10:  99% | abe: 1.685 | eve: 0.976 | bob: 0.902\n",
      "Epoch  11:  99% | abe: 1.304 | eve: 0.755 | bob: 0.473\n",
      "Epoch  12:  99% | abe: 1.082 | eve: 0.656 | bob: 0.231\n",
      "Epoch  13:  99% | abe: 0.986 | eve: 0.617 | bob: 0.129\n",
      "Epoch  14:  99% | abe: 0.944 | eve: 0.635 | bob: 0.091\n",
      "Epoch  15:  99% | abe: 0.910 | eve: 0.726 | bob: 0.078\n",
      "Epoch  16:  99% | abe: 0.882 | eve: 0.824 | bob: 0.071\n",
      "Epoch  17:  99% | abe: 0.853 | eve: 0.930 | bob: 0.069\n",
      "Epoch  18:  99% | abe: 0.831 | eve: 1.018 | bob: 0.068\n",
      "Epoch  19:  99% | abe: 0.812 | eve: 1.116 | bob: 0.068\n",
      "Epoch  20:  99% | abe: 0.784 | eve: 1.236 | bob: 0.068\n",
      "Epoch  21:  99% | abe: 0.759 | eve: 1.350 | bob: 0.068\n",
      "Epoch  22:  99% | abe: 0.734 | eve: 1.470 | bob: 0.067\n",
      "Epoch  23:  99% | abe: 0.709 | eve: 1.591 | bob: 0.067\n",
      "Epoch  24:  99% | abe: 0.685 | eve: 1.703 | bob: 0.067\n",
      "Epoch  25:  99% | abe: 0.665 | eve: 1.798 | bob: 0.066\n",
      "Epoch  26:  99% | abe: 0.648 | eve: 1.884 | bob: 0.066\n",
      "Epoch  27:  99% | abe: 0.633 | eve: 1.960 | bob: 0.065\n",
      "Epoch  28:  99% | abe: 0.621 | eve: 2.020 | bob: 0.064\n",
      "Epoch  29:  99% | abe: 0.612 | eve: 2.072 | bob: 0.064\n",
      "Epoch  30:  99% | abe: 0.604 | eve: 2.109 | bob: 0.063\n",
      "Epoch  31:  99% | abe: 0.597 | eve: 2.144 | bob: 0.062\n",
      "Epoch  32:  99% | abe: 0.591 | eve: 2.165 | bob: 0.062\n",
      "Epoch  33:  99% | abe: 0.585 | eve: 2.190 | bob: 0.061\n",
      "Epoch  34:  99% | abe: 0.579 | eve: 2.229 | bob: 0.060\n",
      "Epoch  35:  99% | abe: 0.576 | eve: 2.247 | bob: 0.060\n",
      "Epoch  36:  99% | abe: 0.574 | eve: 2.257 | bob: 0.060\n",
      "Epoch  37:  99% | abe: 0.568 | eve: 2.273 | bob: 0.059\n",
      "Epoch  38:  99% | abe: 0.566 | eve: 2.301 | bob: 0.059\n",
      "Epoch  39:  99% | abe: 0.564 | eve: 2.315 | bob: 0.058\n",
      "Epoch  40:  99% | abe: 0.561 | eve: 2.324 | bob: 0.058\n",
      "Epoch  41:  99% | abe: 0.559 | eve: 2.332 | bob: 0.057\n",
      "Epoch  42:  99% | abe: 0.556 | eve: 2.357 | bob: 0.057\n",
      "Epoch  43:  99% | abe: 0.554 | eve: 2.356 | bob: 0.057\n",
      "Epoch  44:  99% | abe: 0.552 | eve: 2.376 | bob: 0.056\n",
      "Epoch  45:  99% | abe: 0.551 | eve: 2.377 | bob: 0.056\n",
      "Epoch  46:  99% | abe: 0.549 | eve: 2.379 | bob: 0.056\n",
      "Epoch  47:  99% | abe: 0.548 | eve: 2.388 | bob: 0.056\n",
      "Epoch  48:  99% | abe: 0.547 | eve: 2.399 | bob: 0.055\n",
      "Epoch  49:  99% | abe: 0.545 | eve: 2.405 | bob: 0.055\n",
      "Epoch  50:  99% | abe: 0.543 | eve: 2.415 | bob: 0.055\n",
      "Epoch  51:  99% | abe: 0.540 | eve: 2.412 | bob: 0.054\n",
      "Epoch  52:  99% | abe: 0.540 | eve: 2.425 | bob: 0.054\n",
      "Epoch  53:  99% | abe: 0.540 | eve: 2.428 | bob: 0.054\n",
      "Epoch  54:  99% | abe: 0.538 | eve: 2.429 | bob: 0.054\n",
      "Epoch  55:  99% | abe: 0.538 | eve: 2.436 | bob: 0.054\n",
      "Epoch  56:  99% | abe: 0.535 | eve: 2.442 | bob: 0.053\n",
      "Epoch  57:  99% | abe: 0.534 | eve: 2.454 | bob: 0.053\n",
      "Epoch  58:  99% | abe: 0.534 | eve: 2.454 | bob: 0.052\n",
      "Epoch  59:  99% | abe: 0.531 | eve: 2.457 | bob: 0.052\n",
      "Epoch  60:  99% | abe: 0.529 | eve: 2.463 | bob: 0.052\n",
      "Epoch  61:  99% | abe: 0.530 | eve: 2.467 | bob: 0.052\n",
      "Epoch  62:  99% | abe: 0.528 | eve: 2.475 | bob: 0.052\n",
      "Epoch  63:  99% | abe: 0.526 | eve: 2.484 | bob: 0.051\n",
      "Epoch  64:  99% | abe: 0.521 | eve: 2.521 | bob: 0.051\n",
      "Epoch  65:  99% | abe: 0.505 | eve: 2.631 | bob: 0.055\n",
      "Epoch  66:  99% | abe: 0.485 | eve: 2.766 | bob: 0.057\n",
      "Epoch  67:  99% | abe: 0.472 | eve: 2.861 | bob: 0.059\n",
      "Epoch  68:  99% | abe: 0.462 | eve: 2.938 | bob: 0.060\n",
      "Epoch  69:  99% | abe: 0.454 | eve: 2.973 | bob: 0.060\n",
      "Epoch  70:  99% | abe: 0.448 | eve: 3.022 | bob: 0.060\n",
      "Epoch  71:  99% | abe: 0.443 | eve: 3.051 | bob: 0.060\n",
      "Epoch  72:  99% | abe: 0.439 | eve: 3.067 | bob: 0.059\n",
      "Epoch  73:  99% | abe: 0.435 | eve: 3.089 | bob: 0.059\n",
      "Epoch  74:  99% | abe: 0.431 | eve: 3.116 | bob: 0.059\n",
      "Epoch  75:  99% | abe: 0.428 | eve: 3.141 | bob: 0.058\n",
      "Epoch  76:  99% | abe: 0.422 | eve: 3.187 | bob: 0.059\n",
      "Epoch  77:  99% | abe: 0.412 | eve: 3.264 | bob: 0.061\n",
      "Epoch  78:  99% | abe: 0.406 | eve: 3.300 | bob: 0.061\n",
      "Epoch  79:  99% | abe: 0.401 | eve: 3.334 | bob: 0.062\n",
      "Epoch  80:  99% | abe: 0.396 | eve: 3.371 | bob: 0.062\n",
      "Epoch  81:  99% | abe: 0.392 | eve: 3.404 | bob: 0.062\n",
      "Epoch  82:  99% | abe: 0.386 | eve: 3.428 | bob: 0.061\n",
      "Epoch  83:  99% | abe: 0.381 | eve: 3.480 | bob: 0.061\n",
      "Epoch  84:  99% | abe: 0.370 | eve: 3.554 | bob: 0.062\n",
      "Epoch  85:  99% | abe: 0.362 | eve: 3.628 | bob: 0.063\n",
      "Epoch  86:  99% | abe: 0.354 | eve: 3.683 | bob: 0.063\n",
      "Epoch  87:  99% | abe: 0.349 | eve: 3.722 | bob: 0.064\n",
      "Epoch  88:  99% | abe: 0.342 | eve: 3.779 | bob: 0.064\n",
      "Epoch  89:  99% | abe: 0.333 | eve: 3.840 | bob: 0.064\n",
      "Epoch  90:  99% | abe: 0.325 | eve: 3.935 | bob: 0.065\n",
      "Epoch  91:  99% | abe: 0.318 | eve: 3.979 | bob: 0.065\n",
      "Epoch  92:  99% | abe: 0.311 | eve: 4.037 | bob: 0.065\n",
      "Epoch  93:  99% | abe: 0.305 | eve: 4.060 | bob: 0.064\n",
      "Epoch  94:  99% | abe: 0.301 | eve: 4.102 | bob: 0.064\n",
      "Epoch  95:  99% | abe: 0.296 | eve: 4.141 | bob: 0.063\n",
      "Epoch  96:  99% | abe: 0.294 | eve: 4.159 | bob: 0.063\n",
      "Epoch  97:  99% | abe: 0.289 | eve: 4.180 | bob: 0.062\n",
      "Epoch  98:  99% | abe: 0.287 | eve: 4.194 | bob: 0.061\n",
      "Epoch  99:  99% | abe: 0.284 | eve: 4.220 | bob: 0.061\n",
      "Epoch 100:  99% | abe: 0.283 | eve: 4.234 | bob: 0.060\n",
      "Epoch 101:  99% | abe: 0.280 | eve: 4.247 | bob: 0.060\n",
      "Epoch 102:  99% | abe: 0.278 | eve: 4.261 | bob: 0.059\n",
      "Epoch 103:  99% | abe: 0.275 | eve: 4.275 | bob: 0.059\n",
      "Epoch 104:  99% | abe: 0.274 | eve: 4.279 | bob: 0.059\n",
      "Epoch 105:  99% | abe: 0.272 | eve: 4.291 | bob: 0.058\n",
      "Epoch 106:  99% | abe: 0.270 | eve: 4.319 | bob: 0.058\n",
      "Epoch 107:  99% | abe: 0.266 | eve: 4.348 | bob: 0.057\n",
      "Epoch 108:  99% | abe: 0.260 | eve: 4.397 | bob: 0.058\n",
      "Epoch 109:  99% | abe: 0.254 | eve: 4.454 | bob: 0.058\n",
      "Epoch 110:  99% | abe: 0.251 | eve: 4.498 | bob: 0.059\n",
      "Epoch 111:  99% | abe: 0.245 | eve: 4.525 | bob: 0.058\n",
      "Epoch 112:  99% | abe: 0.243 | eve: 4.572 | bob: 0.059\n",
      "Epoch 113:  99% | abe: 0.239 | eve: 4.593 | bob: 0.058\n",
      "Epoch 114:  99% | abe: 0.239 | eve: 4.604 | bob: 0.058\n",
      "Epoch 115:  99% | abe: 0.237 | eve: 4.610 | bob: 0.058\n",
      "Epoch 116:  99% | abe: 0.235 | eve: 4.641 | bob: 0.057\n",
      "Epoch 117:  99% | abe: 0.231 | eve: 4.651 | bob: 0.057\n",
      "Epoch 118:  99% | abe: 0.230 | eve: 4.664 | bob: 0.057\n",
      "Epoch 119:  99% | abe: 0.226 | eve: 4.688 | bob: 0.056\n",
      "Epoch 120:  99% | abe: 0.226 | eve: 4.697 | bob: 0.055\n",
      "Epoch 121:  99% | abe: 0.224 | eve: 4.702 | bob: 0.055\n",
      "Epoch 122:  99% | abe: 0.222 | eve: 4.722 | bob: 0.054\n",
      "Epoch 123:  99% | abe: 0.222 | eve: 4.735 | bob: 0.055\n",
      "Epoch 124:  99% | abe: 0.219 | eve: 4.744 | bob: 0.054\n",
      "Epoch 125:  99% | abe: 0.219 | eve: 4.747 | bob: 0.053\n",
      "Epoch 126:  99% | abe: 0.217 | eve: 4.758 | bob: 0.053\n",
      "Epoch 127:  99% | abe: 0.216 | eve: 4.767 | bob: 0.053\n",
      "Epoch 128:  99% | abe: 0.214 | eve: 4.776 | bob: 0.052\n",
      "Epoch 129:  99% | abe: 0.213 | eve: 4.788 | bob: 0.052\n",
      "Epoch 130:  99% | abe: 0.214 | eve: 4.794 | bob: 0.051\n",
      "Epoch 131:  99% | abe: 0.212 | eve: 4.795 | bob: 0.051\n",
      "Epoch 132:  99% | abe: 0.210 | eve: 4.805 | bob: 0.051\n",
      "Epoch 133:  99% | abe: 0.211 | eve: 4.812 | bob: 0.051\n",
      "Epoch 134:  99% | abe: 0.207 | eve: 4.806 | bob: 0.050\n",
      "Epoch 135:  99% | abe: 0.206 | eve: 4.826 | bob: 0.050\n",
      "Epoch 136:  99% | abe: 0.206 | eve: 4.826 | bob: 0.049\n",
      "Epoch 137:  99% | abe: 0.206 | eve: 4.848 | bob: 0.049\n",
      "Epoch 138:  99% | abe: 0.205 | eve: 4.841 | bob: 0.049\n",
      "Epoch 139:  99% | abe: 0.203 | eve: 4.868 | bob: 0.049\n",
      "Epoch 140:  99% | abe: 0.202 | eve: 4.848 | bob: 0.049\n",
      "Epoch 141:  99% | abe: 0.202 | eve: 4.864 | bob: 0.048\n",
      "Epoch 142:  99% | abe: 0.202 | eve: 4.872 | bob: 0.049\n",
      "Epoch 143:  99% | abe: 0.201 | eve: 4.871 | bob: 0.048\n",
      "Epoch 144:  99% | abe: 0.200 | eve: 4.883 | bob: 0.048\n",
      "Epoch 145:  99% | abe: 0.198 | eve: 4.889 | bob: 0.048\n",
      "Epoch 146:  99% | abe: 0.198 | eve: 4.903 | bob: 0.048\n",
      "Epoch 147:  99% | abe: 0.198 | eve: 4.909 | bob: 0.048\n",
      "Epoch 148:  99% | abe: 0.196 | eve: 4.902 | bob: 0.047\n",
      "Epoch 149:  99% | abe: 0.195 | eve: 4.904 | bob: 0.046\n",
      "Training finished.\n"
     ]
    }
   ],
   "source": [
    "n_epochs = 150 \n",
    "batch_size = 512\n",
    "n_batches = m_train // batch_size\n",
    "\n",
    "abecycles = 1\n",
    "evecycles = 2\n",
    "\n",
    "epoch = 0\n",
    "print(\"Training for\", n_epochs, \"epochs with\", n_batches, \"batches of size\", batch_size)\n",
    "\n",
    "while epoch < n_epochs:\n",
    "    abelosses0 = []\n",
    "    boblosses0 = [] \n",
    "    evelosses0 = []\n",
    "    for iteration in range(n_batches):\n",
    "        \n",
    "        # Train the A-B+E network\n",
    "        #\n",
    "        alice.trainable = True\n",
    "        for cycle in range(abecycles):\n",
    "            # Select a random batch of messages, and a random batch of keys\n",
    "            #\n",
    "            m_batch = np.random.randint(0, 2, m_bits * batch_size).reshape(batch_size, m_bits)\n",
    "            k_batch = np.random.randint(0, 2, k_bits * batch_size).reshape(batch_size, k_bits)\n",
    "            loss = abemodel.train_on_batch([m_batch, k_batch, k_batch], None)\n",
    "        \n",
    "        abelosses0.append(loss)\n",
    "        abelosses.append(loss)\n",
    "        abeavg = np.mean(abelosses0)\n",
    "            \n",
    "        # Evaluate Bob's ability to decrypt a message\n",
    "        m_enc = alice.predict([m_batch, k_batch])\n",
    "        m_dec = bob.predict([m_enc, k_batch])\n",
    "        loss = np.mean(  np.sum( np.abs(m_batch - m_dec), axis=-1)  )\n",
    "        boblosses0.append(loss)\n",
    "        boblosses.append(loss)\n",
    "        bobavg = np.mean(boblosses0)\n",
    "        \n",
    "        # Train the EVE network\n",
    "        #\n",
    "        alice.trainable = False\n",
    "        for cycle in range(evecycles):\n",
    "            m_batch = np.random.randint(0, 2, m_bits * batch_size).reshape(batch_size, m_bits)\n",
    "            k_batch = np.random.randint(0, 2, k_bits * batch_size).reshape(batch_size, k_bits)\n",
    "            loss = evemodel.train_on_batch([m_batch, k_batch], None)\n",
    "        \n",
    "        evelosses0.append(loss)\n",
    "        evelosses.append(loss)\n",
    "        eveavg = np.mean(evelosses0)\n",
    "        \n",
    "        if iteration % max(1, (n_batches // 100)) == 0:\n",
    "            print(\"\\rEpoch {:3}: {:3}% | abe: {:2.3f} | eve: {:2.3f} | bob: {:2.3f}\".format(\n",
    "                epoch, 100 * iteration // n_batches, abeavg, eveavg, bobavg), end=\"\")\n",
    "            sys.stdout.flush()\n",
    "    \n",
    "    print()\n",
    "    epoch += 1\n",
    "    \n",
    "print('Training finished.')"
   ]
  },
  {
   "cell_type": "code",
   "execution_count": 45,
   "metadata": {
    "colab": {
     "base_uri": "https://localhost:8080/",
     "height": 282
    },
    "id": "WHnoYi1nzEGT",
    "outputId": "d88ce70d-d17d-4a35-a7f0-da8c99b67e7f"
   },
   "outputs": [
    {
     "data": {
      "image/png": "[encoded data removed]",
      "text/plain": [
       "<Figure size 504x288 with 1 Axes>"
      ]
     },
     "metadata": {
      "needs_background": "light"
     },
     "output_type": "display_data"
    }
   ],
   "source": [
    "steps = -1\n",
    "\n",
    "plt.figure(figsize=(7, 4))\n",
    "plt.plot(abelosses[:steps], label='A-B')\n",
    "plt.plot(evelosses[:steps], label='Eve')\n",
    "plt.plot(boblosses[:steps], label='Bob')\n",
    "plt.xlabel(\"Iterations\", fontsize=13)\n",
    "plt.ylabel(\"Loss\", fontsize=13)\n",
    "plt.legend(fontsize=13)\n",
    "\n",
    "#plt.savefig(\"images/\" + model_name + \".png\", transparent=True) #dpi=100\n",
    "plt.show()"
   ]
  },
  {
   "cell_type": "markdown",
   "metadata": {
    "id": "s_BlIakCzLD9"
   },
   "source": [
    "### Saving"
   ]
  },
  {
   "cell_type": "code",
   "execution_count": 40,
   "metadata": {
    "id": "umquDMs9zG_U"
   },
   "outputs": [],
   "source": [
    "# import joblib\n",
    "\n",
    "# joblib.dump(alice, '/content/drive/MyDrive/FYP-Neural Cryptography/alice.sav')\n",
    "# joblib.dump(bob, '/content/drive/MyDrive/FYP-Neural Cryptography/bob.sav')\n",
    "# joblib.dump(eve, '/content/drive/MyDrive/FYP-Neural Cryptography/eve.sav')"
   ]
  },
  {
   "cell_type": "code",
   "execution_count": 47,
   "metadata": {
    "id": "1jYeEdSy2Po6"
   },
   "outputs": [],
   "source": [
    "# alice.save('alice.h5',overwrite=True)\n",
    "# bob.save('bob.h5',overwrite=True)\n",
    "# eve.save('eve.h5',overwrite=True)"
   ]
  },
  {
   "cell_type": "markdown",
   "metadata": {
    "id": "0LhACMwUzTyb"
   },
   "source": [
    "## Evaluate"
   ]
  },
  {
   "cell_type": "code",
   "execution_count": 46,
   "metadata": {
    "colab": {
     "base_uri": "https://localhost:8080/"
    },
    "id": "6azCU2kBzXtF",
    "outputId": "b3ceeea2-ff8b-4e56-8303-e604ade81918"
   },
   "outputs": [
    {
     "name": "stdout",
     "output_type": "stream",
     "text": [
      "Bob % correct:  99.99 %\n",
      "Eve % correct:  0.14 %\n"
     ]
    }
   ],
   "source": [
    "n_examples = 10000\n",
    "m_batch = np.random.randint(0, 2, m_bits * n_examples).reshape(n_examples, m_bits)\n",
    "k_batch = np.random.randint(0, 2, m_bits * n_examples).reshape(n_examples, m_bits)\n",
    "\n",
    "m_enc = alice.predict([m_batch, k_batch])\n",
    "m_dec = (bob.predict([m_enc, k_batch]) > 0.5).astype(int)\n",
    "m_att = (eve.predict(m_enc) > 0.5).astype(int)\n",
    "\n",
    "bdiff = np.abs(m_batch - m_dec)\n",
    "bsum = np.sum(bdiff, axis=-1)\n",
    "ediff = np.abs(m_batch - m_att)\n",
    "esum = np.sum(ediff, axis=-1)\n",
    "\n",
    "print(\"Bob % correct: \", 100.0*np.sum(bsum == 0) / n_examples, '%')\n",
    "print(\"Eve % correct: \", 100.0*np.sum(esum == 0) / n_examples, '%')"
   ]
  },
  {
   "cell_type": "code",
   "execution_count": 6,
   "metadata": {},
   "outputs": [
    {
     "name": "stdout",
     "output_type": "stream",
     "text": [
      "Python 3.6.13 :: Anaconda, Inc.\n"
     ]
    }
   ],
   "source": [
    "!python -V"
   ]
  },
  {
   "cell_type": "code",
   "execution_count": 5,
   "metadata": {
    "colab": {
     "base_uri": "https://localhost:8080/"
    },
    "id": "HgorNtveFsg0",
    "outputId": "9fcc29ad-9f94-4a4a-c802-d1afbd305c77"
   },
   "outputs": [
    {
     "data": {
      "text/plain": [
       "array([1, 1, 1, 0, 0, 0, 1, 1, 1, 0, 0, 0, 1, 1, 1, 1])"
      ]
     },
     "execution_count": 5,
     "metadata": {},
     "output_type": "execute_result"
    }
   ],
   "source": [
    "# Input format\n",
    "\n",
    "# !pip3 install joblib\n",
    "\n",
    "# load_model works with Python 3.6.13 :: Anaconda, Inc.\n",
    "\n",
    "import joblib\n",
    "\n",
    "alice1 = load_model('alice.h5')\n",
    "bob1 = load_model('bob.h5')\n",
    "eve1 = load_model('eve.h5')\n",
    "\n",
    "message = np.array([[0, 0, 0, 0, 0, 0, 1, 1, 0, 1, 1, 0, 1, 1, 1, 1],\n",
    "                    [1, 1, 1, 0, 0, 0, 1, 1, 1, 0, 0, 0, 1, 1, 1, 1]])\n",
    "key = np.array([[0, 0, 0, 0, 0, 0, 1, 1, 0, 1, 1, 0, 1, 1, 1, 1],\n",
    "                [0, 0, 0, 1, 1, 1, 0, 0, 0, 1, 1, 1, 1, 1, 1, 1]])\n",
    "\n",
    "cipher = alice1.predict([message, key])\n",
    "\n",
    "decipher = (bob1.predict([cipher, key]) > 0.5).astype(int)\n",
    "\n",
    "adversary = (eve1.predict(cipher) > 0.5).astype(int)\n",
    "\n",
    "decipher[1]\n",
    "\n",
    "# Input must be numpy array"
   ]
  },
  {
   "cell_type": "code",
   "execution_count": null,
   "metadata": {},
   "outputs": [],
   "source": [
    "# !pip install h5py==2.10.0"
   ]
  },
  {
   "cell_type": "code",
   "execution_count": null,
   "metadata": {
    "colab": {
     "base_uri": "https://localhost:8080/"
    },
    "id": "U8Dn7DWCDZx1",
    "outputId": "347a9f2e-f7ca-4211-de4e-fafdd09dc624"
   },
   "outputs": [
    {
     "data": {
      "text/plain": [
       "array([[0, 0, 0, ..., 0, 1, 1],\n",
       "       [1, 0, 1, ..., 1, 0, 1],\n",
       "       [0, 0, 0, ..., 1, 0, 1],\n",
       "       ...,\n",
       "       [0, 1, 0, ..., 1, 1, 1],\n",
       "       [1, 1, 0, ..., 1, 0, 1],\n",
       "       [1, 1, 0, ..., 0, 1, 1]])"
      ]
     },
     "execution_count": 52,
     "metadata": {},
     "output_type": "execute_result"
    }
   ],
   "source": [
    "(bob.predict([m_enc, k_batch]) > 0.5).astype(int)"
   ]
  },
  {
   "cell_type": "code",
   "execution_count": null,
   "metadata": {
    "colab": {
     "base_uri": "https://localhost:8080/"
    },
    "id": "KKXZK3eDGHJ4",
    "outputId": "d68861a7-fbf0-4d02-b6c6-6cadeebc1147"
   },
   "outputs": [
    {
     "data": {
      "text/plain": [
       "array([[0, 0, 1, ..., 0, 1, 1],\n",
       "       [0, 0, 0, ..., 1, 0, 1],\n",
       "       [0, 0, 1, ..., 1, 0, 1],\n",
       "       ...,\n",
       "       [0, 1, 1, ..., 1, 0, 1],\n",
       "       [0, 1, 0, ..., 1, 0, 1],\n",
       "       [1, 1, 1, ..., 0, 0, 1]])"
      ]
     },
     "execution_count": 53,
     "metadata": {},
     "output_type": "execute_result"
    }
   ],
   "source": [
    "(eve.predict(m_enc) > 0.5 ).astype(int)"
   ]
  },
  {
   "cell_type": "markdown",
   "metadata": {
    "id": "d1S5NPeGE-EG"
   },
   "source": [
    "Make Epochs 50 for better visualization"
   ]
  }
 ],
 "metadata": {
  "colab": {
   "collapsed_sections": [],
   "name": "FYP_ANC.ipynb",
   "provenance": []
  },
  "kernelspec": {
   "display_name": "Python 3 (ipykernel)",
   "language": "python",
   "name": "python3"
  },
  "language_info": {
   "codemirror_mode": {
    "name": "ipython",
    "version": 3
   },
   "file_extension": ".py",
   "mimetype": "text/x-python",
   "name": "python",
   "nbconvert_exporter": "python",
   "pygments_lexer": "ipython3",
   "version": "3.6.13"
  }
 },
 "nbformat": 4,
 "nbformat_minor": 1
}
